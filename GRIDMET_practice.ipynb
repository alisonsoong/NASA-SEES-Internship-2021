{
  "nbformat": 4,
  "nbformat_minor": 0,
  "metadata": {
    "colab": {
      "name": "GRIDMET practice.ipynb",
      "provenance": [],
      "collapsed_sections": [
        "zPqmJoV9cJx1"
      ],
      "authorship_tag": "ABX9TyOkAJjWXmeG3xPCqCZYIuz2",
      "include_colab_link": true
    },
    "kernelspec": {
      "name": "python3",
      "display_name": "Python 3"
    },
    "language_info": {
      "name": "python"
    }
  },
  "cells": [
    {
      "cell_type": "markdown",
      "metadata": {
        "id": "view-in-github",
        "colab_type": "text"
      },
      "source": [
        "<a href=\"https://colab.research.google.com/github/alisonsoong/NASA-SEES-Internship-2021/blob/main/GRIDMET_practice.ipynb\" target=\"_parent\"><img src=\"https://colab.research.google.com/assets/colab-badge.svg\" alt=\"Open In Colab\"/></a>"
      ]
    },
    {
      "cell_type": "markdown",
      "metadata": {
        "id": "IaNH8QjHfGN9"
      },
      "source": [
        "Created by Alison Soong\n"
      ]
    },
    {
      "cell_type": "markdown",
      "metadata": {
        "id": "zPqmJoV9cJx1"
      },
      "source": [
        "# Import libraries"
      ]
    },
    {
      "cell_type": "code",
      "metadata": {
        "id": "9C3M95OWjNX3"
      },
      "source": [
        "import ee # Import Earth Engine API"
      ],
      "execution_count": 1,
      "outputs": []
    },
    {
      "cell_type": "code",
      "metadata": {
        "id": "wJXov3EFGt5S",
        "colab": {
          "base_uri": "https://localhost:8080/"
        },
        "outputId": "1469f328-d499-4ef3-ce36-d6e69605dd17"
      },
      "source": [
        "## Trigger the authentication flow. You only need to do this once\n",
        "ee.Authenticate()\n",
        "\n",
        "# Initialize the library.\n",
        "ee.Initialize()"
      ],
      "execution_count": 2,
      "outputs": [
        {
          "output_type": "stream",
          "text": [
            "To authorize access needed by Earth Engine, open the following URL in a web browser and follow the instructions. If the web browser does not start automatically, please manually browse the URL below.\n",
            "\n",
            "    https://accounts.google.com/o/oauth2/auth?client_id=517222506229-vsmmajv00ul0bs7p89v5m89qs8eb9359.apps.googleusercontent.com&scope=https%3A%2F%2Fwww.googleapis.com%2Fauth%2Fearthengine+https%3A%2F%2Fwww.googleapis.com%2Fauth%2Fdevstorage.full_control&redirect_uri=urn%3Aietf%3Awg%3Aoauth%3A2.0%3Aoob&response_type=code&code_challenge=7awf-KRZYr_TqDi51fgNU_Umim7NB-LeV6-8JG9t4Ec&code_challenge_method=S256\n",
            "\n",
            "The authorization workflow will generate a code, which you should paste in the box below. \n",
            "Enter verification code: 4/1AX4XfWhppAMe-qPLhDlGWVjO63M0JjBeFBaFniJrpOX7tU2z2-UvUiJOSrE\n",
            "\n",
            "Successfully saved authorization token.\n"
          ],
          "name": "stdout"
        }
      ]
    },
    {
      "cell_type": "code",
      "metadata": {
        "id": "r4Gxi5qjjNX2",
        "colab": {
          "base_uri": "https://localhost:8080/"
        },
        "outputId": "4ac48ceb-949d-4864-8642-f26cbfa1bf0e"
      },
      "source": [
        "# Installs geemap package\n",
        "import subprocess\n",
        "\n",
        "try:\n",
        "    import geemap\n",
        "    print(\"geemap is imported and ready to use in Colab\")\n",
        "except ImportError:\n",
        "    print('geemap package not installed. Installing ...')\n",
        "    subprocess.check_call([\"python\", '-m', 'pip', 'install', 'geemap'])\n",
        "    import geemap\n",
        "    print(\"geemap is now installed, imported and ready to use in Colab\") \n"
      ],
      "execution_count": 3,
      "outputs": [
        {
          "output_type": "stream",
          "text": [
            "geemap package not installed. Installing ...\n",
            "geemap is now installed, imported and ready to use in Colab\n"
          ],
          "name": "stdout"
        }
      ]
    },
    {
      "cell_type": "code",
      "metadata": {
        "id": "mkLftfdEr-tc"
      },
      "source": [
        "try:\n",
        "    import geemap\n",
        "    import ee\n",
        "    import seaborn as sns\n",
        "    import matplotlib.pyplot as plt\n",
        "except ModuleNotFoundError:\n",
        "    if 'google.colab' in str(get_ipython()):\n",
        "        print(\"package not found, installing w/ pip in Google Colab...\")\n",
        "        !pip install geemap seaborn matplotlib\n",
        "    else:\n",
        "        print(\"package not found, installing w/ conda...\")\n",
        "        !conda install mamba -c conda-forge -y\n",
        "        !mamba install geemap -c conda-forge -y\n",
        "        !conda install seaborn matplotlib -y\n",
        "    import geemap\n",
        "    import ee\n",
        "    import seaborn as sns\n",
        "    import matplotlib.pyplot as plt"
      ],
      "execution_count": 4,
      "outputs": []
    },
    {
      "cell_type": "markdown",
      "metadata": {
        "id": "UzPmUtnCjqVh"
      },
      "source": [
        ""
      ]
    },
    {
      "cell_type": "markdown",
      "metadata": {
        "id": "N7UoA7NRXOvc"
      },
      "source": [
        "# Wildfire Risk and populations"
      ]
    },
    {
      "cell_type": "code",
      "metadata": {
        "id": "BR5B3Ra2XR0C"
      },
      "source": [
        "california_area = ee.FeatureCollection(\"TIGER/2018/States\").filter(ee.Filter.eq('NAME', 'California'))\n",
        "landcover = ee.ImageCollection('USGS/NLCD').select('landcover').filterDate(\"2016-01-01\", \"2017-01-01\").first().clip(california_area)"
      ],
      "execution_count": 21,
      "outputs": []
    },
    {
      "cell_type": "code",
      "metadata": {
        "id": "AKFSbKkxkWmf"
      },
      "source": [
        "dataset = ee.ImageCollection('IDAHO_EPSCOR/GRIDMET').filter(ee.Filter.date('2020-01-01', '2021-01-15'))\n",
        "\n",
        "maximumTemperature = dataset.select('tmmx').mean().clip(california_area)\n",
        "\n",
        "temp_params = {\n",
        "  'min': 290.0,\n",
        "  'max': 314.0,\n",
        "  'palette': ['d8d8d8', '4addff', '5affa3', 'f2ff89', 'ff725c']\n",
        "}\n",
        "\n",
        "tempCur = maximumTemperature.select('tmmx')\n",
        "tempThree = tempCur.updateMask(tempCur.gt(300))\n",
        "tempTwo = tempCur.updateMask(tempCur.gt(294).And(tempCur.lte(300))) \n",
        "tempOne = tempCur.updateMask(tempCur.gt(288).And(tempCur.lte(294))) \n",
        "tempZero = tempCur.updateMask(tempCur.lte(288)) \n",
        "\n",
        "# individual EVI scoring\n",
        "tempThree = tempThree.where(tempCur.gt(300), 3)\n",
        "tempTwo = tempTwo.where(tempCur.gt(294).And(tempCur.lte(300)), 2)\n",
        "tempOne = tempOne.where(tempCur.gt(288).And(tempCur.lte(294)), 1)\n",
        "tempZero = tempZero.where(tempCur.lte(288), 0)\n",
        "\n",
        "# combined EVI\n",
        "tempCur = tempCur.where(tempCur.gt(300), 3)\n",
        "tempCur = tempCur.where(tempCur.gt(294).And(tempCur.lte(300)), 2)\n",
        "tempCur = tempCur.where(tempCur.gt(288).And(tempCur.lte(294)), 1)\n",
        "tempCur = tempCur.where(tempCur.lte(288).And(tempCur.gt(4)), 0)\n",
        "\n",
        "# mask for areas that are not affected (water, certain marshland, etc)\n",
        "tempCur = tempCur.updateMask(landcover.neq(11).And(landcover.neq(12)).And(landcover.neq(90)).And(landcover.neq(95)))\n",
        "\n"
      ],
      "execution_count": 48,
      "outputs": []
    },
    {
      "cell_type": "code",
      "metadata": {
        "id": "4vh2292aqS2n"
      },
      "source": [
        "dataset = ee.ImageCollection('IDAHO_EPSCOR/GRIDMET').filter(ee.Filter.date('2020-01-01', '2021-01-15'))\n",
        "\n",
        "minHumid = dataset.select('rmin').mean().clip(california_area)\n",
        "\n",
        "humid_params = {\n",
        "  'min': 0.0,\n",
        "  'max': 100.0,\n",
        "  'palette': ['d8d8d8', '4addff', '5affa3', 'f2ff89', 'ff725c']\n",
        "}\n",
        "\n",
        "# 0 to 15 is score 3, 15 to 30 is score 2, 30 to 60 is score 1, above 60 is score 0\n",
        "humidCur = minHumid.select('rmin')\n",
        "humidFour = humidCur.updateMask(humidCur.lte(15))\n",
        "humidThree = humidCur.updateMask(humidCur.gt(15).And(humidCur.lte(30))) \n",
        "humidTwo = humidCur.updateMask(humidCur.gt(30).And(humidCur.lte(60))) \n",
        "humidOne = humidCur.updateMask(humidCur.gt(60).And(humidCur.lte(80))) \n",
        "humidZero = humidCur.updateMask(humidCur.gt(80)) \n",
        "\n",
        "# individual EVI scoring\n",
        "humidFour = humidFour.where(humidCur.lte(15), 4)\n",
        "humidThree = humidThree.where(humidCur.gt(15).And(humidCur.lte(30)), 3)\n",
        "humidTwo = humidTwo.where(humidCur.gt(30).And(humidCur.lte(60)), 2)\n",
        "humidOne = humidOne.where(humidCur.gt(60).And(humidCur.lte(80)), 1)\n",
        "humidZero = humidZero.where(humidCur.gt(80), 0)\n",
        "\n",
        "# combined EVI\n",
        "humidCur = humidCur.where(humidCur.lte(15), 4)\n",
        "humidCur = humidCur.where(humidCur.gt(15).And(humidCur.lte(30)), 3)\n",
        "humidCur = humidCur.where(humidCur.gt(30).And(humidCur.lte(60)), 2)\n",
        "humidCur = humidCur.where(humidCur.gt(60).And(humidCur.lte(80)), 1)\n",
        "humidCur = humidCur.where(humidCur.gt(80), 0)\n",
        "\n",
        "# mask for areas that are not affected (water, certain marshland, etc)\n",
        "humidCur = humidCur.updateMask(landcover.neq(11).And(landcover.neq(12)).And(landcover.neq(90)).And(landcover.neq(95)))\n",
        "\n"
      ],
      "execution_count": 66,
      "outputs": []
    },
    {
      "cell_type": "code",
      "metadata": {
        "id": "Wh0-rpWotVZJ"
      },
      "source": [
        "dataset = ee.ImageCollection('IDAHO_EPSCOR/GRIDMET').filter(ee.Filter.date('2020-01-01', '2021-01-15'))\n",
        "\n",
        "windVel = dataset.select('vs').mean().clip(california_area)\n",
        "\n",
        "wind_params = {\n",
        "  'min': 0.0,\n",
        "  'max': 30.0,\n",
        "  'palette': ['d8d8d8', '4addff', '5affa3', 'f2ff89', 'ff725c']\n",
        "}\n",
        "\n",
        "# frequent gusts, of 25 mph or greater. Thus 0-5 is score 0, 6-25 is score 1, and >25 is score 2 for miles per hour\n",
        "# thus for meters/secondo -> >11 is score 3, 6-11 is score , 2-6 is score 1, and 0-2 is score 0\n",
        "\n",
        "windCur = windVel.select('vs')\n",
        "windThree = windCur.updateMask(windCur.gte(25))\n",
        "windTwo = windCur.updateMask(windCur.gte(15).And(windCur.lt(25))) \n",
        "windOne = windCur.updateMask(windCur.gte(5).And(windCur.lt(15))) \n",
        "windZero = windCur.updateMask(windCur.gte(0).And(windCur.lt(5))) \n",
        "\n",
        "# individual EVI scoring\n",
        "windThree = windThree.where(windCur.gte(25), 3)\n",
        "windTwo = windTwo.where(windCur.gte(15).And(windCur.lt(25)), 2)\n",
        "windOne = windOne.where(windCur.gte(5).And(windCur.lt(15)), 1)\n",
        "windZero = windZero.where(windCur.gte(0).And(windCur.lt(5)), 0)\n",
        "\n",
        "# combined EVI\n",
        "windCur = windCur.where(windCur.lt(3), 0)\n",
        "windCur = windCur.where(windCur.gte(3).And(windCur.lt(5)), 1)\n",
        "windCur = windCur.where(windCur.gte(5).And(windCur.lt(7)), 2)\n",
        "windCur = windCur.where(windCur.gte(7), 3)\n",
        "\n",
        "# mask for areas that are not affected (water, certain marshland, etc)\n",
        "windCur = windCur.updateMask(landcover.neq(11).And(landcover.neq(12)).And(landcover.neq(90)).And(landcover.neq(95)))\n",
        "\n"
      ],
      "execution_count": 193,
      "outputs": []
    },
    {
      "cell_type": "code",
      "metadata": {
        "colab": {
          "base_uri": "https://localhost:8080/",
          "height": 808
        },
        "id": "ETksnL2dX0Pz",
        "outputId": "5f8ccb38-0239-435c-eabc-617d5683d54a"
      },
      "source": [
        "# Map it!\n",
        "\n",
        "Map = geemap.Map()\n",
        "\n",
        "Map.add_basemap(\"SATELLITE\")\n",
        "\n",
        "roi = ee.Geometry.Point(-118.6304, 37.3003) # (long, lat)\n",
        "Map.centerObject(roi, 6)\n",
        "Map.setCenter(-115.356, 38.686, 5)\n",
        "\n",
        "# Temperature\n",
        "# Map.addLayer(maximumTemperature, temp_params, 'Maximum Temperature', False)\n",
        "# Map.addLayer(tempCur, {'min': 0, 'max': 3, 'palette': ['ece2f0','a6bddb','1c9099']}, 'masked max temp')\n",
        "\n",
        "# Humidity\n",
        "# Map.addLayer(minHumid, humid_params, 'humidity', False)\n",
        "# Map.addLayer(humidCur, {'min': 0, 'max': 4, 'palette': ['white','ece2f0','a6bddb','1c9099']}, 'masked min humid')\n",
        "\n",
        "# Wind\n",
        "# Map.addLayer(windVel, wind_params, 'wind vel', False)\n",
        "# Map.addLayer(windCur, {'min': 0, 'max': 3, 'palette': ['ece2f0','a6bddb','1c9099']}, 'masked wind vel')\n",
        "\n",
        "Map.addLayerControl()\n",
        "Map"
      ],
      "execution_count": 194,
      "outputs": [
        {
          "output_type": "execute_result",
          "data": {
            "text/html": [
              "<div style=\"width:100%;\"><div style=\"position:relative;width:100%;height:0;padding-bottom:60%;\"><span style=\"color:#565656\">Make this Notebook Trusted to load map: File -> Trust Notebook</span><iframe src=\"about:blank\" style=\"position:absolute;width:100%;height:100%;left:0;top:0;border:none !important;\" data-html=%3C%21DOCTYPE%20html%3E%0A%3Chead%3E%20%20%20%20%0A%20%20%20%20%3Cmeta%20http-equiv%3D%22content-type%22%20content%3D%22text/html%3B%20charset%3DUTF-8%22%20/%3E%0A%20%20%20%20%0A%20%20%20%20%20%20%20%20%3Cscript%3E%0A%20%20%20%20%20%20%20%20%20%20%20%20L_NO_TOUCH%20%3D%20false%3B%0A%20%20%20%20%20%20%20%20%20%20%20%20L_DISABLE_3D%20%3D%20false%3B%0A%20%20%20%20%20%20%20%20%3C/script%3E%0A%20%20%20%20%0A%20%20%20%20%3Cstyle%3Ehtml%2C%20body%20%7Bwidth%3A%20100%25%3Bheight%3A%20100%25%3Bmargin%3A%200%3Bpadding%3A%200%3B%7D%3C/style%3E%0A%20%20%20%20%3Cstyle%3E%23map%20%7Bposition%3Aabsolute%3Btop%3A0%3Bbottom%3A0%3Bright%3A0%3Bleft%3A0%3B%7D%3C/style%3E%0A%20%20%20%20%3Cscript%20src%3D%22https%3A//cdn.jsdelivr.net/npm/leaflet%401.6.0/dist/leaflet.js%22%3E%3C/script%3E%0A%20%20%20%20%3Cscript%20src%3D%22https%3A//code.jquery.com/jquery-1.12.4.min.js%22%3E%3C/script%3E%0A%20%20%20%20%3Cscript%20src%3D%22https%3A//maxcdn.bootstrapcdn.com/bootstrap/3.2.0/js/bootstrap.min.js%22%3E%3C/script%3E%0A%20%20%20%20%3Cscript%20src%3D%22https%3A//cdnjs.cloudflare.com/ajax/libs/Leaflet.awesome-markers/2.0.2/leaflet.awesome-markers.js%22%3E%3C/script%3E%0A%20%20%20%20%3Clink%20rel%3D%22stylesheet%22%20href%3D%22https%3A//cdn.jsdelivr.net/npm/leaflet%401.6.0/dist/leaflet.css%22/%3E%0A%20%20%20%20%3Clink%20rel%3D%22stylesheet%22%20href%3D%22https%3A//maxcdn.bootstrapcdn.com/bootstrap/3.2.0/css/bootstrap.min.css%22/%3E%0A%20%20%20%20%3Clink%20rel%3D%22stylesheet%22%20href%3D%22https%3A//maxcdn.bootstrapcdn.com/bootstrap/3.2.0/css/bootstrap-theme.min.css%22/%3E%0A%20%20%20%20%3Clink%20rel%3D%22stylesheet%22%20href%3D%22https%3A//maxcdn.bootstrapcdn.com/font-awesome/4.6.3/css/font-awesome.min.css%22/%3E%0A%20%20%20%20%3Clink%20rel%3D%22stylesheet%22%20href%3D%22https%3A//cdnjs.cloudflare.com/ajax/libs/Leaflet.awesome-markers/2.0.2/leaflet.awesome-markers.css%22/%3E%0A%20%20%20%20%3Clink%20rel%3D%22stylesheet%22%20href%3D%22https%3A//cdn.jsdelivr.net/gh/python-visualization/folium/folium/templates/leaflet.awesome.rotate.min.css%22/%3E%0A%20%20%20%20%0A%20%20%20%20%20%20%20%20%20%20%20%20%3Cmeta%20name%3D%22viewport%22%20content%3D%22width%3Ddevice-width%2C%0A%20%20%20%20%20%20%20%20%20%20%20%20%20%20%20%20initial-scale%3D1.0%2C%20maximum-scale%3D1.0%2C%20user-scalable%3Dno%22%20/%3E%0A%20%20%20%20%20%20%20%20%20%20%20%20%3Cstyle%3E%0A%20%20%20%20%20%20%20%20%20%20%20%20%20%20%20%20%23map_623990785bcf4666972d3c016f11e62a%20%7B%0A%20%20%20%20%20%20%20%20%20%20%20%20%20%20%20%20%20%20%20%20position%3A%20relative%3B%0A%20%20%20%20%20%20%20%20%20%20%20%20%20%20%20%20%20%20%20%20width%3A%20100.0%25%3B%0A%20%20%20%20%20%20%20%20%20%20%20%20%20%20%20%20%20%20%20%20height%3A%20100.0%25%3B%0A%20%20%20%20%20%20%20%20%20%20%20%20%20%20%20%20%20%20%20%20left%3A%200.0%25%3B%0A%20%20%20%20%20%20%20%20%20%20%20%20%20%20%20%20%20%20%20%20top%3A%200.0%25%3B%0A%20%20%20%20%20%20%20%20%20%20%20%20%20%20%20%20%7D%0A%20%20%20%20%20%20%20%20%20%20%20%20%3C/style%3E%0A%20%20%20%20%20%20%20%20%0A%20%20%20%20%3Cscript%20src%3D%22https%3A//cdnjs.cloudflare.com/ajax/libs/leaflet.fullscreen/1.4.2/Control.FullScreen.min.js%22%3E%3C/script%3E%0A%20%20%20%20%3Clink%20rel%3D%22stylesheet%22%20href%3D%22https%3A//cdnjs.cloudflare.com/ajax/libs/leaflet.fullscreen/1.4.2/Control.FullScreen.min.css%22/%3E%0A%3C/head%3E%0A%3Cbody%3E%20%20%20%20%0A%20%20%20%20%0A%20%20%20%20%20%20%20%20%20%20%20%20%3Cdiv%20class%3D%22folium-map%22%20id%3D%22map_623990785bcf4666972d3c016f11e62a%22%20%3E%3C/div%3E%0A%20%20%20%20%20%20%20%20%0A%3C/body%3E%0A%3Cscript%3E%20%20%20%20%0A%20%20%20%20%0A%20%20%20%20%20%20%20%20%20%20%20%20var%20map_623990785bcf4666972d3c016f11e62a%20%3D%20L.map%28%0A%20%20%20%20%20%20%20%20%20%20%20%20%20%20%20%20%22map_623990785bcf4666972d3c016f11e62a%22%2C%0A%20%20%20%20%20%20%20%20%20%20%20%20%20%20%20%20%7B%0A%20%20%20%20%20%20%20%20%20%20%20%20%20%20%20%20%20%20%20%20center%3A%20%5B40.0%2C%20-100.0%5D%2C%0A%20%20%20%20%20%20%20%20%20%20%20%20%20%20%20%20%20%20%20%20crs%3A%20L.CRS.EPSG3857%2C%0A%20%20%20%20%20%20%20%20%20%20%20%20%20%20%20%20%20%20%20%20zoom%3A%204%2C%0A%20%20%20%20%20%20%20%20%20%20%20%20%20%20%20%20%20%20%20%20zoomControl%3A%20true%2C%0A%20%20%20%20%20%20%20%20%20%20%20%20%20%20%20%20%20%20%20%20preferCanvas%3A%20false%2C%0A%20%20%20%20%20%20%20%20%20%20%20%20%20%20%20%20%20%20%20%20eeInitialize%3A%20true%2C%0A%20%20%20%20%20%20%20%20%20%20%20%20%20%20%20%20%20%20%20%20addGoogleMap%3A%20true%2C%0A%20%20%20%20%20%20%20%20%20%20%20%20%20%20%20%20%20%20%20%20pluginLatlngpopup%3A%20true%2C%0A%20%20%20%20%20%20%20%20%20%20%20%20%20%20%20%20%20%20%20%20pluginFullscreen%3A%20true%2C%0A%20%20%20%20%20%20%20%20%20%20%20%20%20%20%20%20%20%20%20%20pluginDraw%3A%20false%2C%0A%20%20%20%20%20%20%20%20%20%20%20%20%20%20%20%20%20%20%20%20DrawExport%3A%20true%2C%0A%20%20%20%20%20%20%20%20%20%20%20%20%20%20%20%20%20%20%20%20pluginMinimap%3A%20false%2C%0A%20%20%20%20%20%20%20%20%20%20%20%20%20%20%20%20%20%20%20%20pluginLayercontrol%3A%20false%2C%0A%20%20%20%20%20%20%20%20%20%20%20%20%20%20%20%20%7D%0A%20%20%20%20%20%20%20%20%20%20%20%20%29%3B%0A%0A%20%20%20%20%20%20%20%20%20%20%20%20%0A%0A%20%20%20%20%20%20%20%20%0A%20%20%20%20%0A%20%20%20%20%20%20%20%20%20%20%20%20var%20tile_layer_9204bd10fffc45679054e34f7f7ac2f7%20%3D%20L.tileLayer%28%0A%20%20%20%20%20%20%20%20%20%20%20%20%20%20%20%20%22https%3A//%7Bs%7D.tile.openstreetmap.org/%7Bz%7D/%7Bx%7D/%7By%7D.png%22%2C%0A%20%20%20%20%20%20%20%20%20%20%20%20%20%20%20%20%7B%22attribution%22%3A%20%22Data%20by%20%5Cu0026copy%3B%20%5Cu003ca%20href%3D%5C%22http%3A//openstreetmap.org%5C%22%5Cu003eOpenStreetMap%5Cu003c/a%5Cu003e%2C%20under%20%5Cu003ca%20href%3D%5C%22http%3A//www.openstreetmap.org/copyright%5C%22%5Cu003eODbL%5Cu003c/a%5Cu003e.%22%2C%20%22detectRetina%22%3A%20false%2C%20%22maxNativeZoom%22%3A%2018%2C%20%22maxZoom%22%3A%2018%2C%20%22minZoom%22%3A%200%2C%20%22noWrap%22%3A%20false%2C%20%22opacity%22%3A%201%2C%20%22subdomains%22%3A%20%22abc%22%2C%20%22tms%22%3A%20false%7D%0A%20%20%20%20%20%20%20%20%20%20%20%20%29.addTo%28map_623990785bcf4666972d3c016f11e62a%29%3B%0A%20%20%20%20%20%20%20%20%0A%20%20%20%20%0A%20%20%20%20%20%20%20%20%20%20%20%20var%20tile_layer_50c9d9b6c91d4c69bbcc1237deb607bb%20%3D%20L.tileLayer%28%0A%20%20%20%20%20%20%20%20%20%20%20%20%20%20%20%20%22https%3A//mt1.google.com/vt/lyrs%3Dm%5Cu0026x%3D%7Bx%7D%5Cu0026y%3D%7By%7D%5Cu0026z%3D%7Bz%7D%22%2C%0A%20%20%20%20%20%20%20%20%20%20%20%20%20%20%20%20%7B%22attribution%22%3A%20%22Google%22%2C%20%22detectRetina%22%3A%20false%2C%20%22maxNativeZoom%22%3A%2018%2C%20%22maxZoom%22%3A%2018%2C%20%22minZoom%22%3A%200%2C%20%22noWrap%22%3A%20false%2C%20%22opacity%22%3A%201%2C%20%22subdomains%22%3A%20%22abc%22%2C%20%22tms%22%3A%20false%7D%0A%20%20%20%20%20%20%20%20%20%20%20%20%29.addTo%28map_623990785bcf4666972d3c016f11e62a%29%3B%0A%20%20%20%20%20%20%20%20%0A%20%20%20%20%0A%20%20%20%20%20%20%20%20%20%20%20%20%20%20%20%20var%20lat_lng_popup_0c540bfc430f4fe199862603afb8e35d%20%3D%20L.popup%28%29%3B%0A%20%20%20%20%20%20%20%20%20%20%20%20%20%20%20%20function%20latLngPop%28e%29%20%7B%0A%20%20%20%20%20%20%20%20%20%20%20%20%20%20%20%20%20%20%20%20lat_lng_popup_0c540bfc430f4fe199862603afb8e35d%0A%20%20%20%20%20%20%20%20%20%20%20%20%20%20%20%20%20%20%20%20%20%20%20%20.setLatLng%28e.latlng%29%0A%20%20%20%20%20%20%20%20%20%20%20%20%20%20%20%20%20%20%20%20%20%20%20%20.setContent%28%22Latitude%3A%20%22%20%2B%20e.latlng.lat.toFixed%284%29%20%2B%0A%20%20%20%20%20%20%20%20%20%20%20%20%20%20%20%20%20%20%20%20%20%20%20%20%20%20%20%20%20%20%20%20%20%20%20%20%22%3Cbr%3ELongitude%3A%20%22%20%2B%20e.latlng.lng.toFixed%284%29%29%0A%20%20%20%20%20%20%20%20%20%20%20%20%20%20%20%20%20%20%20%20%20%20%20%20.openOn%28map_623990785bcf4666972d3c016f11e62a%29%3B%0A%20%20%20%20%20%20%20%20%20%20%20%20%20%20%20%20%20%20%20%20%7D%0A%20%20%20%20%20%20%20%20%20%20%20%20%20%20%20%20map_623990785bcf4666972d3c016f11e62a.on%28%27click%27%2C%20latLngPop%29%3B%0A%20%20%20%20%20%20%20%20%20%20%20%20%0A%20%20%20%20%0A%20%20%20%20%20%20%20%20%20%20%20%20L.control.fullscreen%28%0A%20%20%20%20%20%20%20%20%20%20%20%20%20%20%20%20%7B%22forceSeparateButton%22%3A%20false%2C%20%22position%22%3A%20%22topleft%22%2C%20%22title%22%3A%20%22Full%20Screen%22%2C%20%22titleCancel%22%3A%20%22Exit%20Full%20Screen%22%7D%0A%20%20%20%20%20%20%20%20%20%20%20%20%29.addTo%28map_623990785bcf4666972d3c016f11e62a%29%3B%0A%20%20%20%20%20%20%20%20%0A%20%20%20%20%0A%20%20%20%20%20%20%20%20%20%20%20%20map_623990785bcf4666972d3c016f11e62a.fitBounds%28%0A%20%20%20%20%20%20%20%20%20%20%20%20%20%20%20%20%5B%5B40%2C%20-100%5D%2C%20%5B40%2C%20-100%5D%5D%2C%0A%20%20%20%20%20%20%20%20%20%20%20%20%20%20%20%20%7B%22maxZoom%22%3A%204%7D%0A%20%20%20%20%20%20%20%20%20%20%20%20%29%3B%0A%20%20%20%20%20%20%20%20%0A%20%20%20%20%0A%20%20%20%20%20%20%20%20%20%20%20%20var%20tile_layer_df9eb958b9a345569c96aac9687dae08%20%3D%20L.tileLayer%28%0A%20%20%20%20%20%20%20%20%20%20%20%20%20%20%20%20%22https%3A//mt1.google.com/vt/lyrs%3Ds%5Cu0026x%3D%7Bx%7D%5Cu0026y%3D%7By%7D%5Cu0026z%3D%7Bz%7D%22%2C%0A%20%20%20%20%20%20%20%20%20%20%20%20%20%20%20%20%7B%22attribution%22%3A%20%22Google%22%2C%20%22detectRetina%22%3A%20false%2C%20%22maxNativeZoom%22%3A%2018%2C%20%22maxZoom%22%3A%2018%2C%20%22minZoom%22%3A%200%2C%20%22noWrap%22%3A%20false%2C%20%22opacity%22%3A%201%2C%20%22subdomains%22%3A%20%22abc%22%2C%20%22tms%22%3A%20false%7D%0A%20%20%20%20%20%20%20%20%20%20%20%20%29.addTo%28map_623990785bcf4666972d3c016f11e62a%29%3B%0A%20%20%20%20%20%20%20%20%0A%20%20%20%20%0A%20%20%20%20%20%20%20%20%20%20%20%20map_623990785bcf4666972d3c016f11e62a.fitBounds%28%0A%20%20%20%20%20%20%20%20%20%20%20%20%20%20%20%20%5B%5B37.30029999999999%2C%20-118.63040000000001%5D%2C%20%5B37.30029999999999%2C%20-118.63040000000001%5D%5D%2C%0A%20%20%20%20%20%20%20%20%20%20%20%20%20%20%20%20%7B%22maxZoom%22%3A%206%7D%0A%20%20%20%20%20%20%20%20%20%20%20%20%29%3B%0A%20%20%20%20%20%20%20%20%0A%20%20%20%20%0A%20%20%20%20%20%20%20%20%20%20%20%20map_623990785bcf4666972d3c016f11e62a.fitBounds%28%0A%20%20%20%20%20%20%20%20%20%20%20%20%20%20%20%20%5B%5B38.686%2C%20-115.356%5D%2C%20%5B38.686%2C%20-115.356%5D%5D%2C%0A%20%20%20%20%20%20%20%20%20%20%20%20%20%20%20%20%7B%22maxZoom%22%3A%205%7D%0A%20%20%20%20%20%20%20%20%20%20%20%20%29%3B%0A%20%20%20%20%20%20%20%20%0A%20%20%20%20%0A%20%20%20%20%20%20%20%20%20%20%20%20var%20tile_layer_d2be1044e674430e986e968ba4302882%20%3D%20L.tileLayer%28%0A%20%20%20%20%20%20%20%20%20%20%20%20%20%20%20%20%22https%3A//earthengine.googleapis.com/v1alpha/projects/earthengine-legacy/maps/a811fc53ba5d3a1021e9ee03b2144b08-26e606672300644a91ca64229cf55cf0/tiles/%7Bz%7D/%7Bx%7D/%7By%7D%22%2C%0A%20%20%20%20%20%20%20%20%20%20%20%20%20%20%20%20%7B%22attribution%22%3A%20%22Google%20Earth%20Engine%22%2C%20%22detectRetina%22%3A%20false%2C%20%22maxNativeZoom%22%3A%2018%2C%20%22maxZoom%22%3A%2018%2C%20%22minZoom%22%3A%200%2C%20%22noWrap%22%3A%20false%2C%20%22opacity%22%3A%201.0%2C%20%22subdomains%22%3A%20%22abc%22%2C%20%22tms%22%3A%20false%7D%0A%20%20%20%20%20%20%20%20%20%20%20%20%29.addTo%28map_623990785bcf4666972d3c016f11e62a%29%3B%0A%20%20%20%20%20%20%20%20%0A%20%20%20%20%0A%20%20%20%20%20%20%20%20%20%20%20%20var%20layer_control_08676325edce4437b0a91bccd2a99a3e%20%3D%20%7B%0A%20%20%20%20%20%20%20%20%20%20%20%20%20%20%20%20base_layers%20%3A%20%7B%0A%20%20%20%20%20%20%20%20%20%20%20%20%20%20%20%20%20%20%20%20%22openstreetmap%22%20%3A%20tile_layer_9204bd10fffc45679054e34f7f7ac2f7%2C%0A%20%20%20%20%20%20%20%20%20%20%20%20%20%20%20%20%7D%2C%0A%20%20%20%20%20%20%20%20%20%20%20%20%20%20%20%20overlays%20%3A%20%20%7B%0A%20%20%20%20%20%20%20%20%20%20%20%20%20%20%20%20%20%20%20%20%22Google%20Maps%22%20%3A%20tile_layer_50c9d9b6c91d4c69bbcc1237deb607bb%2C%0A%20%20%20%20%20%20%20%20%20%20%20%20%20%20%20%20%20%20%20%20%22Google%20Satellite%22%20%3A%20tile_layer_df9eb958b9a345569c96aac9687dae08%2C%0A%20%20%20%20%20%20%20%20%20%20%20%20%20%20%20%20%20%20%20%20%22masked%20wind%20vel%22%20%3A%20tile_layer_d2be1044e674430e986e968ba4302882%2C%0A%20%20%20%20%20%20%20%20%20%20%20%20%20%20%20%20%7D%2C%0A%20%20%20%20%20%20%20%20%20%20%20%20%7D%3B%0A%20%20%20%20%20%20%20%20%20%20%20%20L.control.layers%28%0A%20%20%20%20%20%20%20%20%20%20%20%20%20%20%20%20layer_control_08676325edce4437b0a91bccd2a99a3e.base_layers%2C%0A%20%20%20%20%20%20%20%20%20%20%20%20%20%20%20%20layer_control_08676325edce4437b0a91bccd2a99a3e.overlays%2C%0A%20%20%20%20%20%20%20%20%20%20%20%20%20%20%20%20%7B%22autoZIndex%22%3A%20true%2C%20%22collapsed%22%3A%20true%2C%20%22position%22%3A%20%22topright%22%7D%0A%20%20%20%20%20%20%20%20%20%20%20%20%29.addTo%28map_623990785bcf4666972d3c016f11e62a%29%3B%0A%20%20%20%20%20%20%20%20%0A%3C/script%3E onload=\"this.contentDocument.open();this.contentDocument.write(    decodeURIComponent(this.getAttribute('data-html')));this.contentDocument.close();\" allowfullscreen webkitallowfullscreen mozallowfullscreen></iframe></div></div>"
            ],
            "text/plain": [
              "<geemap.foliumap.Map at 0x7f16bbc89b10>"
            ]
          },
          "metadata": {
            "tags": []
          },
          "execution_count": 194
        }
      ]
    },
    {
      "cell_type": "code",
      "metadata": {
        "id": "7Q19Grzif6Kc"
      },
      "source": [
        ""
      ],
      "execution_count": null,
      "outputs": []
    }
  ]
}