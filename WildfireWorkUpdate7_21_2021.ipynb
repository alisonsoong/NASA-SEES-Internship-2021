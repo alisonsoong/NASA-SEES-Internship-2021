{
  "nbformat": 4,
  "nbformat_minor": 0,
  "metadata": {
    "colab": {
      "name": "WildfireWorkUpdate7_21_2021.ipynb",
      "provenance": [],
      "collapsed_sections": [
        "zPqmJoV9cJx1",
        "OEwjn5wN5aR4",
        "BXZqnTk43lRd"
      ],
      "authorship_tag": "ABX9TyMh2kM/dHpk3h6JKuWtXvgk",
      "include_colab_link": true
    },
    "kernelspec": {
      "name": "python3",
      "display_name": "Python 3"
    },
    "language_info": {
      "name": "python"
    }
  },
  "cells": [
    {
      "cell_type": "markdown",
      "metadata": {
        "id": "view-in-github",
        "colab_type": "text"
      },
      "source": [
        "<a href=\"https://colab.research.google.com/github/alisonsoong/NASA-SEES-Internship-2021/blob/main/WildfireWorkUpdate7_21_2021.ipynb\" target=\"_parent\"><img src=\"https://colab.research.google.com/assets/colab-badge.svg\" alt=\"Open In Colab\"/></a>"
      ]
    },
    {
      "cell_type": "markdown",
      "metadata": {
        "id": "IaNH8QjHfGN9"
      },
      "source": [
        "Created by Alison Soong\n"
      ]
    },
    {
      "cell_type": "markdown",
      "metadata": {
        "id": "61CUIlEKjlsf"
      },
      "source": [
        "# Notes"
      ]
    },
    {
      "cell_type": "markdown",
      "metadata": {
        "id": "AEvYvi9PjvAW"
      },
      "source": [
        "Risk factors:\n",
        "- High temperatures (extreme heat)\n",
        "- Low humidity\n",
        "\n",
        "Algorithm ideas:\n",
        "- https://www.ci.richmond.ca.us/DocumentCenter/View/53610/City-of-Richmond-Wildfire-Preparedness-and-Evacuation-Guide \"A home within 10 miles of a wildfire will most likely be effected by wind driven embers which can be a risk to your property\" --> might be a good buffer area to look at\n",
        "\n",
        "\n",
        "Datasets:\n",
        "- https://developers.google.com/earth-engine/datasets/catalog/WorldPop_GP_100m_pop#bands\n",
        "- https://developers.google.com/earth-engine/datasets/catalog/MODIS_006_MCD64A1\n",
        "- https://developers.google.com/earth-engine/datasets/catalog/IDAHO_EPSCOR_GRIDMET#bands (humidity, temperature, wind)\n",
        "\n",
        "References:\n",
        "- https://colab.research.google.com/github/giswqs/geemap/blob/master/examples/notebooks/00_geemap_key_features.ipynb#scrollTo=zduDFJXjyeiz\n",
        "- \n"
      ]
    },
    {
      "cell_type": "markdown",
      "metadata": {
        "id": "zPqmJoV9cJx1"
      },
      "source": [
        "# Import libraries"
      ]
    },
    {
      "cell_type": "code",
      "metadata": {
        "id": "9C3M95OWjNX3"
      },
      "source": [
        "import ee # Import Earth Engine API"
      ],
      "execution_count": 1,
      "outputs": []
    },
    {
      "cell_type": "code",
      "metadata": {
        "id": "wJXov3EFGt5S",
        "colab": {
          "base_uri": "https://localhost:8080/"
        },
        "outputId": "8a02934c-8bbc-464d-ef57-0491d359747f"
      },
      "source": [
        "## Trigger the authentication flow. You only need to do this once\n",
        "ee.Authenticate()\n",
        "\n",
        "# Initialize the library.\n",
        "ee.Initialize()"
      ],
      "execution_count": 2,
      "outputs": [
        {
          "output_type": "stream",
          "text": [
            "To authorize access needed by Earth Engine, open the following URL in a web browser and follow the instructions. If the web browser does not start automatically, please manually browse the URL below.\n",
            "\n",
            "    https://accounts.google.com/o/oauth2/auth?client_id=517222506229-vsmmajv00ul0bs7p89v5m89qs8eb9359.apps.googleusercontent.com&scope=https%3A%2F%2Fwww.googleapis.com%2Fauth%2Fearthengine+https%3A%2F%2Fwww.googleapis.com%2Fauth%2Fdevstorage.full_control&redirect_uri=urn%3Aietf%3Awg%3Aoauth%3A2.0%3Aoob&response_type=code&code_challenge=i7904W-dxz-m72-_84by0UU2flqtw8cN7bK1UHaoCio&code_challenge_method=S256\n",
            "\n",
            "The authorization workflow will generate a code, which you should paste in the box below. \n",
            "Enter verification code: 4/1AX4XfWiEWh34CxLyDDTov13nnI4Lo9wDXqpJPbJQ9dkhJB-mimZGWAs_m5Y\n",
            "\n",
            "Successfully saved authorization token.\n"
          ],
          "name": "stdout"
        }
      ]
    },
    {
      "cell_type": "code",
      "metadata": {
        "id": "r4Gxi5qjjNX2",
        "colab": {
          "base_uri": "https://localhost:8080/"
        },
        "outputId": "03f3eb24-75c5-4dea-f18c-cff3979b70ca"
      },
      "source": [
        "# Installs geemap package\n",
        "import subprocess\n",
        "\n",
        "try:\n",
        "    import geemap\n",
        "    print(\"geemap is imported and ready to use in Colab\")\n",
        "except ImportError:\n",
        "    print('geemap package not installed. Installing ...')\n",
        "    subprocess.check_call([\"python\", '-m', 'pip', 'install', 'geemap'])\n",
        "    import geemap\n",
        "    print(\"geemap is now installed, imported and ready to use in Colab\") \n"
      ],
      "execution_count": 3,
      "outputs": [
        {
          "output_type": "stream",
          "text": [
            "geemap package not installed. Installing ...\n",
            "geemap is now installed, imported and ready to use in Colab\n"
          ],
          "name": "stdout"
        }
      ]
    },
    {
      "cell_type": "code",
      "metadata": {
        "id": "mkLftfdEr-tc"
      },
      "source": [
        "try:\n",
        "    import geemap\n",
        "    import ee\n",
        "    import seaborn as sns\n",
        "    import matplotlib.pyplot as plt\n",
        "except ModuleNotFoundError:\n",
        "    if 'google.colab' in str(get_ipython()):\n",
        "        print(\"package not found, installing w/ pip in Google Colab...\")\n",
        "        !pip install geemap seaborn matplotlib\n",
        "    else:\n",
        "        print(\"package not found, installing w/ conda...\")\n",
        "        !conda install mamba -c conda-forge -y\n",
        "        !mamba install geemap -c conda-forge -y\n",
        "        !conda install seaborn matplotlib -y\n",
        "    import geemap\n",
        "    import ee\n",
        "    import seaborn as sns\n",
        "    import matplotlib.pyplot as plt"
      ],
      "execution_count": 4,
      "outputs": []
    },
    {
      "cell_type": "markdown",
      "metadata": {
        "id": "UzPmUtnCjqVh"
      },
      "source": [
        ""
      ]
    },
    {
      "cell_type": "markdown",
      "metadata": {
        "id": "OEwjn5wN5aR4"
      },
      "source": [
        "# Other ideas"
      ]
    },
    {
      "cell_type": "code",
      "metadata": {
        "id": "BsQF3OUj5cjv"
      },
      "source": [
        "# Map.addLayer(population2, pop_params, \"Population 2020 masked\")\n",
        "# dates = np.arange(2000, 2020)\n",
        "# for year in dates:\n",
        "#     date1 = str(year)+'-01-01'\n",
        "#     date2 = str(year+1)+'-01-01'\n",
        "#     burned = ee.ImageCollection('MODIS/006/MCD64A1').filter(ee.Filter.date('2020-01-01', '2021-01-01'))\n",
        "#     popdataset = ee.ImageCollection(\"WorldPop/GP/100m/pop\")\\\n",
        "#       .filterDate(date1, date2)\n",
        "#     population = popdataset.mean().clip(california_area)\n",
        "#     burnedImage = burned.select('BurnDate').mean().clip(california_area)\n",
        "#     title = \"population \" + str(year)\n",
        "#     title2 = \"burned \" + str(year)\n",
        "#     Map.addLayer(population, pop_params, title, False)\n",
        "#     Map.addLayer(burnedImage, burned_params2, title2, False, 0.3)\n",
        "\n",
        "# burnedBuffer = burned.reduceToVectors().reproject(proj);\n",
        "\n",
        "# burnedBuffer.getInfo()\n",
        "\n",
        "# population2 = popdataset2020.mean().clip(burnedBuffer)\n",
        "\n",
        "# buffer around areas \n",
        "# classes = burned.reduceToVectors(\n",
        "#   reducer=ee.Reducer.countEvery(), \n",
        "#   geometry=california_area,\n",
        "#   scale= 30,\n",
        "#   maxPixels=1e9\n",
        "# )\n",
        "\n",
        "# result = ee.FeatureCollection(classes);\n",
        "\n",
        "# burnedBuffer = burned2020.select('BurnDate').mean().clip(california_area).geometry()\n"
      ],
      "execution_count": null,
      "outputs": []
    },
    {
      "cell_type": "code",
      "metadata": {
        "id": "_TURBFAL2EPA"
      },
      "source": [
        "# Land cover classification using Random Forest (Doesn't quite work)\n",
        "\n",
        "# Part 1: Adding imagery, filtering to area and date range, masking out clouds, and making a composite\n",
        "\n",
        "image = ee.ImageCollection('LANDSAT/LC08/C01/T1_SR').filterBounds(california_area) # to filter the image collection to an area\n",
        "\n",
        "# Function to cloud mask from the pixel_qa band of Landsat 8 SR data. Bits 3 and 5 are cloud shadow and cloud, respectively.\n",
        "def maskL8sr(image):\n",
        "    cloudShadowBitMask = 1 << 3 # bitwise shift left, selecting pixels that have value 3 (cloud shadow)\n",
        "    cloudsBitMask = 1 << 5 # bitwise shift left, selecting pixels that are labeled 5 (clouds)\n",
        "\n",
        "    qa = image.select('pixel_qa')\n",
        "\n",
        "    mask = qa.bitwiseAnd(cloudShadowBitMask).eq(0).And(qa.bitwiseAnd(cloudsBitMask).eq(0))\n",
        "\n",
        "    return image.updateMask(mask).divide(10000).select(\"B[0-9]*\").copyProperties(image, [\"system:time_start\"])\n",
        "\n",
        "\n",
        "# Filter imagery for 2019 and 2020 summer date ranges. \n",
        "# Create joint filter and apply it to Image Collection.\n",
        "sum20 = ee.Filter.date('2020-06-01','2020-09-30') # summer 2020 data, with date range\n",
        "sum19 = ee.Filter.date('2019-06-01','2019-09-30') # summer 2019 data, with date range\n",
        "\n",
        "SumFilter = ee.Filter.Or(sum20, sum19) # using both two date ranges in the filter (so a combination of them)\n",
        "\n",
        "allsum = image.filter(SumFilter) # taking that image and filtering it to the summer date ranges\n",
        "\n",
        "# Make a Composite: Apply the cloud mask function, use the median reducer, and clip the composite to our area of interest\n",
        "composite = allsum.map(maskL8sr).median().clip(california_area)\n",
        "\n",
        "#Display the Composite\n",
        "# Map.addLayer(composite, {bands: ['B4','B3','B2'],min: 0, max: 0.3},'California Color Image', 0);\n",
        "\n",
        "# Part 2: Add Developed Land Data******\n",
        "\n",
        "# //Add the impervious surface layer\n",
        "# latest data set that we can get! The best thing that we can do~\n",
        "# the most recent and best available data that we can use\n",
        "def func(image):\n",
        "  return image.clip(california_area)\n",
        "impervious = ee.ImageCollection('USGS/NLCD').filterDate('2016-01-01', '2017-01-01').filterBounds(california_area).select('impervious').map(func)\n",
        "\n",
        "# //Reduce the image collection to \n",
        "reduced = impervious.reduce('median') # reduce to a single image\n",
        "\n",
        "# //Mask out the zero values in the data\n",
        "masked = reduced.selfMask() # masking out the zero values in the data. taking out any values in the data that are zero (not interested in them)\n",
        "\n",
        "# ////******Part 3: Prepare for the Random Forest model******\n",
        "# ////////////////////////////////////////////////\n",
        "\n",
        "# //// In this example, we use land cover classes: \n",
        "# //// 1-100 = Percent Impervious Surfaces\n",
        "# //// 101 = coniferous  \n",
        "# //// 102 = mixed forest\n",
        "# //// 103 = deciduous\n",
        "# //// 104 = cultivated\n",
        "# //// 105 = water\n",
        "# //// 106 = cloud\n",
        "\n",
        "# Merge land cover classifications into one feature class\n",
        "newfc = coniferous.merge(mixedforest).merge(deciduous).merge(cultivated).merge(water) # merge to include all these different cover classifications. still saving/maintaining their original values though\n",
        "\n",
        "# Specify the bands to use in the prediction.\n",
        "bands = ['B3', 'B4', 'B5', 'B6', 'B7']  # for the random forest classification \n",
        "\n",
        "# Make training data by 'overlaying' the points on the image.\n",
        "points = composite.select(bands).sampleRegions({'collection': newfc,'properties': ['landcover'], 'scale': 30}).randomColumn() \n",
        "\n",
        "# //Randomly split the samples to set some aside for testing the model's accuracy\n",
        "# //using the \"random\" column. Roughly 80% for training, 20% for testing.\n",
        "split = 0.8 # randomly splitting samples, 80 for training, 20 percent for testing\n",
        "training = points.filter(ee.Filter.lt('random', split));\n",
        "testing = points.filter(ee.Filter.gte('random', split));\n",
        "\n",
        "# //Print these variables to see how much training and testing data you are using\n",
        "print('Samples n =', points.aggregate_count('.all'));\n",
        "print('Training n =', training.aggregate_count('.all'));\n",
        "print('Testing n =', testing.aggregate_count('.all'));\n",
        "\n",
        "# //******Part 4: Random Forest Classification and Accuracy Assessments******\n",
        "# //////////////////////////////////////////////////////////////////////////\n",
        "\n",
        "# //Run the RF model using 300 trees and 5 randomly selected predictors per split (\"(300,5)\"). \n",
        "# //Train using bands and land cover property and pull the land cover property from classes\n",
        "# // Random Forest Model: Random Forest is a tree-based machine learning algorithm that uses a series of\n",
        "# // decision trees to select the best classification for all pixels within imagery.\n",
        "\n",
        "# var classifier = ee.Classifier.smileRandomForest(300,5).train({ //  random forest model (300 trees, 5 selected predictivors per split)\n",
        "# features: training, // the training data from above (the points, the approximately 800 points, or 80 percent of alld ata points)\n",
        "# classProperty: 'landcover', // what we are looking to classify for\n",
        "# inputProperties: bands // the bands to be used in the prediction\n",
        "# });\n",
        "\n",
        "# //Test the accuracy of the model\n",
        "\n",
        "# //Print Confusion Matrix and Overall Accuracy\n",
        "# var confusionMatrix = classifier.confusionMatrix(); // classifier is the random forest model from above. SANITY CHECK. checking against data it was trained on.\n",
        "# print('Confusion matrix: ', confusionMatrix); // the 80 percent of data used to train classifier. confusion matrix: will compute for the random classifer based on the training data. the sanity check\n",
        "# print('Training Overall Accuracy: ', confusionMatrix.accuracy());  // the accuracy of the confusion matrix. returns floating point number that indicates the accuracy of the confusion matrix. number of correct classifications divided by total classifications\n",
        "# var kappa = confusionMatrix.kappa(); // kappa accuracy, and agreement between classifications and reference data (how well the classifications are doing versus randomly assigning values)\n",
        "# print('Training Kappa', kappa);\n",
        " \n",
        "# var validation = testing.classify(classifier); // now looking at the agreement between the classifier we trained and the completely new data for the classifier, and checking how it matches up! better check of how accurate classifier is for new data (the withheld data)\n",
        "# var testAccuracy = validation.errorMatrix('landcover', 'classification'); // the 20 percent of data withheld from training\n",
        "# print('Validation Error Matrix RF: ', testAccuracy);\n",
        "# print('Validation Overall Accuracy RF: ', testAccuracy.accuracy());\n",
        "# var kappa1 = testAccuracy.kappa();\n",
        "# print('Validation Kappa', kappa1);\n",
        "\n",
        "# //Apply the trained classifier to the image\n",
        "# var classified = composite.select(bands).classify(classifier); // running the model of our forest classification!\n",
        "\n",
        "# ////******Part 5:Create a legend******\n",
        "\n",
        "# //Set position of panel\n",
        "\n",
        "# legend = ui.Panel({\n",
        "#   style: {\n",
        "#     position: 'bottom-left',\n",
        "#     padding: '8px 15px'\n",
        "#   }\n",
        "# });\n",
        " \n",
        "# //Create legend title\n",
        "# var legendTitle = ui.Label({\n",
        "#   value: 'Classification Legend', // the title of the legend\n",
        "#   style: {\n",
        "#     fontWeight: 'bold',\n",
        "#     fontSize: '18px',\n",
        "#     margin: '0 0 4px 0',\n",
        "#     padding: '0'\n",
        "#     }\n",
        "# });\n",
        " \n",
        "# //Add the title to the panel\n",
        "# legend.add(legendTitle);\n",
        " \n",
        "# //Create and style 1 row of the legend.\n",
        "# var makeRow = function(color, name) {\n",
        " \n",
        "#       var colorBox = ui.Label({\n",
        "#         style: {\n",
        "#           backgroundColor: '#' + color,\n",
        "#           padding: '8px',\n",
        "#           margin: '0 0 4px 0'\n",
        "#         }\n",
        "#       });\n",
        "      \n",
        "#       var description = ui.Label({\n",
        "#         value: name,\n",
        "#         style: {margin: '0 0 4px 6px'}\n",
        "#       });\n",
        " \n",
        "#       return ui.Panel({\n",
        "#         widgets: [colorBox, description],\n",
        "#         layout: ui.Panel.Layout.Flow('horizontal')\n",
        "#       });\n",
        "# };\n",
        " \n",
        "\n",
        "legend_dict = {\n",
        "    'Low Density Development': 'CCADE0',\n",
        "    'Mid Density Development':'A052D3',\n",
        "    'High Density Development': '633581',\n",
        "    'Coniferous': '18620f',\n",
        "    'Mixed Forest': '3B953B',\n",
        "    'Deciduous': '89CD89',\n",
        "    'Cultivated': 'EFE028',\n",
        "    'Water': '0b4a8b'\n",
        "}\n",
        "\n",
        "# landcover = ee.Image('USGS/NLCD/NLCD2016').select('landcover')\n",
        "\n",
        "# //Identify palette with the legend colors\n",
        "# var palette =['CCADE0', 'A052D3', '633581', '18620f', '3B953B','89CD89', 'EFE028', '0b4a8b'];\n",
        " \n",
        "# //Identify names within the legend\n",
        "# var names = ['Low Density Development','Mid Density Development','High Density Development',\n",
        "#             'Coniferous','Mixed Forest','Deciduous','Cultivated','Water'];\n",
        " \n",
        "# //Add color and names\n",
        "# for (var i = 0; i < 8; i++) {\n",
        "#   legend.add(makeRow(palette[i], names[i]));\n",
        "#   }  \n",
        "\n",
        "# //Add legend to map\n",
        "# Map.add(legend);\n",
        "\n",
        "# ////******Part 6: Display the Final Land Cover Classification and Provide Export Options******\n",
        "# //////////////////////////////////////////////////////////////////////////////////////////////\n",
        "\n",
        "# //Create palette for the final land cover map classifications // the 'quantity' values are just the values assigned to each category/classification!\n",
        "urbanPalette =  '<RasterSymbolizer>' + ' <ColorMap  type=\"intervals\">' + '<ColorMapEntry color=\"#CCADE0\" quantity=\"22\" label=\"Low Density Development\"/>' + '<ColorMapEntry color=\"#A052D3\" quantity=\"56\" label=\"Mid Density Development\"/>' + '<ColorMapEntry color=\"#633581\" quantity=\"100\" label=\"High Density Development\"/>' + '<ColorMapEntry color=\"#18620f\" quantity=\"101\" label=\"Coniferous\"/>' + '<ColorMapEntry color=\"#3B953B\" quantity=\"102\" label=\"Mixed Forest\"/>' + '<ColorMapEntry color=\"#89CD89\" quantity=\"103\" label=\"Deciduous\"/>' + '<ColorMapEntry color=\"#EFE028\" quantity=\"104\" label=\"Cultivated\"/>' + '<ColorMapEntry color=\"#0b4a8b\" quantity=\"105\" label=\"Water\"/>' + '</ColorMap>' + '</RasterSymbolizer>'\n",
        "\n",
        "# //Mask out impervious surfaces\n",
        "finalmap = classified.blend(masked) # classified = randomm forest classifciation, masked = impervious surface layer (percent impervious)\n",
        "\n"
      ],
      "execution_count": null,
      "outputs": []
    },
    {
      "cell_type": "markdown",
      "metadata": {
        "id": "BXZqnTk43lRd"
      },
      "source": [
        "# Looking at populations and burn scar (burn areas)"
      ]
    },
    {
      "cell_type": "code",
      "metadata": {
        "id": "atvqL6Qe3vAr"
      },
      "source": [
        "california_area = ee.FeatureCollection(\"TIGER/2018/States\").filter(ee.Filter.eq('NAME', 'California'))\n",
        "\n",
        "def mask(image):\n",
        "  empty = 0\n",
        "  qa = image.select('population');\n",
        "  mask = qa.equal(0) \n",
        "  return image.updateMask(mask).select(\"population\").copyProperties(image, [\"system:time_start\"])\n",
        "\n",
        "# population grid\n",
        "popdataset2020 = ee.ImageCollection(\"WorldPop/GP/100m/pop\")\\\n",
        "    .filterDate(\"2020-01-01\", \"2021-01-01\")\n",
        "\n",
        "pop2020 = popdataset2020.mean().clip(california_area)\n",
        "\n",
        "datamask = pop2020\n",
        "qa = datamask.select('population') \n",
        "mask = qa.neq(0)\n",
        "pop2020masked = pop2020.updateMask(mask.unmask()).clip(california_area)\n",
        "\n",
        "# 2019\n",
        "popdataset2019 = ee.ImageCollection(\"WorldPop/GP/100m/pop\")\\\n",
        "    .filterDate(\"2001-01-01\", \"2002-01-01\")\n",
        "\n",
        "def func(image):\n",
        "  return image.clip(burned2020.geometry())\n",
        "popdataset2019.map(func)\n",
        "\n",
        "pop2019 = popdataset2019.mean().clip(california_area)\n",
        "\n",
        "datamask = pop2019\n",
        "qa = datamask.select('population') \n",
        "mask = qa.neq(0)\n",
        "pop2019masked = pop2019.updateMask(mask.unmask()).clip(california_area)\n",
        "\n",
        "pop_params = {\n",
        "  'bands': ['population'],\n",
        "  'min': 0.0,\n",
        "  'max': 60.0,\n",
        "  # 'palette': ['black', '1fff4f', 'd4ff50']\n",
        "  'palette' : ['black','bdd7e7','6baed6','2171b5']\n",
        "  # 'palette': ['white', 'green', 'purple']\n",
        "}\n",
        "\n",
        "pop_params2 = {\n",
        "  'bands': ['population'],\n",
        "  'min': 0.0,\n",
        "  'max': 60.0,\n",
        "  # 'palette': ['black', '1fff4f', 'd4ff50']\n",
        "  'palette' : ['eff3ff','bdd7e7','6baed6','2171b5']\n",
        "  # 'palette': ['white', 'green', 'purple']\n",
        "}\n",
        "\n",
        "# burned\n",
        "burnedCollection2020 = ee.ImageCollection('MODIS/006/MCD64A1').filter(ee.Filter.date('2020-01-01', '2021-01-01'))\n",
        "\n",
        "burned2020 = burnedCollection2020.select('BurnDate').mean().clip(california_area)\n",
        "\n",
        "# 2019\n",
        "burnedCollection2019 = ee.ImageCollection('MODIS/006/MCD64A1').filter(ee.Filter.date('2001-01-01', '2002-01-01'))\n",
        "\n",
        "burned2019 = burnedCollection2019.select('BurnDate').mean().clip(california_area)\n",
        "\n",
        "burned_params = {\n",
        "  'min': 30.0,\n",
        "  'max': 341.0,\n",
        "  # 'palette': ['4e0400', '951003', 'c61503', 'ff1901'],\n",
        "  'palette':['orange', 'red']\n",
        "}\n",
        "\n",
        "roi = ee.Geometry.Point(-122.438005, 37.729844) # (long, lat)\n"
      ],
      "execution_count": 44,
      "outputs": []
    },
    {
      "cell_type": "code",
      "metadata": {
        "id": "k4Olik1w-M4i"
      },
      "source": [
        "def poi_mean(img):\n",
        "    mean = img.reduceRegion(reducer=ee.Reducer.mean(), geometry=california_area, scale=30).get('population')\n",
        "    return img.set('date', img.date().format()).set('mean',mean)\n",
        "\n",
        "# reduced_img = popdataset2020.map(poi_mean)\n",
        "# sum = popdataset2019.reduce(ee.Reducer.sum())\n",
        "\n",
        "pop = ee.ImageCollection(\"WorldPop/GP/100m/pop\")\\\n",
        "      .filterDate(\"2001-01-01\", \"2021-01-01\")\n",
        "pop.getInfo()\n",
        "# print(popdataset2019.aggregate_sum(()))\n",
        "nested_list = reduced_img.reduceColumns(ee.Reducer.toList(2), ['date','mean']).values().get(0)\n",
        "\n"
      ],
      "execution_count": 45,
      "outputs": []
    },
    {
      "cell_type": "code",
      "metadata": {
        "colab": {
          "base_uri": "https://localhost:8080/",
          "height": 808
        },
        "id": "aCn_2xefWa9B",
        "outputId": "e13b06ad-4c85-435e-dd17-2668e1346a30"
      },
      "source": [
        "Map = geemap.Map()\n",
        "Map.add_basemap(\"SATELLITE\")\n",
        "Map.addLayer(pop2020, pop_params, \"Population 2020\", True)\n",
        "Map.addLayer(pop2020masked, pop_params2, \"Population 2020 masked\", False)\n",
        "Map.addLayer(burned2020, burned_params, 'Burned Area 2020', True, 0.6)\n",
        "Map.addLayer(pop2019, pop_params, \"Population 2001\", True)\n",
        "Map.addLayer(pop2019masked, pop_params2, \"Population 2001 masked\", False)\n",
        "Map.addLayer(burned2019, burned_params, 'Burned Area 2001', True, 0.6)\n",
        "roi = ee.Geometry.Point(-122.438005, 37.729844) # (long, lat)\n",
        "Map.centerObject(roi, 6)\n",
        "Map.addLayerControl()\n",
        "Map"
      ],
      "execution_count": 46,
      "outputs": [
        {
          "output_type": "execute_result",
          "data": {
            "text/html": [
              "<div style=\"width:100%;\"><div style=\"position:relative;width:100%;height:0;padding-bottom:60%;\"><span style=\"color:#565656\">Make this Notebook Trusted to load map: File -> Trust Notebook</span><iframe src=\"about:blank\" style=\"position:absolute;width:100%;height:100%;left:0;top:0;border:none !important;\" data-html=%3C%21DOCTYPE%20html%3E%0A%3Chead%3E%20%20%20%20%0A%20%20%20%20%3Cmeta%20http-equiv%3D%22content-type%22%20content%3D%22text/html%3B%20charset%3DUTF-8%22%20/%3E%0A%20%20%20%20%0A%20%20%20%20%20%20%20%20%3Cscript%3E%0A%20%20%20%20%20%20%20%20%20%20%20%20L_NO_TOUCH%20%3D%20false%3B%0A%20%20%20%20%20%20%20%20%20%20%20%20L_DISABLE_3D%20%3D%20false%3B%0A%20%20%20%20%20%20%20%20%3C/script%3E%0A%20%20%20%20%0A%20%20%20%20%3Cstyle%3Ehtml%2C%20body%20%7Bwidth%3A%20100%25%3Bheight%3A%20100%25%3Bmargin%3A%200%3Bpadding%3A%200%3B%7D%3C/style%3E%0A%20%20%20%20%3Cstyle%3E%23map%20%7Bposition%3Aabsolute%3Btop%3A0%3Bbottom%3A0%3Bright%3A0%3Bleft%3A0%3B%7D%3C/style%3E%0A%20%20%20%20%3Cscript%20src%3D%22https%3A//cdn.jsdelivr.net/npm/leaflet%401.6.0/dist/leaflet.js%22%3E%3C/script%3E%0A%20%20%20%20%3Cscript%20src%3D%22https%3A//code.jquery.com/jquery-1.12.4.min.js%22%3E%3C/script%3E%0A%20%20%20%20%3Cscript%20src%3D%22https%3A//maxcdn.bootstrapcdn.com/bootstrap/3.2.0/js/bootstrap.min.js%22%3E%3C/script%3E%0A%20%20%20%20%3Cscript%20src%3D%22https%3A//cdnjs.cloudflare.com/ajax/libs/Leaflet.awesome-markers/2.0.2/leaflet.awesome-markers.js%22%3E%3C/script%3E%0A%20%20%20%20%3Clink%20rel%3D%22stylesheet%22%20href%3D%22https%3A//cdn.jsdelivr.net/npm/leaflet%401.6.0/dist/leaflet.css%22/%3E%0A%20%20%20%20%3Clink%20rel%3D%22stylesheet%22%20href%3D%22https%3A//maxcdn.bootstrapcdn.com/bootstrap/3.2.0/css/bootstrap.min.css%22/%3E%0A%20%20%20%20%3Clink%20rel%3D%22stylesheet%22%20href%3D%22https%3A//maxcdn.bootstrapcdn.com/bootstrap/3.2.0/css/bootstrap-theme.min.css%22/%3E%0A%20%20%20%20%3Clink%20rel%3D%22stylesheet%22%20href%3D%22https%3A//maxcdn.bootstrapcdn.com/font-awesome/4.6.3/css/font-awesome.min.css%22/%3E%0A%20%20%20%20%3Clink%20rel%3D%22stylesheet%22%20href%3D%22https%3A//cdnjs.cloudflare.com/ajax/libs/Leaflet.awesome-markers/2.0.2/leaflet.awesome-markers.css%22/%3E%0A%20%20%20%20%3Clink%20rel%3D%22stylesheet%22%20href%3D%22https%3A//cdn.jsdelivr.net/gh/python-visualization/folium/folium/templates/leaflet.awesome.rotate.min.css%22/%3E%0A%20%20%20%20%0A%20%20%20%20%20%20%20%20%20%20%20%20%3Cmeta%20name%3D%22viewport%22%20content%3D%22width%3Ddevice-width%2C%0A%20%20%20%20%20%20%20%20%20%20%20%20%20%20%20%20initial-scale%3D1.0%2C%20maximum-scale%3D1.0%2C%20user-scalable%3Dno%22%20/%3E%0A%20%20%20%20%20%20%20%20%20%20%20%20%3Cstyle%3E%0A%20%20%20%20%20%20%20%20%20%20%20%20%20%20%20%20%23map_a6307106dd8049e9bab8c8b9a3ffa2a1%20%7B%0A%20%20%20%20%20%20%20%20%20%20%20%20%20%20%20%20%20%20%20%20position%3A%20relative%3B%0A%20%20%20%20%20%20%20%20%20%20%20%20%20%20%20%20%20%20%20%20width%3A%20100.0%25%3B%0A%20%20%20%20%20%20%20%20%20%20%20%20%20%20%20%20%20%20%20%20height%3A%20100.0%25%3B%0A%20%20%20%20%20%20%20%20%20%20%20%20%20%20%20%20%20%20%20%20left%3A%200.0%25%3B%0A%20%20%20%20%20%20%20%20%20%20%20%20%20%20%20%20%20%20%20%20top%3A%200.0%25%3B%0A%20%20%20%20%20%20%20%20%20%20%20%20%20%20%20%20%7D%0A%20%20%20%20%20%20%20%20%20%20%20%20%3C/style%3E%0A%20%20%20%20%20%20%20%20%0A%20%20%20%20%3Cscript%20src%3D%22https%3A//cdnjs.cloudflare.com/ajax/libs/leaflet.fullscreen/1.4.2/Control.FullScreen.min.js%22%3E%3C/script%3E%0A%20%20%20%20%3Clink%20rel%3D%22stylesheet%22%20href%3D%22https%3A//cdnjs.cloudflare.com/ajax/libs/leaflet.fullscreen/1.4.2/Control.FullScreen.min.css%22/%3E%0A%3C/head%3E%0A%3Cbody%3E%20%20%20%20%0A%20%20%20%20%0A%20%20%20%20%20%20%20%20%20%20%20%20%3Cdiv%20class%3D%22folium-map%22%20id%3D%22map_a6307106dd8049e9bab8c8b9a3ffa2a1%22%20%3E%3C/div%3E%0A%20%20%20%20%20%20%20%20%0A%3C/body%3E%0A%3Cscript%3E%20%20%20%20%0A%20%20%20%20%0A%20%20%20%20%20%20%20%20%20%20%20%20var%20map_a6307106dd8049e9bab8c8b9a3ffa2a1%20%3D%20L.map%28%0A%20%20%20%20%20%20%20%20%20%20%20%20%20%20%20%20%22map_a6307106dd8049e9bab8c8b9a3ffa2a1%22%2C%0A%20%20%20%20%20%20%20%20%20%20%20%20%20%20%20%20%7B%0A%20%20%20%20%20%20%20%20%20%20%20%20%20%20%20%20%20%20%20%20center%3A%20%5B40.0%2C%20-100.0%5D%2C%0A%20%20%20%20%20%20%20%20%20%20%20%20%20%20%20%20%20%20%20%20crs%3A%20L.CRS.EPSG3857%2C%0A%20%20%20%20%20%20%20%20%20%20%20%20%20%20%20%20%20%20%20%20zoom%3A%204%2C%0A%20%20%20%20%20%20%20%20%20%20%20%20%20%20%20%20%20%20%20%20zoomControl%3A%20true%2C%0A%20%20%20%20%20%20%20%20%20%20%20%20%20%20%20%20%20%20%20%20preferCanvas%3A%20false%2C%0A%20%20%20%20%20%20%20%20%20%20%20%20%20%20%20%20%20%20%20%20eeInitialize%3A%20true%2C%0A%20%20%20%20%20%20%20%20%20%20%20%20%20%20%20%20%20%20%20%20addGoogleMap%3A%20true%2C%0A%20%20%20%20%20%20%20%20%20%20%20%20%20%20%20%20%20%20%20%20pluginLatlngpopup%3A%20true%2C%0A%20%20%20%20%20%20%20%20%20%20%20%20%20%20%20%20%20%20%20%20pluginFullscreen%3A%20true%2C%0A%20%20%20%20%20%20%20%20%20%20%20%20%20%20%20%20%20%20%20%20pluginDraw%3A%20false%2C%0A%20%20%20%20%20%20%20%20%20%20%20%20%20%20%20%20%20%20%20%20DrawExport%3A%20true%2C%0A%20%20%20%20%20%20%20%20%20%20%20%20%20%20%20%20%20%20%20%20pluginMinimap%3A%20false%2C%0A%20%20%20%20%20%20%20%20%20%20%20%20%20%20%20%20%20%20%20%20pluginLayercontrol%3A%20false%2C%0A%20%20%20%20%20%20%20%20%20%20%20%20%20%20%20%20%7D%0A%20%20%20%20%20%20%20%20%20%20%20%20%29%3B%0A%0A%20%20%20%20%20%20%20%20%20%20%20%20%0A%0A%20%20%20%20%20%20%20%20%0A%20%20%20%20%0A%20%20%20%20%20%20%20%20%20%20%20%20var%20tile_layer_3418ec0fbb874eea9828565fb91ed012%20%3D%20L.tileLayer%28%0A%20%20%20%20%20%20%20%20%20%20%20%20%20%20%20%20%22https%3A//%7Bs%7D.tile.openstreetmap.org/%7Bz%7D/%7Bx%7D/%7By%7D.png%22%2C%0A%20%20%20%20%20%20%20%20%20%20%20%20%20%20%20%20%7B%22attribution%22%3A%20%22Data%20by%20%5Cu0026copy%3B%20%5Cu003ca%20href%3D%5C%22http%3A//openstreetmap.org%5C%22%5Cu003eOpenStreetMap%5Cu003c/a%5Cu003e%2C%20under%20%5Cu003ca%20href%3D%5C%22http%3A//www.openstreetmap.org/copyright%5C%22%5Cu003eODbL%5Cu003c/a%5Cu003e.%22%2C%20%22detectRetina%22%3A%20false%2C%20%22maxNativeZoom%22%3A%2018%2C%20%22maxZoom%22%3A%2018%2C%20%22minZoom%22%3A%200%2C%20%22noWrap%22%3A%20false%2C%20%22opacity%22%3A%201%2C%20%22subdomains%22%3A%20%22abc%22%2C%20%22tms%22%3A%20false%7D%0A%20%20%20%20%20%20%20%20%20%20%20%20%29.addTo%28map_a6307106dd8049e9bab8c8b9a3ffa2a1%29%3B%0A%20%20%20%20%20%20%20%20%0A%20%20%20%20%0A%20%20%20%20%20%20%20%20%20%20%20%20var%20tile_layer_51cecf823b444a75b342547b6afce9e2%20%3D%20L.tileLayer%28%0A%20%20%20%20%20%20%20%20%20%20%20%20%20%20%20%20%22https%3A//mt1.google.com/vt/lyrs%3Dm%5Cu0026x%3D%7Bx%7D%5Cu0026y%3D%7By%7D%5Cu0026z%3D%7Bz%7D%22%2C%0A%20%20%20%20%20%20%20%20%20%20%20%20%20%20%20%20%7B%22attribution%22%3A%20%22Google%22%2C%20%22detectRetina%22%3A%20false%2C%20%22maxNativeZoom%22%3A%2018%2C%20%22maxZoom%22%3A%2018%2C%20%22minZoom%22%3A%200%2C%20%22noWrap%22%3A%20false%2C%20%22opacity%22%3A%201%2C%20%22subdomains%22%3A%20%22abc%22%2C%20%22tms%22%3A%20false%7D%0A%20%20%20%20%20%20%20%20%20%20%20%20%29.addTo%28map_a6307106dd8049e9bab8c8b9a3ffa2a1%29%3B%0A%20%20%20%20%20%20%20%20%0A%20%20%20%20%0A%20%20%20%20%20%20%20%20%20%20%20%20%20%20%20%20var%20lat_lng_popup_ebc493e4ded64580b1df3bde241e7c99%20%3D%20L.popup%28%29%3B%0A%20%20%20%20%20%20%20%20%20%20%20%20%20%20%20%20function%20latLngPop%28e%29%20%7B%0A%20%20%20%20%20%20%20%20%20%20%20%20%20%20%20%20%20%20%20%20lat_lng_popup_ebc493e4ded64580b1df3bde241e7c99%0A%20%20%20%20%20%20%20%20%20%20%20%20%20%20%20%20%20%20%20%20%20%20%20%20.setLatLng%28e.latlng%29%0A%20%20%20%20%20%20%20%20%20%20%20%20%20%20%20%20%20%20%20%20%20%20%20%20.setContent%28%22Latitude%3A%20%22%20%2B%20e.latlng.lat.toFixed%284%29%20%2B%0A%20%20%20%20%20%20%20%20%20%20%20%20%20%20%20%20%20%20%20%20%20%20%20%20%20%20%20%20%20%20%20%20%20%20%20%20%22%3Cbr%3ELongitude%3A%20%22%20%2B%20e.latlng.lng.toFixed%284%29%29%0A%20%20%20%20%20%20%20%20%20%20%20%20%20%20%20%20%20%20%20%20%20%20%20%20.openOn%28map_a6307106dd8049e9bab8c8b9a3ffa2a1%29%3B%0A%20%20%20%20%20%20%20%20%20%20%20%20%20%20%20%20%20%20%20%20%7D%0A%20%20%20%20%20%20%20%20%20%20%20%20%20%20%20%20map_a6307106dd8049e9bab8c8b9a3ffa2a1.on%28%27click%27%2C%20latLngPop%29%3B%0A%20%20%20%20%20%20%20%20%20%20%20%20%0A%20%20%20%20%0A%20%20%20%20%20%20%20%20%20%20%20%20L.control.fullscreen%28%0A%20%20%20%20%20%20%20%20%20%20%20%20%20%20%20%20%7B%22forceSeparateButton%22%3A%20false%2C%20%22position%22%3A%20%22topleft%22%2C%20%22title%22%3A%20%22Full%20Screen%22%2C%20%22titleCancel%22%3A%20%22Exit%20Full%20Screen%22%7D%0A%20%20%20%20%20%20%20%20%20%20%20%20%29.addTo%28map_a6307106dd8049e9bab8c8b9a3ffa2a1%29%3B%0A%20%20%20%20%20%20%20%20%0A%20%20%20%20%0A%20%20%20%20%20%20%20%20%20%20%20%20map_a6307106dd8049e9bab8c8b9a3ffa2a1.fitBounds%28%0A%20%20%20%20%20%20%20%20%20%20%20%20%20%20%20%20%5B%5B40%2C%20-100%5D%2C%20%5B40%2C%20-100%5D%5D%2C%0A%20%20%20%20%20%20%20%20%20%20%20%20%20%20%20%20%7B%22maxZoom%22%3A%204%7D%0A%20%20%20%20%20%20%20%20%20%20%20%20%29%3B%0A%20%20%20%20%20%20%20%20%0A%20%20%20%20%0A%20%20%20%20%20%20%20%20%20%20%20%20var%20tile_layer_d66aaa72a8644850a8c78aa292ed8a22%20%3D%20L.tileLayer%28%0A%20%20%20%20%20%20%20%20%20%20%20%20%20%20%20%20%22https%3A//mt1.google.com/vt/lyrs%3Ds%5Cu0026x%3D%7Bx%7D%5Cu0026y%3D%7By%7D%5Cu0026z%3D%7Bz%7D%22%2C%0A%20%20%20%20%20%20%20%20%20%20%20%20%20%20%20%20%7B%22attribution%22%3A%20%22Google%22%2C%20%22detectRetina%22%3A%20false%2C%20%22maxNativeZoom%22%3A%2018%2C%20%22maxZoom%22%3A%2018%2C%20%22minZoom%22%3A%200%2C%20%22noWrap%22%3A%20false%2C%20%22opacity%22%3A%201%2C%20%22subdomains%22%3A%20%22abc%22%2C%20%22tms%22%3A%20false%7D%0A%20%20%20%20%20%20%20%20%20%20%20%20%29.addTo%28map_a6307106dd8049e9bab8c8b9a3ffa2a1%29%3B%0A%20%20%20%20%20%20%20%20%0A%20%20%20%20%0A%20%20%20%20%20%20%20%20%20%20%20%20var%20tile_layer_cfb3db5d03814d33aa9061b24740c554%20%3D%20L.tileLayer%28%0A%20%20%20%20%20%20%20%20%20%20%20%20%20%20%20%20%22https%3A//earthengine.googleapis.com/v1alpha/projects/earthengine-legacy/maps/39145540ad2b8808dcfd3032cec68970-7b5ddaa12d455401edc296863ecac438/tiles/%7Bz%7D/%7Bx%7D/%7By%7D%22%2C%0A%20%20%20%20%20%20%20%20%20%20%20%20%20%20%20%20%7B%22attribution%22%3A%20%22Google%20Earth%20Engine%22%2C%20%22detectRetina%22%3A%20false%2C%20%22maxNativeZoom%22%3A%2018%2C%20%22maxZoom%22%3A%2018%2C%20%22minZoom%22%3A%200%2C%20%22noWrap%22%3A%20false%2C%20%22opacity%22%3A%201.0%2C%20%22subdomains%22%3A%20%22abc%22%2C%20%22tms%22%3A%20false%7D%0A%20%20%20%20%20%20%20%20%20%20%20%20%29.addTo%28map_a6307106dd8049e9bab8c8b9a3ffa2a1%29%3B%0A%20%20%20%20%20%20%20%20%0A%20%20%20%20%0A%20%20%20%20%20%20%20%20%20%20%20%20var%20tile_layer_4f0c7d2ad0194af69959ac3a2d35c3cc%20%3D%20L.tileLayer%28%0A%20%20%20%20%20%20%20%20%20%20%20%20%20%20%20%20%22https%3A//earthengine.googleapis.com/v1alpha/projects/earthengine-legacy/maps/d37f8526d2a61ec8361e4a045e2b65bb-f73d0eed38382957a48b956e19860394/tiles/%7Bz%7D/%7Bx%7D/%7By%7D%22%2C%0A%20%20%20%20%20%20%20%20%20%20%20%20%20%20%20%20%7B%22attribution%22%3A%20%22Google%20Earth%20Engine%22%2C%20%22detectRetina%22%3A%20false%2C%20%22maxNativeZoom%22%3A%2018%2C%20%22maxZoom%22%3A%2018%2C%20%22minZoom%22%3A%200%2C%20%22noWrap%22%3A%20false%2C%20%22opacity%22%3A%201.0%2C%20%22subdomains%22%3A%20%22abc%22%2C%20%22tms%22%3A%20false%7D%0A%20%20%20%20%20%20%20%20%20%20%20%20%29.addTo%28map_a6307106dd8049e9bab8c8b9a3ffa2a1%29%3B%0A%20%20%20%20%20%20%20%20%0A%20%20%20%20%0A%20%20%20%20%20%20%20%20%20%20%20%20var%20tile_layer_4a8059b2480a4b6a9ddd7cfc9d1c8ac7%20%3D%20L.tileLayer%28%0A%20%20%20%20%20%20%20%20%20%20%20%20%20%20%20%20%22https%3A//earthengine.googleapis.com/v1alpha/projects/earthengine-legacy/maps/cc20b849578475933f1a5cef78bb18ea-fba9b4b54860298d0e64673bf4fe51f8/tiles/%7Bz%7D/%7Bx%7D/%7By%7D%22%2C%0A%20%20%20%20%20%20%20%20%20%20%20%20%20%20%20%20%7B%22attribution%22%3A%20%22Google%20Earth%20Engine%22%2C%20%22detectRetina%22%3A%20false%2C%20%22maxNativeZoom%22%3A%2018%2C%20%22maxZoom%22%3A%2018%2C%20%22minZoom%22%3A%200%2C%20%22noWrap%22%3A%20false%2C%20%22opacity%22%3A%200.6%2C%20%22subdomains%22%3A%20%22abc%22%2C%20%22tms%22%3A%20false%7D%0A%20%20%20%20%20%20%20%20%20%20%20%20%29.addTo%28map_a6307106dd8049e9bab8c8b9a3ffa2a1%29%3B%0A%20%20%20%20%20%20%20%20%0A%20%20%20%20%0A%20%20%20%20%20%20%20%20%20%20%20%20var%20tile_layer_5babe296aafe4b21af38bfb0127a3c36%20%3D%20L.tileLayer%28%0A%20%20%20%20%20%20%20%20%20%20%20%20%20%20%20%20%22https%3A//earthengine.googleapis.com/v1alpha/projects/earthengine-legacy/maps/2105e2e69e9985d6b1cc081bf0e19d5a-2fa27a9e46295c56b8decf5352c79247/tiles/%7Bz%7D/%7Bx%7D/%7By%7D%22%2C%0A%20%20%20%20%20%20%20%20%20%20%20%20%20%20%20%20%7B%22attribution%22%3A%20%22Google%20Earth%20Engine%22%2C%20%22detectRetina%22%3A%20false%2C%20%22maxNativeZoom%22%3A%2018%2C%20%22maxZoom%22%3A%2018%2C%20%22minZoom%22%3A%200%2C%20%22noWrap%22%3A%20false%2C%20%22opacity%22%3A%201.0%2C%20%22subdomains%22%3A%20%22abc%22%2C%20%22tms%22%3A%20false%7D%0A%20%20%20%20%20%20%20%20%20%20%20%20%29.addTo%28map_a6307106dd8049e9bab8c8b9a3ffa2a1%29%3B%0A%20%20%20%20%20%20%20%20%0A%20%20%20%20%0A%20%20%20%20%20%20%20%20%20%20%20%20var%20tile_layer_350783e4d7ed4a88911c1de6571776f3%20%3D%20L.tileLayer%28%0A%20%20%20%20%20%20%20%20%20%20%20%20%20%20%20%20%22https%3A//earthengine.googleapis.com/v1alpha/projects/earthengine-legacy/maps/59b7a4da2dc9f6fffded5896c0e20c11-691aa067fefd6954c6c3b27b4c03d9b7/tiles/%7Bz%7D/%7Bx%7D/%7By%7D%22%2C%0A%20%20%20%20%20%20%20%20%20%20%20%20%20%20%20%20%7B%22attribution%22%3A%20%22Google%20Earth%20Engine%22%2C%20%22detectRetina%22%3A%20false%2C%20%22maxNativeZoom%22%3A%2018%2C%20%22maxZoom%22%3A%2018%2C%20%22minZoom%22%3A%200%2C%20%22noWrap%22%3A%20false%2C%20%22opacity%22%3A%201.0%2C%20%22subdomains%22%3A%20%22abc%22%2C%20%22tms%22%3A%20false%7D%0A%20%20%20%20%20%20%20%20%20%20%20%20%29.addTo%28map_a6307106dd8049e9bab8c8b9a3ffa2a1%29%3B%0A%20%20%20%20%20%20%20%20%0A%20%20%20%20%0A%20%20%20%20%20%20%20%20%20%20%20%20var%20tile_layer_6ac3e485e9394d0a986961f26d9f5cb3%20%3D%20L.tileLayer%28%0A%20%20%20%20%20%20%20%20%20%20%20%20%20%20%20%20%22https%3A//earthengine.googleapis.com/v1alpha/projects/earthengine-legacy/maps/1a2b0efa3e7013f94c44a6fea38488bc-8db64c8627a2b3c12c04f37e394a1e6f/tiles/%7Bz%7D/%7Bx%7D/%7By%7D%22%2C%0A%20%20%20%20%20%20%20%20%20%20%20%20%20%20%20%20%7B%22attribution%22%3A%20%22Google%20Earth%20Engine%22%2C%20%22detectRetina%22%3A%20false%2C%20%22maxNativeZoom%22%3A%2018%2C%20%22maxZoom%22%3A%2018%2C%20%22minZoom%22%3A%200%2C%20%22noWrap%22%3A%20false%2C%20%22opacity%22%3A%200.6%2C%20%22subdomains%22%3A%20%22abc%22%2C%20%22tms%22%3A%20false%7D%0A%20%20%20%20%20%20%20%20%20%20%20%20%29.addTo%28map_a6307106dd8049e9bab8c8b9a3ffa2a1%29%3B%0A%20%20%20%20%20%20%20%20%0A%20%20%20%20%0A%20%20%20%20%20%20%20%20%20%20%20%20map_a6307106dd8049e9bab8c8b9a3ffa2a1.fitBounds%28%0A%20%20%20%20%20%20%20%20%20%20%20%20%20%20%20%20%5B%5B37.729844%2C%20-122.43800500000002%5D%2C%20%5B37.729844%2C%20-122.43800500000002%5D%5D%2C%0A%20%20%20%20%20%20%20%20%20%20%20%20%20%20%20%20%7B%22maxZoom%22%3A%206%7D%0A%20%20%20%20%20%20%20%20%20%20%20%20%29%3B%0A%20%20%20%20%20%20%20%20%0A%20%20%20%20%0A%20%20%20%20%20%20%20%20%20%20%20%20var%20layer_control_2eb7813725e245239e9ad1f5a12fe0de%20%3D%20%7B%0A%20%20%20%20%20%20%20%20%20%20%20%20%20%20%20%20base_layers%20%3A%20%7B%0A%20%20%20%20%20%20%20%20%20%20%20%20%20%20%20%20%20%20%20%20%22openstreetmap%22%20%3A%20tile_layer_3418ec0fbb874eea9828565fb91ed012%2C%0A%20%20%20%20%20%20%20%20%20%20%20%20%20%20%20%20%7D%2C%0A%20%20%20%20%20%20%20%20%20%20%20%20%20%20%20%20overlays%20%3A%20%20%7B%0A%20%20%20%20%20%20%20%20%20%20%20%20%20%20%20%20%20%20%20%20%22Google%20Maps%22%20%3A%20tile_layer_51cecf823b444a75b342547b6afce9e2%2C%0A%20%20%20%20%20%20%20%20%20%20%20%20%20%20%20%20%20%20%20%20%22Google%20Satellite%22%20%3A%20tile_layer_d66aaa72a8644850a8c78aa292ed8a22%2C%0A%20%20%20%20%20%20%20%20%20%20%20%20%20%20%20%20%20%20%20%20%22Population%202020%22%20%3A%20tile_layer_cfb3db5d03814d33aa9061b24740c554%2C%0A%20%20%20%20%20%20%20%20%20%20%20%20%20%20%20%20%20%20%20%20%22Population%202020%20masked%22%20%3A%20tile_layer_4f0c7d2ad0194af69959ac3a2d35c3cc%2C%0A%20%20%20%20%20%20%20%20%20%20%20%20%20%20%20%20%20%20%20%20%22Burned%20Area%202020%22%20%3A%20tile_layer_4a8059b2480a4b6a9ddd7cfc9d1c8ac7%2C%0A%20%20%20%20%20%20%20%20%20%20%20%20%20%20%20%20%20%20%20%20%22Population%202001%22%20%3A%20tile_layer_5babe296aafe4b21af38bfb0127a3c36%2C%0A%20%20%20%20%20%20%20%20%20%20%20%20%20%20%20%20%20%20%20%20%22Population%202001%20masked%22%20%3A%20tile_layer_350783e4d7ed4a88911c1de6571776f3%2C%0A%20%20%20%20%20%20%20%20%20%20%20%20%20%20%20%20%20%20%20%20%22Burned%20Area%202001%22%20%3A%20tile_layer_6ac3e485e9394d0a986961f26d9f5cb3%2C%0A%20%20%20%20%20%20%20%20%20%20%20%20%20%20%20%20%7D%2C%0A%20%20%20%20%20%20%20%20%20%20%20%20%7D%3B%0A%20%20%20%20%20%20%20%20%20%20%20%20L.control.layers%28%0A%20%20%20%20%20%20%20%20%20%20%20%20%20%20%20%20layer_control_2eb7813725e245239e9ad1f5a12fe0de.base_layers%2C%0A%20%20%20%20%20%20%20%20%20%20%20%20%20%20%20%20layer_control_2eb7813725e245239e9ad1f5a12fe0de.overlays%2C%0A%20%20%20%20%20%20%20%20%20%20%20%20%20%20%20%20%7B%22autoZIndex%22%3A%20true%2C%20%22collapsed%22%3A%20true%2C%20%22position%22%3A%20%22topright%22%7D%0A%20%20%20%20%20%20%20%20%20%20%20%20%29.addTo%28map_a6307106dd8049e9bab8c8b9a3ffa2a1%29%3B%0A%20%20%20%20%20%20%20%20%20%20%20%20tile_layer_4f0c7d2ad0194af69959ac3a2d35c3cc.remove%28%29%3B%0A%20%20%20%20%20%20%20%20%20%20%20%20tile_layer_350783e4d7ed4a88911c1de6571776f3.remove%28%29%3B%0A%20%20%20%20%20%20%20%20%0A%3C/script%3E onload=\"this.contentDocument.open();this.contentDocument.write(    decodeURIComponent(this.getAttribute('data-html')));this.contentDocument.close();\" allowfullscreen webkitallowfullscreen mozallowfullscreen></iframe></div></div>"
            ],
            "text/plain": [
              "<geemap.foliumap.Map at 0x7f1581713450>"
            ]
          },
          "metadata": {
            "tags": []
          },
          "execution_count": 46
        }
      ]
    },
    {
      "cell_type": "markdown",
      "metadata": {
        "id": "WUNxAFl8UXEz"
      },
      "source": [
        "# Narrative"
      ]
    },
    {
      "cell_type": "markdown",
      "metadata": {
        "id": "4fvzwD5IUYey"
      },
      "source": [
        "Over time, more and more of the California population is directly affected by wildfires. This led us to wonder how to determine what areas and communities are most at risk, especially with population movement into areas surrounded by more vegetation."
      ]
    },
    {
      "cell_type": "markdown",
      "metadata": {
        "id": "N7UoA7NRXOvc"
      },
      "source": [
        "# Wildfire Risk and populations"
      ]
    },
    {
      "cell_type": "code",
      "metadata": {
        "id": "BR5B3Ra2XR0C"
      },
      "source": [
        "california_area = ee.FeatureCollection(\"TIGER/2018/States\").filter(ee.Filter.eq('NAME', 'California'))"
      ],
      "execution_count": 5,
      "outputs": []
    },
    {
      "cell_type": "code",
      "metadata": {
        "id": "G7jxNw-DXlIr"
      },
      "source": [
        "# Landsat EVI\n",
        "imageCollection = ee.ImageCollection('LANDSAT/LC08/C01/T1_SR').filterBounds(california_area)\n",
        "\n",
        "def maskL8sr(imageCollection):\n",
        "  cloudShadowBitMask = 1 << 3\n",
        "  cloudsBitMask = 1 << 5\n",
        "\n",
        "  qa = imageCollection.select('pixel_qa')\n",
        "\n",
        "  mask = qa.bitwiseAnd(cloudShadowBitMask).eq(0) \\\n",
        "        .And(qa.bitwiseAnd(cloudsBitMask).eq(0))\n",
        "\n",
        "  return imageCollection.updateMask(mask).divide(10000) \\\n",
        "      .select(\"B[0-9]*\") \\\n",
        "      .copyProperties(imageCollection, [\"system:time_start\"])\n",
        "      \n",
        "stepList = ee.List.sequence(2014,2020)\n",
        "\n",
        "def process_collection(year):\n",
        "  startDate = ee.Date.fromYMD(year,5,1)\n",
        "  endDate = ee.Date.fromYMD(year,9,15)\n",
        "  composite_i = imageCollection.filterDate(startDate, endDate) \\\n",
        "                        .map(maskL8sr) \\\n",
        "                        .median() \\\n",
        "                        .set('system:time_start',startDate)\n",
        "  return composite_i\n",
        "filterCollection = stepList.map(process_collection)\n",
        "\n",
        "yearlyComposites = ee.ImageCollection(filterCollection)\n",
        "# print(yearlyComposites, 'Masked and Filtered Composites')\n",
        "\n",
        "# Add Enhanced Vegetation Index to a function and apply it.\n",
        "# EVI = 2.5 * ((NIR - Red) / (NIR + 6 * Red – 7.5 * Blue + 1))\n",
        "def evi(img):\n",
        "  eviImg = img.select(['B5','B4','B2'],['nir','red','blue'])\n",
        "  eviImg = eviImg.expression(\n",
        "      '(2.5 * ((NIR - RED)) / (NIR + 6 * RED - 7.5 * BLUE + 1))',\n",
        "      {\n",
        "        'NIR': eviImg.select('nir'),\n",
        "        'RED': eviImg.select('red'),\n",
        "        'BLUE': eviImg.select('blue')\n",
        "      }).rename('EVI')\n",
        "  return img.addBands(eviImg)\n",
        "\n",
        "yearlyComposites = yearlyComposites.map(evi)\n",
        "\n",
        "# print(yearlyComposites, 'With EVI as Band')\n",
        "\n",
        "# Create image collection of yearly composites, selecting the EVI band.\n",
        "eviCollection = yearlyComposites.select('EVI')\n",
        "\n",
        "# Create variables for 2020 yearly composite.\n",
        "y2020 = eviCollection.filterDate('2020-01-01','2020-12-31') \\\n",
        "  .first() \\\n",
        "  .clip(california_area)\n",
        "\n",
        "eviParams = {'min': 0, 'max': 1, 'palette': ['white', 'green']}\n"
      ],
      "execution_count": 6,
      "outputs": []
    },
    {
      "cell_type": "code",
      "metadata": {
        "id": "__rYZEyHY3oi"
      },
      "source": [
        "# Population\n",
        "popdataset2020 = ee.ImageCollection(\"WorldPop/GP/100m/pop\")\\\n",
        "    .filterDate(\"2020-01-01\", \"2021-01-01\")\n",
        "\n",
        "pop2020 = popdataset2020.mean().clip(california_area)\n",
        "\n",
        "pop_params = {\n",
        "  'bands': ['population'],\n",
        "  'min': 0.0,\n",
        "  'max': 60.0,\n",
        "  # 'palette': ['black', '1fff4f', 'd4ff50']\n",
        "  'palette' : ['black','bdd7e7','6baed6','2171b5']\n",
        "  # 'palette': ['white', 'green', 'purple']\n",
        "}\n",
        "\n"
      ],
      "execution_count": 7,
      "outputs": []
    },
    {
      "cell_type": "code",
      "metadata": {
        "id": "ZQqusf4H1X8K"
      },
      "source": [
        "legend_dict = {\n",
        "    '11 Open Water': '466b9f',\n",
        "    '12 Perennial Ice/Snow': 'd1def8',\n",
        "    '21 Developed, Open Space': 'dec5c5',\n",
        "    '22 Developed, Low Intensity': 'd99282',\n",
        "    '23 Developed, Medium Intensity': 'eb0000',\n",
        "    '24 Developed High Intensity': 'ab0000',\n",
        "    '31 Barren Land (Rock/Sand/Clay)': 'b3ac9f',\n",
        "    '41 Deciduous Forest': '68ab5f',\n",
        "    '42 Evergreen Forest': '1c5f2c',\n",
        "    '43 Mixed Forest': 'b5c58f',\n",
        "    '51 Dwarf Scrub': 'af963c',\n",
        "    '52 Shrub/Scrub': 'ccb879',\n",
        "    '71 Grassland/Herbaceous': 'dfdfc2',\n",
        "    '72 Sedge/Herbaceous': 'd1d182',\n",
        "    '73 Lichens': 'a3cc51',\n",
        "    '74 Moss': '82ba9e',\n",
        "    '81 Pasture/Hay': 'dcd939',\n",
        "    '82 Cultivated Crops': 'ab6c28',\n",
        "    '90 Woody Wetlands': 'b8d9eb',\n",
        "    '95 Emergent Herbaceous Wetlands': '6c9fb8'\n",
        "}\n",
        "\n",
        "# most recent data available\n",
        "landcover = ee.ImageCollection('USGS/NLCD').select('landcover').filterDate(\"2016-01-01\", \"2017-01-01\").first().clip(california_area)"
      ],
      "execution_count": 8,
      "outputs": []
    },
    {
      "cell_type": "code",
      "metadata": {
        "id": "WmJMuFRFauxy"
      },
      "source": [
        "# Impervious land: most recent data available\n",
        "impervious = ee.ImageCollection('USGS/NLCD').select('impervious').filterDate(\"2016-01-01\", \"2017-01-01\").first().clip(california_area)\n",
        "\n",
        "datamask = impervious\n",
        "qa = impervious.select('impervious') \n",
        "mask = qa.neq(0)\n",
        "imperviousMasked = impervious.updateMask(mask.unmask()).clip(california_area)"
      ],
      "execution_count": 9,
      "outputs": []
    },
    {
      "cell_type": "code",
      "metadata": {
        "id": "N0TZTeWGepWN"
      },
      "source": [
        "# burned\n",
        "burnedCollection2020 = ee.ImageCollection('MODIS/006/MCD64A1').filter(ee.Filter.date('2020-01-01', '2021-01-01'))\n",
        "\n",
        "burned2020 = burnedCollection2020.select('BurnDate').mean().clip(california_area)\n",
        "\n",
        "burned_params = {\n",
        "  'min': 30.0,\n",
        "  'max': 341.0,\n",
        "  # 'palette': ['4e0400', '951003', 'c61503', 'ff1901'],\n",
        "  'palette':['orange', 'red']\n",
        "}"
      ],
      "execution_count": 42,
      "outputs": []
    },
    {
      "cell_type": "code",
      "metadata": {
        "id": "X_a3cW33lHzL"
      },
      "source": [
        "# Risk calculationns\n",
        "\n",
        "risk_params = {\n",
        "    'min': 0.0,\n",
        "    'max': 7.0,\n",
        "    'palette': ['fff7ec','fee8c8','fdd49e','fdbb84','fc8d59','ef6548','d7301f','990000']\n",
        "}\n",
        "\n",
        "# Impervious land scoring!\n",
        "imperviousCur = impervious.select('impervious')\n",
        "imperviousZero = imperviousCur.updateMask(imperviousCur.gt(75)) # most development, least risk\n",
        "imperviousOne = imperviousCur.updateMask(imperviousCur.gt(0).And(imperviousCur.lte(75))) # medium development, medium risk\n",
        "\n",
        "imperviousZero = imperviousZero.where(imperviousCur.gt(75), 0)\n",
        "imperviousOne = imperviousOne.where(imperviousCur.gt(0).And(imperviousCur.lte(75)), 1)\n",
        "\n",
        "# EVI land scoring!\n",
        "eviCur = y2020.select('EVI')\n",
        "eviThree = eviCur.updateMask(eviCur.gt(0.50)) # most vegetation, highest risk\n",
        "eviTwo = eviCur.updateMask(eviCur.gt(0.15).And(eviCur.lte(0.50))) # medium vegetation, medium risk\n",
        "eviOne = eviCur.updateMask(eviCur.gt(0.05).And(eviCur.lte(0.15))) # low vegetation, low risk\n",
        "eviZero = eviCur.updateMask(eviCur.gte(0).And(eviCur.lte(0.05))) # no vegetation, no risk\n",
        "\n",
        "eviThree = eviThree.where(eviCur.gt(0.50), 3)\n",
        "eviTwo = eviTwo.where(eviCur.gt(0.15).And(eviCur.lte(0.50)), 2)\n",
        "eviOne = eviOne.where(eviCur.gt(0.05).And(eviCur.lte(0.15)), 1)\n",
        "eviZero = eviZero.where(eviCur.gte(0).And(eviCur.lte(0.05)), 0)\n",
        "\n",
        "# Land cover scoring!\n",
        "lcCur = landcover.select('landcover')\n",
        "lcZero = lcCur.updateMask(lcCur.eq(11).Or(lcCur.eq(12)).Or(lcCur.eq(23)).Or(lcCur.eq(24)).Or(lcCur.eq(31)))\n",
        "lcOne = lcCur.updateMask(lcCur.eq(21).Or(lcCur.eq(22)))\n",
        "lcTwo = lcCur.updateMask(lcCur.neq(11).And(lcCur.neq(12)).And(lcCur.neq(23)).And(lcCur.neq(24)).And(lcCur.neq(31)).And(lcCur.neq(21)).And(lcCur.neq(22)))\n",
        "\n",
        "lcZero = eviThree.where(lcCur.eq(11).Or(lcCur.eq(12)).Or(lcCur.eq(23)).Or(lcCur.eq(24)).Or(lcCur.eq(31)), 0)\n",
        "lcOne = eviTwo.where(lcCur.eq(21).Or(lcCur.eq(22)), 1)\n",
        "lcTwo = eviOne.where(lcCur.neq(11).And(lcCur.neq(12)).And(lcCur.neq(23)).And(lcCur.neq(24)).And(lcCur.neq(31)).And(lcCur.neq(21)).And(lcCur.neq(22)), 2)\n",
        "\n",
        "riskImg = ee.Image().clip(california_area)\n",
        "riskImg.addBands('RISK')\n",
        "\n",
        "riskImg = riskImg.select('RISK')\n",
        "def risk(image):\n",
        "  riskImg = image\n",
        "  riskImg = riskImg.expression(\n",
        "      'zeroEVI + oneEVI + twoEVI*2 + threeEVI*3 + zeroImpervious + oneImpervious + zeroLC + oneLC + twoLC*2',\n",
        "      {\n",
        "        'zeroEVI': eviZero.select('EVIZero'),\n",
        "        'oneEVI': eviOne.select('EVIOne'),\n",
        "        'twoEVI': eviTwo.select('EVI'),\n",
        "        'threeEVI': eviThree.select('EVI'),\n",
        "        'zeroImpervious': imperviousZero.select('impervious'),\n",
        "        'oneImpervious': imperviousOne.select('impervious'),\n",
        "        'zeroLC': lcZero.select('landcover'),\n",
        "        'oneLC': lcOne.select('landcover'),\n",
        "        'twoLC': lcTwo.select('landcover')\n",
        "      }).rename('RISK')\n",
        "  return riskImg\n",
        "\n",
        "riskImg = risk(riskImg)\n"
      ],
      "execution_count": 83,
      "outputs": []
    },
    {
      "cell_type": "code",
      "metadata": {
        "colab": {
          "base_uri": "https://localhost:8080/",
          "height": 808
        },
        "id": "ETksnL2dX0Pz",
        "outputId": "2918f42c-951d-45fa-a642-425ea11784f3"
      },
      "source": [
        "# Map it!\n",
        "\n",
        "Map = geemap.Map()\n",
        "\n",
        "Map.add_basemap(\"SATELLITE\")\n",
        "\n",
        "# EVI\n",
        "Map.addLayer(y2020, eviParams, '2020 EVI', False)\n",
        "\n",
        "# Population\n",
        "Map.addLayer(pop2020, pop_params, \"Population 2020\", False)\n",
        "\n",
        "# California land classfication color image\n",
        "# Map.addLayer(composite, {'bands':['B4','B3','B2'], 'min': 0, 'max': 0.3},'California Color Image', 0);\n",
        "# land classification legend\n",
        "# Map.add_legend(legend_title=\"Land Cover Classification\", legend_dict=legend_dict)\n",
        "# //Add final map to the display\n",
        "# Map.addLayer(finalmap.sldStyle(urbanPalette), {}, \"Land Classification\");\n",
        "\n",
        "# Land classification\n",
        "Map.addLayer(landcover, {}, 'NLCD Land Cover', False)\n",
        "Map.add_legend(title=\"NLCD Land Cover Classification\", legend_dict=legend_dict)\n",
        "\n",
        "# Impervious land\n",
        "\n",
        "Map.addLayer(imperviousMasked, {}, 'NLCD Impervious Land Cover', False)\n",
        "\n",
        "# Impervious land scoring!\n",
        "Map.addLayer(imperviousZero, {'min': 0.0, 'max': 1.0, 'palette': ['white', 'black']}, 'ZERO NLCD Impervious Land Cover Masked', False)\n",
        "Map.addLayer(imperviousOne, {'min': 0.0, 'max': 1.0, 'palette': ['white', 'black']}, 'ONE NLCD Impervious Land Cover Masked', False)\n",
        "\n",
        "# EVI land scoring!\n",
        "Map.addLayer(eviZero, {'min': 0.0, 'max': 4.0, 'palette': ['feedde','fdbe85','fd8d3c','d94701']}, 'ZERO EVI', False)\n",
        "Map.addLayer(eviOne, {'min': 0.0, 'max': 4.0, 'palette': ['feedde','fdbe85','fd8d3c','d94701']}, 'ONE EVI', False)\n",
        "Map.addLayer(eviTwo, {'min': 0.0, 'max': 4.0, 'palette': ['feedde','fdbe85','fd8d3c','d94701']}, 'TWO EVI', False)\n",
        "Map.addLayer(eviThree, {'min': 0.0, 'max': 4.0, 'palette': ['feedde','fdbe85','fd8d3c','d94701']}, 'THREE EVI', False)\n",
        "\n",
        "# Land cover scoring!\n",
        "Map.addLayer(lcZero, {'min': 0.0, 'max': 3.0, 'palette': ['edf8b1','7fcdbb','2c7fb8']}, 'ZERO Land Cover', False)\n",
        "Map.addLayer(lcOne, {'min': 0.0, 'max': 3.0, 'palette': ['edf8b1','7fcdbb','2c7fb8']}, 'ONE Land Cover', False)\n",
        "Map.addLayer(lcTwo, {'min': 0.0, 'max': 3.0, 'palette': ['edf8b1','7fcdbb','2c7fb8']}, 'TWO Land Cover', False)\n",
        "\n",
        "# Risk!\n",
        "# Map.addLayer(riskImg, risk_params, 'Risk 2020', True)\n",
        "\n",
        "# Burning\n",
        "# Map.addLayer(burned, burned_params, 'Burned 2020', True)\n",
        "\n",
        "roi = ee.Geometry.Point(-118.6304, 37.3003) # (long, lat)\n",
        "Map.centerObject(roi, 6)\n",
        "Map.addLayerControl()\n",
        "Map"
      ],
      "execution_count": 86,
      "outputs": [
        {
          "output_type": "execute_result",
          "data": {
            "text/html": [
              "<div style=\"width:100%;\"><div style=\"position:relative;width:100%;height:0;padding-bottom:60%;\"><span style=\"color:#565656\">Make this Notebook Trusted to load map: File -> Trust Notebook</span><iframe src=\"about:blank\" style=\"position:absolute;width:100%;height:100%;left:0;top:0;border:none !important;\" data-html=%3C%21DOCTYPE%20html%3E%0A%3Chead%3E%20%20%20%20%0A%20%20%20%20%3Cmeta%20http-equiv%3D%22content-type%22%20content%3D%22text/html%3B%20charset%3DUTF-8%22%20/%3E%0A%20%20%20%20%0A%20%20%20%20%20%20%20%20%3Cscript%3E%0A%20%20%20%20%20%20%20%20%20%20%20%20L_NO_TOUCH%20%3D%20false%3B%0A%20%20%20%20%20%20%20%20%20%20%20%20L_DISABLE_3D%20%3D%20false%3B%0A%20%20%20%20%20%20%20%20%3C/script%3E%0A%20%20%20%20%0A%20%20%20%20%3Cstyle%3Ehtml%2C%20body%20%7Bwidth%3A%20100%25%3Bheight%3A%20100%25%3Bmargin%3A%200%3Bpadding%3A%200%3B%7D%3C/style%3E%0A%20%20%20%20%3Cstyle%3E%23map%20%7Bposition%3Aabsolute%3Btop%3A0%3Bbottom%3A0%3Bright%3A0%3Bleft%3A0%3B%7D%3C/style%3E%0A%20%20%20%20%3Cscript%20src%3D%22https%3A//cdn.jsdelivr.net/npm/leaflet%401.6.0/dist/leaflet.js%22%3E%3C/script%3E%0A%20%20%20%20%3Cscript%20src%3D%22https%3A//code.jquery.com/jquery-1.12.4.min.js%22%3E%3C/script%3E%0A%20%20%20%20%3Cscript%20src%3D%22https%3A//maxcdn.bootstrapcdn.com/bootstrap/3.2.0/js/bootstrap.min.js%22%3E%3C/script%3E%0A%20%20%20%20%3Cscript%20src%3D%22https%3A//cdnjs.cloudflare.com/ajax/libs/Leaflet.awesome-markers/2.0.2/leaflet.awesome-markers.js%22%3E%3C/script%3E%0A%20%20%20%20%3Clink%20rel%3D%22stylesheet%22%20href%3D%22https%3A//cdn.jsdelivr.net/npm/leaflet%401.6.0/dist/leaflet.css%22/%3E%0A%20%20%20%20%3Clink%20rel%3D%22stylesheet%22%20href%3D%22https%3A//maxcdn.bootstrapcdn.com/bootstrap/3.2.0/css/bootstrap.min.css%22/%3E%0A%20%20%20%20%3Clink%20rel%3D%22stylesheet%22%20href%3D%22https%3A//maxcdn.bootstrapcdn.com/bootstrap/3.2.0/css/bootstrap-theme.min.css%22/%3E%0A%20%20%20%20%3Clink%20rel%3D%22stylesheet%22%20href%3D%22https%3A//maxcdn.bootstrapcdn.com/font-awesome/4.6.3/css/font-awesome.min.css%22/%3E%0A%20%20%20%20%3Clink%20rel%3D%22stylesheet%22%20href%3D%22https%3A//cdnjs.cloudflare.com/ajax/libs/Leaflet.awesome-markers/2.0.2/leaflet.awesome-markers.css%22/%3E%0A%20%20%20%20%3Clink%20rel%3D%22stylesheet%22%20href%3D%22https%3A//cdn.jsdelivr.net/gh/python-visualization/folium/folium/templates/leaflet.awesome.rotate.min.css%22/%3E%0A%20%20%20%20%0A%20%20%20%20%20%20%20%20%20%20%20%20%3Cmeta%20name%3D%22viewport%22%20content%3D%22width%3Ddevice-width%2C%0A%20%20%20%20%20%20%20%20%20%20%20%20%20%20%20%20initial-scale%3D1.0%2C%20maximum-scale%3D1.0%2C%20user-scalable%3Dno%22%20/%3E%0A%20%20%20%20%20%20%20%20%20%20%20%20%3Cstyle%3E%0A%20%20%20%20%20%20%20%20%20%20%20%20%20%20%20%20%23map_403a95a851114b0981b7b8451381a3fe%20%7B%0A%20%20%20%20%20%20%20%20%20%20%20%20%20%20%20%20%20%20%20%20position%3A%20relative%3B%0A%20%20%20%20%20%20%20%20%20%20%20%20%20%20%20%20%20%20%20%20width%3A%20100.0%25%3B%0A%20%20%20%20%20%20%20%20%20%20%20%20%20%20%20%20%20%20%20%20height%3A%20100.0%25%3B%0A%20%20%20%20%20%20%20%20%20%20%20%20%20%20%20%20%20%20%20%20left%3A%200.0%25%3B%0A%20%20%20%20%20%20%20%20%20%20%20%20%20%20%20%20%20%20%20%20top%3A%200.0%25%3B%0A%20%20%20%20%20%20%20%20%20%20%20%20%20%20%20%20%7D%0A%20%20%20%20%20%20%20%20%20%20%20%20%3C/style%3E%0A%20%20%20%20%20%20%20%20%0A%20%20%20%20%3Cscript%20src%3D%22https%3A//cdnjs.cloudflare.com/ajax/libs/leaflet.fullscreen/1.4.2/Control.FullScreen.min.js%22%3E%3C/script%3E%0A%20%20%20%20%3Clink%20rel%3D%22stylesheet%22%20href%3D%22https%3A//cdnjs.cloudflare.com/ajax/libs/leaflet.fullscreen/1.4.2/Control.FullScreen.min.css%22/%3E%0A%3C/head%3E%0A%3Cbody%3E%20%20%20%20%0A%20%20%20%20%0A%20%20%20%20%20%20%20%20%20%20%20%20%3Cdiv%20class%3D%22folium-map%22%20id%3D%22map_403a95a851114b0981b7b8451381a3fe%22%20%3E%3C/div%3E%0A%20%20%20%20%20%20%20%20%0A%20%20%20%20%0A%0A%3C%21doctype%20html%3E%0A%3Chtml%20lang%3D%22en%22%3E%0A%3Chead%3E%0A%20%20%3Cmeta%20charset%3D%22utf-8%22%3E%0A%20%20%3Cmeta%20name%3D%22viewport%22%20content%3D%22width%3Ddevice-width%2C%20initial-scale%3D1%22%3E%0A%20%20%3Ctitle%3EjQuery%20UI%20Draggable%20-%20Default%20functionality%3C/title%3E%0A%20%20%3Clink%20rel%3D%22stylesheet%22%20href%3D%22//code.jquery.com/ui/1.12.1/themes/base/jquery-ui.css%22%3E%0A%0A%20%20%3Cscript%20src%3D%22https%3A//code.jquery.com/jquery-1.12.4.js%22%3E%3C/script%3E%0A%20%20%3Cscript%20src%3D%22https%3A//code.jquery.com/ui/1.12.1/jquery-ui.js%22%3E%3C/script%3E%0A%0A%20%20%3Cscript%3E%0A%20%20%24%28%20function%28%29%20%7B%0A%20%20%20%20%24%28%20%22%23maplegend%22%20%29.draggable%28%7B%0A%20%20%20%20%20%20%20%20%20%20%20%20%20%20%20%20%20%20%20%20start%3A%20function%20%28event%2C%20ui%29%20%7B%0A%20%20%20%20%20%20%20%20%20%20%20%20%20%20%20%20%20%20%20%20%20%20%20%20%24%28this%29.css%28%7B%0A%20%20%20%20%20%20%20%20%20%20%20%20%20%20%20%20%20%20%20%20%20%20%20%20%20%20%20%20right%3A%20%22auto%22%2C%0A%20%20%20%20%20%20%20%20%20%20%20%20%20%20%20%20%20%20%20%20%20%20%20%20%20%20%20%20top%3A%20%22auto%22%2C%0A%20%20%20%20%20%20%20%20%20%20%20%20%20%20%20%20%20%20%20%20%20%20%20%20%20%20%20%20bottom%3A%20%22auto%22%0A%20%20%20%20%20%20%20%20%20%20%20%20%20%20%20%20%20%20%20%20%20%20%20%20%7D%29%3B%0A%20%20%20%20%20%20%20%20%20%20%20%20%20%20%20%20%20%20%20%20%7D%0A%20%20%20%20%20%20%20%20%20%20%20%20%20%20%20%20%7D%29%3B%0A%7D%29%3B%0A%0A%20%20%3C/script%3E%0A%3C/head%3E%0A%3Cbody%3E%0A%0A%0A%3Cdiv%20id%3D%27maplegend%27%20class%3D%27maplegend%27%0A%20%20%20%20style%3D%27position%3A%20absolute%3B%20z-index%3A9999%3B%20border%3A2px%20solid%20grey%3B%20background-color%3Argba%28255%2C%20255%2C%20255%2C%200.8%29%3B%0A%20%20%20%20%20border-radius%3A6px%3B%20padding%3A%2010px%3B%20font-size%3A14px%3B%20right%3A%2020px%3B%20bottom%3A%2020px%3B%27%3E%0A%0A%3Cdiv%20class%3D%27legend-title%27%3ENLCD%20Land%20Cover%20Classification%3C/div%3E%0A%3Cdiv%20class%3D%27legend-scale%27%3E%0A%20%20%3Cul%20class%3D%27legend-labels%27%3E%0A%20%20%20%20%3Cli%3E%3Cspan%20style%3D%27background%3A%23466b9f%3Bopacity%3A1.0%3B%27%3E%3C/span%3E11%20Open%20Water%3C/li%3E%0A%20%20%20%20%3Cli%3E%3Cspan%20style%3D%27background%3A%23d1def8%3Bopacity%3A1.0%3B%27%3E%3C/span%3E12%20Perennial%20Ice/Snow%3C/li%3E%0A%20%20%20%20%3Cli%3E%3Cspan%20style%3D%27background%3A%23dec5c5%3Bopacity%3A1.0%3B%27%3E%3C/span%3E21%20Developed%2C%20Open%20Space%3C/li%3E%0A%20%20%20%20%3Cli%3E%3Cspan%20style%3D%27background%3A%23d99282%3Bopacity%3A1.0%3B%27%3E%3C/span%3E22%20Developed%2C%20Low%20Intensity%3C/li%3E%0A%20%20%20%20%3Cli%3E%3Cspan%20style%3D%27background%3A%23eb0000%3Bopacity%3A1.0%3B%27%3E%3C/span%3E23%20Developed%2C%20Medium%20Intensity%3C/li%3E%0A%20%20%20%20%3Cli%3E%3Cspan%20style%3D%27background%3A%23ab0000%3Bopacity%3A1.0%3B%27%3E%3C/span%3E24%20Developed%20High%20Intensity%3C/li%3E%0A%20%20%20%20%3Cli%3E%3Cspan%20style%3D%27background%3A%23b3ac9f%3Bopacity%3A1.0%3B%27%3E%3C/span%3E31%20Barren%20Land%20%28Rock/Sand/Clay%29%3C/li%3E%0A%20%20%20%20%3Cli%3E%3Cspan%20style%3D%27background%3A%2368ab5f%3Bopacity%3A1.0%3B%27%3E%3C/span%3E41%20Deciduous%20Forest%3C/li%3E%0A%20%20%20%20%3Cli%3E%3Cspan%20style%3D%27background%3A%231c5f2c%3Bopacity%3A1.0%3B%27%3E%3C/span%3E42%20Evergreen%20Forest%3C/li%3E%0A%20%20%20%20%3Cli%3E%3Cspan%20style%3D%27background%3A%23b5c58f%3Bopacity%3A1.0%3B%27%3E%3C/span%3E43%20Mixed%20Forest%3C/li%3E%0A%20%20%20%20%3Cli%3E%3Cspan%20style%3D%27background%3A%23af963c%3Bopacity%3A1.0%3B%27%3E%3C/span%3E51%20Dwarf%20Scrub%3C/li%3E%0A%20%20%20%20%3Cli%3E%3Cspan%20style%3D%27background%3A%23ccb879%3Bopacity%3A1.0%3B%27%3E%3C/span%3E52%20Shrub/Scrub%3C/li%3E%0A%20%20%20%20%3Cli%3E%3Cspan%20style%3D%27background%3A%23dfdfc2%3Bopacity%3A1.0%3B%27%3E%3C/span%3E71%20Grassland/Herbaceous%3C/li%3E%0A%20%20%20%20%3Cli%3E%3Cspan%20style%3D%27background%3A%23d1d182%3Bopacity%3A1.0%3B%27%3E%3C/span%3E72%20Sedge/Herbaceous%3C/li%3E%0A%20%20%20%20%3Cli%3E%3Cspan%20style%3D%27background%3A%23a3cc51%3Bopacity%3A1.0%3B%27%3E%3C/span%3E73%20Lichens%3C/li%3E%0A%20%20%20%20%3Cli%3E%3Cspan%20style%3D%27background%3A%2382ba9e%3Bopacity%3A1.0%3B%27%3E%3C/span%3E74%20Moss%3C/li%3E%0A%20%20%20%20%3Cli%3E%3Cspan%20style%3D%27background%3A%23dcd939%3Bopacity%3A1.0%3B%27%3E%3C/span%3E81%20Pasture/Hay%3C/li%3E%0A%20%20%20%20%3Cli%3E%3Cspan%20style%3D%27background%3A%23ab6c28%3Bopacity%3A1.0%3B%27%3E%3C/span%3E82%20Cultivated%20Crops%3C/li%3E%0A%20%20%20%20%3Cli%3E%3Cspan%20style%3D%27background%3A%23b8d9eb%3Bopacity%3A1.0%3B%27%3E%3C/span%3E90%20Woody%20Wetlands%3C/li%3E%0A%20%20%20%20%3Cli%3E%3Cspan%20style%3D%27background%3A%236c9fb8%3Bopacity%3A1.0%3B%27%3E%3C/span%3E95%20Emergent%20Herbaceous%20Wetlands%3C/li%3E%0A%20%20%3C/ul%3E%0A%3C/div%3E%0A%3C/div%3E%0A%0A%3C/body%3E%0A%3C/html%3E%0A%0A%3Cstyle%20type%3D%27text/css%27%3E%0A%20%20.maplegend%20.legend-title%20%7B%0A%20%20%20%20text-align%3A%20left%3B%0A%20%20%20%20margin-bottom%3A%205px%3B%0A%20%20%20%20font-weight%3A%20bold%3B%0A%20%20%20%20font-size%3A%2090%25%3B%0A%20%20%20%20%7D%0A%20%20.maplegend%20.legend-scale%20ul%20%7B%0A%20%20%20%20margin%3A%200%3B%0A%20%20%20%20margin-bottom%3A%205px%3B%0A%20%20%20%20padding%3A%200%3B%0A%20%20%20%20float%3A%20left%3B%0A%20%20%20%20list-style%3A%20none%3B%0A%20%20%20%20%7D%0A%20%20.maplegend%20.legend-scale%20ul%20li%20%7B%0A%20%20%20%20font-size%3A%2080%25%3B%0A%20%20%20%20list-style%3A%20none%3B%0A%20%20%20%20margin-left%3A%200%3B%0A%20%20%20%20line-height%3A%2018px%3B%0A%20%20%20%20margin-bottom%3A%202px%3B%0A%20%20%20%20%7D%0A%20%20.maplegend%20ul.legend-labels%20li%20span%20%7B%0A%20%20%20%20display%3A%20block%3B%0A%20%20%20%20float%3A%20left%3B%0A%20%20%20%20height%3A%2016px%3B%0A%20%20%20%20width%3A%2030px%3B%0A%20%20%20%20margin-right%3A%205px%3B%0A%20%20%20%20margin-left%3A%200%3B%0A%20%20%20%20border%3A%201px%20solid%20%23999%3B%0A%20%20%20%20%7D%0A%20%20.maplegend%20.legend-source%20%7B%0A%20%20%20%20font-size%3A%2080%25%3B%0A%20%20%20%20color%3A%20%23777%3B%0A%20%20%20%20clear%3A%20both%3B%0A%20%20%20%20%7D%0A%20%20.maplegend%20a%20%7B%0A%20%20%20%20color%3A%20%23777%3B%0A%20%20%20%20%7D%0A%3C/style%3E%0A%3C/body%3E%0A%3Cscript%3E%20%20%20%20%0A%20%20%20%20%0A%20%20%20%20%20%20%20%20%20%20%20%20var%20map_403a95a851114b0981b7b8451381a3fe%20%3D%20L.map%28%0A%20%20%20%20%20%20%20%20%20%20%20%20%20%20%20%20%22map_403a95a851114b0981b7b8451381a3fe%22%2C%0A%20%20%20%20%20%20%20%20%20%20%20%20%20%20%20%20%7B%0A%20%20%20%20%20%20%20%20%20%20%20%20%20%20%20%20%20%20%20%20center%3A%20%5B40.0%2C%20-100.0%5D%2C%0A%20%20%20%20%20%20%20%20%20%20%20%20%20%20%20%20%20%20%20%20crs%3A%20L.CRS.EPSG3857%2C%0A%20%20%20%20%20%20%20%20%20%20%20%20%20%20%20%20%20%20%20%20zoom%3A%204%2C%0A%20%20%20%20%20%20%20%20%20%20%20%20%20%20%20%20%20%20%20%20zoomControl%3A%20true%2C%0A%20%20%20%20%20%20%20%20%20%20%20%20%20%20%20%20%20%20%20%20preferCanvas%3A%20false%2C%0A%20%20%20%20%20%20%20%20%20%20%20%20%20%20%20%20%20%20%20%20eeInitialize%3A%20true%2C%0A%20%20%20%20%20%20%20%20%20%20%20%20%20%20%20%20%20%20%20%20addGoogleMap%3A%20true%2C%0A%20%20%20%20%20%20%20%20%20%20%20%20%20%20%20%20%20%20%20%20pluginLatlngpopup%3A%20true%2C%0A%20%20%20%20%20%20%20%20%20%20%20%20%20%20%20%20%20%20%20%20pluginFullscreen%3A%20true%2C%0A%20%20%20%20%20%20%20%20%20%20%20%20%20%20%20%20%20%20%20%20pluginDraw%3A%20false%2C%0A%20%20%20%20%20%20%20%20%20%20%20%20%20%20%20%20%20%20%20%20DrawExport%3A%20true%2C%0A%20%20%20%20%20%20%20%20%20%20%20%20%20%20%20%20%20%20%20%20pluginMinimap%3A%20false%2C%0A%20%20%20%20%20%20%20%20%20%20%20%20%20%20%20%20%20%20%20%20pluginLayercontrol%3A%20false%2C%0A%20%20%20%20%20%20%20%20%20%20%20%20%20%20%20%20%7D%0A%20%20%20%20%20%20%20%20%20%20%20%20%29%3B%0A%0A%20%20%20%20%20%20%20%20%20%20%20%20%0A%0A%20%20%20%20%20%20%20%20%0A%20%20%20%20%0A%20%20%20%20%20%20%20%20%20%20%20%20var%20tile_layer_440abcc55a8b4aaf8dfdf11ece167ed3%20%3D%20L.tileLayer%28%0A%20%20%20%20%20%20%20%20%20%20%20%20%20%20%20%20%22https%3A//%7Bs%7D.tile.openstreetmap.org/%7Bz%7D/%7Bx%7D/%7By%7D.png%22%2C%0A%20%20%20%20%20%20%20%20%20%20%20%20%20%20%20%20%7B%22attribution%22%3A%20%22Data%20by%20%5Cu0026copy%3B%20%5Cu003ca%20href%3D%5C%22http%3A//openstreetmap.org%5C%22%5Cu003eOpenStreetMap%5Cu003c/a%5Cu003e%2C%20under%20%5Cu003ca%20href%3D%5C%22http%3A//www.openstreetmap.org/copyright%5C%22%5Cu003eODbL%5Cu003c/a%5Cu003e.%22%2C%20%22detectRetina%22%3A%20false%2C%20%22maxNativeZoom%22%3A%2018%2C%20%22maxZoom%22%3A%2018%2C%20%22minZoom%22%3A%200%2C%20%22noWrap%22%3A%20false%2C%20%22opacity%22%3A%201%2C%20%22subdomains%22%3A%20%22abc%22%2C%20%22tms%22%3A%20false%7D%0A%20%20%20%20%20%20%20%20%20%20%20%20%29.addTo%28map_403a95a851114b0981b7b8451381a3fe%29%3B%0A%20%20%20%20%20%20%20%20%0A%20%20%20%20%0A%20%20%20%20%20%20%20%20%20%20%20%20var%20tile_layer_7fff95d2afc84297993cc5b67aef0a91%20%3D%20L.tileLayer%28%0A%20%20%20%20%20%20%20%20%20%20%20%20%20%20%20%20%22https%3A//mt1.google.com/vt/lyrs%3Dm%5Cu0026x%3D%7Bx%7D%5Cu0026y%3D%7By%7D%5Cu0026z%3D%7Bz%7D%22%2C%0A%20%20%20%20%20%20%20%20%20%20%20%20%20%20%20%20%7B%22attribution%22%3A%20%22Google%22%2C%20%22detectRetina%22%3A%20false%2C%20%22maxNativeZoom%22%3A%2018%2C%20%22maxZoom%22%3A%2018%2C%20%22minZoom%22%3A%200%2C%20%22noWrap%22%3A%20false%2C%20%22opacity%22%3A%201%2C%20%22subdomains%22%3A%20%22abc%22%2C%20%22tms%22%3A%20false%7D%0A%20%20%20%20%20%20%20%20%20%20%20%20%29.addTo%28map_403a95a851114b0981b7b8451381a3fe%29%3B%0A%20%20%20%20%20%20%20%20%0A%20%20%20%20%0A%20%20%20%20%20%20%20%20%20%20%20%20%20%20%20%20var%20lat_lng_popup_86c4d7c2de6a448286b3635cee36e2e6%20%3D%20L.popup%28%29%3B%0A%20%20%20%20%20%20%20%20%20%20%20%20%20%20%20%20function%20latLngPop%28e%29%20%7B%0A%20%20%20%20%20%20%20%20%20%20%20%20%20%20%20%20%20%20%20%20lat_lng_popup_86c4d7c2de6a448286b3635cee36e2e6%0A%20%20%20%20%20%20%20%20%20%20%20%20%20%20%20%20%20%20%20%20%20%20%20%20.setLatLng%28e.latlng%29%0A%20%20%20%20%20%20%20%20%20%20%20%20%20%20%20%20%20%20%20%20%20%20%20%20.setContent%28%22Latitude%3A%20%22%20%2B%20e.latlng.lat.toFixed%284%29%20%2B%0A%20%20%20%20%20%20%20%20%20%20%20%20%20%20%20%20%20%20%20%20%20%20%20%20%20%20%20%20%20%20%20%20%20%20%20%20%22%3Cbr%3ELongitude%3A%20%22%20%2B%20e.latlng.lng.toFixed%284%29%29%0A%20%20%20%20%20%20%20%20%20%20%20%20%20%20%20%20%20%20%20%20%20%20%20%20.openOn%28map_403a95a851114b0981b7b8451381a3fe%29%3B%0A%20%20%20%20%20%20%20%20%20%20%20%20%20%20%20%20%20%20%20%20%7D%0A%20%20%20%20%20%20%20%20%20%20%20%20%20%20%20%20map_403a95a851114b0981b7b8451381a3fe.on%28%27click%27%2C%20latLngPop%29%3B%0A%20%20%20%20%20%20%20%20%20%20%20%20%0A%20%20%20%20%0A%20%20%20%20%20%20%20%20%20%20%20%20L.control.fullscreen%28%0A%20%20%20%20%20%20%20%20%20%20%20%20%20%20%20%20%7B%22forceSeparateButton%22%3A%20false%2C%20%22position%22%3A%20%22topleft%22%2C%20%22title%22%3A%20%22Full%20Screen%22%2C%20%22titleCancel%22%3A%20%22Exit%20Full%20Screen%22%7D%0A%20%20%20%20%20%20%20%20%20%20%20%20%29.addTo%28map_403a95a851114b0981b7b8451381a3fe%29%3B%0A%20%20%20%20%20%20%20%20%0A%20%20%20%20%0A%20%20%20%20%20%20%20%20%20%20%20%20map_403a95a851114b0981b7b8451381a3fe.fitBounds%28%0A%20%20%20%20%20%20%20%20%20%20%20%20%20%20%20%20%5B%5B40%2C%20-100%5D%2C%20%5B40%2C%20-100%5D%5D%2C%0A%20%20%20%20%20%20%20%20%20%20%20%20%20%20%20%20%7B%22maxZoom%22%3A%204%7D%0A%20%20%20%20%20%20%20%20%20%20%20%20%29%3B%0A%20%20%20%20%20%20%20%20%0A%20%20%20%20%0A%20%20%20%20%20%20%20%20%20%20%20%20var%20tile_layer_9e7110d09cfb4846bc97725b37d9bdf6%20%3D%20L.tileLayer%28%0A%20%20%20%20%20%20%20%20%20%20%20%20%20%20%20%20%22https%3A//mt1.google.com/vt/lyrs%3Ds%5Cu0026x%3D%7Bx%7D%5Cu0026y%3D%7By%7D%5Cu0026z%3D%7Bz%7D%22%2C%0A%20%20%20%20%20%20%20%20%20%20%20%20%20%20%20%20%7B%22attribution%22%3A%20%22Google%22%2C%20%22detectRetina%22%3A%20false%2C%20%22maxNativeZoom%22%3A%2018%2C%20%22maxZoom%22%3A%2018%2C%20%22minZoom%22%3A%200%2C%20%22noWrap%22%3A%20false%2C%20%22opacity%22%3A%201%2C%20%22subdomains%22%3A%20%22abc%22%2C%20%22tms%22%3A%20false%7D%0A%20%20%20%20%20%20%20%20%20%20%20%20%29.addTo%28map_403a95a851114b0981b7b8451381a3fe%29%3B%0A%20%20%20%20%20%20%20%20%0A%20%20%20%20%0A%20%20%20%20%20%20%20%20%20%20%20%20var%20tile_layer_7952a46821c142c3b5aa262d2dd0cdc4%20%3D%20L.tileLayer%28%0A%20%20%20%20%20%20%20%20%20%20%20%20%20%20%20%20%22https%3A//earthengine.googleapis.com/v1alpha/projects/earthengine-legacy/maps/3aa0f2b5efe0f3d59ae4b612d24c6677-7f86ca146eba9a2777e61baeaa9cde24/tiles/%7Bz%7D/%7Bx%7D/%7By%7D%22%2C%0A%20%20%20%20%20%20%20%20%20%20%20%20%20%20%20%20%7B%22attribution%22%3A%20%22Google%20Earth%20Engine%22%2C%20%22detectRetina%22%3A%20false%2C%20%22maxNativeZoom%22%3A%2018%2C%20%22maxZoom%22%3A%2018%2C%20%22minZoom%22%3A%200%2C%20%22noWrap%22%3A%20false%2C%20%22opacity%22%3A%201.0%2C%20%22subdomains%22%3A%20%22abc%22%2C%20%22tms%22%3A%20false%7D%0A%20%20%20%20%20%20%20%20%20%20%20%20%29.addTo%28map_403a95a851114b0981b7b8451381a3fe%29%3B%0A%20%20%20%20%20%20%20%20%0A%20%20%20%20%0A%20%20%20%20%20%20%20%20%20%20%20%20var%20tile_layer_d0f86703a2ec4fb9b5f070ea1be03865%20%3D%20L.tileLayer%28%0A%20%20%20%20%20%20%20%20%20%20%20%20%20%20%20%20%22https%3A//earthengine.googleapis.com/v1alpha/projects/earthengine-legacy/maps/39145540ad2b8808dcfd3032cec68970-b859f2552709031efd0e42712cb5468f/tiles/%7Bz%7D/%7Bx%7D/%7By%7D%22%2C%0A%20%20%20%20%20%20%20%20%20%20%20%20%20%20%20%20%7B%22attribution%22%3A%20%22Google%20Earth%20Engine%22%2C%20%22detectRetina%22%3A%20false%2C%20%22maxNativeZoom%22%3A%2018%2C%20%22maxZoom%22%3A%2018%2C%20%22minZoom%22%3A%200%2C%20%22noWrap%22%3A%20false%2C%20%22opacity%22%3A%201.0%2C%20%22subdomains%22%3A%20%22abc%22%2C%20%22tms%22%3A%20false%7D%0A%20%20%20%20%20%20%20%20%20%20%20%20%29.addTo%28map_403a95a851114b0981b7b8451381a3fe%29%3B%0A%20%20%20%20%20%20%20%20%0A%20%20%20%20%0A%20%20%20%20%20%20%20%20%20%20%20%20var%20tile_layer_f6d207710b1548a48255455c85077969%20%3D%20L.tileLayer%28%0A%20%20%20%20%20%20%20%20%20%20%20%20%20%20%20%20%22https%3A//earthengine.googleapis.com/v1alpha/projects/earthengine-legacy/maps/2ae69a92de28ca78017820b38a58f842-1749be6ef22e683afd9a5644c8e3ba20/tiles/%7Bz%7D/%7Bx%7D/%7By%7D%22%2C%0A%20%20%20%20%20%20%20%20%20%20%20%20%20%20%20%20%7B%22attribution%22%3A%20%22Google%20Earth%20Engine%22%2C%20%22detectRetina%22%3A%20false%2C%20%22maxNativeZoom%22%3A%2018%2C%20%22maxZoom%22%3A%2018%2C%20%22minZoom%22%3A%200%2C%20%22noWrap%22%3A%20false%2C%20%22opacity%22%3A%201.0%2C%20%22subdomains%22%3A%20%22abc%22%2C%20%22tms%22%3A%20false%7D%0A%20%20%20%20%20%20%20%20%20%20%20%20%29.addTo%28map_403a95a851114b0981b7b8451381a3fe%29%3B%0A%20%20%20%20%20%20%20%20%0A%20%20%20%20%0A%20%20%20%20%20%20%20%20%20%20%20%20var%20tile_layer_619d049e035748ada3b3c79d3d45a1b9%20%3D%20L.tileLayer%28%0A%20%20%20%20%20%20%20%20%20%20%20%20%20%20%20%20%22https%3A//earthengine.googleapis.com/v1alpha/projects/earthengine-legacy/maps/8019e1511fd786b529aea797f4349a7d-4658be66b3224df641ab8101e02eeb30/tiles/%7Bz%7D/%7Bx%7D/%7By%7D%22%2C%0A%20%20%20%20%20%20%20%20%20%20%20%20%20%20%20%20%7B%22attribution%22%3A%20%22Google%20Earth%20Engine%22%2C%20%22detectRetina%22%3A%20false%2C%20%22maxNativeZoom%22%3A%2018%2C%20%22maxZoom%22%3A%2018%2C%20%22minZoom%22%3A%200%2C%20%22noWrap%22%3A%20false%2C%20%22opacity%22%3A%201.0%2C%20%22subdomains%22%3A%20%22abc%22%2C%20%22tms%22%3A%20false%7D%0A%20%20%20%20%20%20%20%20%20%20%20%20%29.addTo%28map_403a95a851114b0981b7b8451381a3fe%29%3B%0A%20%20%20%20%20%20%20%20%0A%20%20%20%20%0A%20%20%20%20%20%20%20%20%20%20%20%20var%20tile_layer_461b89827661462381667aeec88abaad%20%3D%20L.tileLayer%28%0A%20%20%20%20%20%20%20%20%20%20%20%20%20%20%20%20%22https%3A//earthengine.googleapis.com/v1alpha/projects/earthengine-legacy/maps/a4b4140845992574af6b7fc0311c2c80-e7d469f25bbb5fb1cdf2bd1da0d20a94/tiles/%7Bz%7D/%7Bx%7D/%7By%7D%22%2C%0A%20%20%20%20%20%20%20%20%20%20%20%20%20%20%20%20%7B%22attribution%22%3A%20%22Google%20Earth%20Engine%22%2C%20%22detectRetina%22%3A%20false%2C%20%22maxNativeZoom%22%3A%2018%2C%20%22maxZoom%22%3A%2018%2C%20%22minZoom%22%3A%200%2C%20%22noWrap%22%3A%20false%2C%20%22opacity%22%3A%201.0%2C%20%22subdomains%22%3A%20%22abc%22%2C%20%22tms%22%3A%20false%7D%0A%20%20%20%20%20%20%20%20%20%20%20%20%29.addTo%28map_403a95a851114b0981b7b8451381a3fe%29%3B%0A%20%20%20%20%20%20%20%20%0A%20%20%20%20%0A%20%20%20%20%20%20%20%20%20%20%20%20var%20tile_layer_5eb663badeb14dbeb88982c468450672%20%3D%20L.tileLayer%28%0A%20%20%20%20%20%20%20%20%20%20%20%20%20%20%20%20%22https%3A//earthengine.googleapis.com/v1alpha/projects/earthengine-legacy/maps/531a40f2601e2942b3a544f0a929b26b-4ce6c4d5051dfbff706244243240d13c/tiles/%7Bz%7D/%7Bx%7D/%7By%7D%22%2C%0A%20%20%20%20%20%20%20%20%20%20%20%20%20%20%20%20%7B%22attribution%22%3A%20%22Google%20Earth%20Engine%22%2C%20%22detectRetina%22%3A%20false%2C%20%22maxNativeZoom%22%3A%2018%2C%20%22maxZoom%22%3A%2018%2C%20%22minZoom%22%3A%200%2C%20%22noWrap%22%3A%20false%2C%20%22opacity%22%3A%201.0%2C%20%22subdomains%22%3A%20%22abc%22%2C%20%22tms%22%3A%20false%7D%0A%20%20%20%20%20%20%20%20%20%20%20%20%29.addTo%28map_403a95a851114b0981b7b8451381a3fe%29%3B%0A%20%20%20%20%20%20%20%20%0A%20%20%20%20%0A%20%20%20%20%20%20%20%20%20%20%20%20var%20tile_layer_d7e23a1b32df41c8962d8c4851c02251%20%3D%20L.tileLayer%28%0A%20%20%20%20%20%20%20%20%20%20%20%20%20%20%20%20%22https%3A//earthengine.googleapis.com/v1alpha/projects/earthengine-legacy/maps/8202366792f334cfc97164e2cd4a83f5-7700084b853450d226347f04a2f3b747/tiles/%7Bz%7D/%7Bx%7D/%7By%7D%22%2C%0A%20%20%20%20%20%20%20%20%20%20%20%20%20%20%20%20%7B%22attribution%22%3A%20%22Google%20Earth%20Engine%22%2C%20%22detectRetina%22%3A%20false%2C%20%22maxNativeZoom%22%3A%2018%2C%20%22maxZoom%22%3A%2018%2C%20%22minZoom%22%3A%200%2C%20%22noWrap%22%3A%20false%2C%20%22opacity%22%3A%201.0%2C%20%22subdomains%22%3A%20%22abc%22%2C%20%22tms%22%3A%20false%7D%0A%20%20%20%20%20%20%20%20%20%20%20%20%29.addTo%28map_403a95a851114b0981b7b8451381a3fe%29%3B%0A%20%20%20%20%20%20%20%20%0A%20%20%20%20%0A%20%20%20%20%20%20%20%20%20%20%20%20var%20tile_layer_c418bcc3b047469a960018d784a46ad2%20%3D%20L.tileLayer%28%0A%20%20%20%20%20%20%20%20%20%20%20%20%20%20%20%20%22https%3A//earthengine.googleapis.com/v1alpha/projects/earthengine-legacy/maps/07b20abf471f2538ff5c369f660b0da8-fce40a0fa067cf9aa5190f3ff14731a6/tiles/%7Bz%7D/%7Bx%7D/%7By%7D%22%2C%0A%20%20%20%20%20%20%20%20%20%20%20%20%20%20%20%20%7B%22attribution%22%3A%20%22Google%20Earth%20Engine%22%2C%20%22detectRetina%22%3A%20false%2C%20%22maxNativeZoom%22%3A%2018%2C%20%22maxZoom%22%3A%2018%2C%20%22minZoom%22%3A%200%2C%20%22noWrap%22%3A%20false%2C%20%22opacity%22%3A%201.0%2C%20%22subdomains%22%3A%20%22abc%22%2C%20%22tms%22%3A%20false%7D%0A%20%20%20%20%20%20%20%20%20%20%20%20%29.addTo%28map_403a95a851114b0981b7b8451381a3fe%29%3B%0A%20%20%20%20%20%20%20%20%0A%20%20%20%20%0A%20%20%20%20%20%20%20%20%20%20%20%20var%20tile_layer_4958b0b9ff734cb6b8a5b20ad1ab854a%20%3D%20L.tileLayer%28%0A%20%20%20%20%20%20%20%20%20%20%20%20%20%20%20%20%22https%3A//earthengine.googleapis.com/v1alpha/projects/earthengine-legacy/maps/88bf7ad513e5ce300be97a1f9fc6f228-de2082ff9f284931d2ed7617534c8d08/tiles/%7Bz%7D/%7Bx%7D/%7By%7D%22%2C%0A%20%20%20%20%20%20%20%20%20%20%20%20%20%20%20%20%7B%22attribution%22%3A%20%22Google%20Earth%20Engine%22%2C%20%22detectRetina%22%3A%20false%2C%20%22maxNativeZoom%22%3A%2018%2C%20%22maxZoom%22%3A%2018%2C%20%22minZoom%22%3A%200%2C%20%22noWrap%22%3A%20false%2C%20%22opacity%22%3A%201.0%2C%20%22subdomains%22%3A%20%22abc%22%2C%20%22tms%22%3A%20false%7D%0A%20%20%20%20%20%20%20%20%20%20%20%20%29.addTo%28map_403a95a851114b0981b7b8451381a3fe%29%3B%0A%20%20%20%20%20%20%20%20%0A%20%20%20%20%0A%20%20%20%20%20%20%20%20%20%20%20%20var%20tile_layer_37aec6447f77449087030c1e2be99a93%20%3D%20L.tileLayer%28%0A%20%20%20%20%20%20%20%20%20%20%20%20%20%20%20%20%22https%3A//earthengine.googleapis.com/v1alpha/projects/earthengine-legacy/maps/906efa7067d895c46bf046e649ed2985-cdc23dd3f8f49ecdda4a9baf15274939/tiles/%7Bz%7D/%7Bx%7D/%7By%7D%22%2C%0A%20%20%20%20%20%20%20%20%20%20%20%20%20%20%20%20%7B%22attribution%22%3A%20%22Google%20Earth%20Engine%22%2C%20%22detectRetina%22%3A%20false%2C%20%22maxNativeZoom%22%3A%2018%2C%20%22maxZoom%22%3A%2018%2C%20%22minZoom%22%3A%200%2C%20%22noWrap%22%3A%20false%2C%20%22opacity%22%3A%201.0%2C%20%22subdomains%22%3A%20%22abc%22%2C%20%22tms%22%3A%20false%7D%0A%20%20%20%20%20%20%20%20%20%20%20%20%29.addTo%28map_403a95a851114b0981b7b8451381a3fe%29%3B%0A%20%20%20%20%20%20%20%20%0A%20%20%20%20%0A%20%20%20%20%20%20%20%20%20%20%20%20var%20tile_layer_c22be6f3c2d2497ba61dd86c57ffb39b%20%3D%20L.tileLayer%28%0A%20%20%20%20%20%20%20%20%20%20%20%20%20%20%20%20%22https%3A//earthengine.googleapis.com/v1alpha/projects/earthengine-legacy/maps/ef74465500163812e451fee6f21d16fb-0c54ee63c310d7f9e6c7827810b45087/tiles/%7Bz%7D/%7Bx%7D/%7By%7D%22%2C%0A%20%20%20%20%20%20%20%20%20%20%20%20%20%20%20%20%7B%22attribution%22%3A%20%22Google%20Earth%20Engine%22%2C%20%22detectRetina%22%3A%20false%2C%20%22maxNativeZoom%22%3A%2018%2C%20%22maxZoom%22%3A%2018%2C%20%22minZoom%22%3A%200%2C%20%22noWrap%22%3A%20false%2C%20%22opacity%22%3A%201.0%2C%20%22subdomains%22%3A%20%22abc%22%2C%20%22tms%22%3A%20false%7D%0A%20%20%20%20%20%20%20%20%20%20%20%20%29.addTo%28map_403a95a851114b0981b7b8451381a3fe%29%3B%0A%20%20%20%20%20%20%20%20%0A%20%20%20%20%0A%20%20%20%20%20%20%20%20%20%20%20%20var%20tile_layer_da1633c4dc684c81b70ce08d0f585752%20%3D%20L.tileLayer%28%0A%20%20%20%20%20%20%20%20%20%20%20%20%20%20%20%20%22https%3A//earthengine.googleapis.com/v1alpha/projects/earthengine-legacy/maps/c6b46191b29b33cb4d7636af70b2ab6f-a12c7532de4770b64f6b750d1f14391b/tiles/%7Bz%7D/%7Bx%7D/%7By%7D%22%2C%0A%20%20%20%20%20%20%20%20%20%20%20%20%20%20%20%20%7B%22attribution%22%3A%20%22Google%20Earth%20Engine%22%2C%20%22detectRetina%22%3A%20false%2C%20%22maxNativeZoom%22%3A%2018%2C%20%22maxZoom%22%3A%2018%2C%20%22minZoom%22%3A%200%2C%20%22noWrap%22%3A%20false%2C%20%22opacity%22%3A%201.0%2C%20%22subdomains%22%3A%20%22abc%22%2C%20%22tms%22%3A%20false%7D%0A%20%20%20%20%20%20%20%20%20%20%20%20%29.addTo%28map_403a95a851114b0981b7b8451381a3fe%29%3B%0A%20%20%20%20%20%20%20%20%0A%20%20%20%20%0A%20%20%20%20%20%20%20%20%20%20%20%20var%20tile_layer_88b630963cee4d7385ac8e2b71c4d5b3%20%3D%20L.tileLayer%28%0A%20%20%20%20%20%20%20%20%20%20%20%20%20%20%20%20%22https%3A//earthengine.googleapis.com/v1alpha/projects/earthengine-legacy/maps/f8097dc757b4369078d91a57cf5c5cdb-6c350ded4967654becc323bf50a44ba1/tiles/%7Bz%7D/%7Bx%7D/%7By%7D%22%2C%0A%20%20%20%20%20%20%20%20%20%20%20%20%20%20%20%20%7B%22attribution%22%3A%20%22Google%20Earth%20Engine%22%2C%20%22detectRetina%22%3A%20false%2C%20%22maxNativeZoom%22%3A%2018%2C%20%22maxZoom%22%3A%2018%2C%20%22minZoom%22%3A%200%2C%20%22noWrap%22%3A%20false%2C%20%22opacity%22%3A%201.0%2C%20%22subdomains%22%3A%20%22abc%22%2C%20%22tms%22%3A%20false%7D%0A%20%20%20%20%20%20%20%20%20%20%20%20%29.addTo%28map_403a95a851114b0981b7b8451381a3fe%29%3B%0A%20%20%20%20%20%20%20%20%0A%20%20%20%20%0A%20%20%20%20%20%20%20%20%20%20%20%20map_403a95a851114b0981b7b8451381a3fe.fitBounds%28%0A%20%20%20%20%20%20%20%20%20%20%20%20%20%20%20%20%5B%5B37.30029999999999%2C%20-118.63040000000001%5D%2C%20%5B37.30029999999999%2C%20-118.63040000000001%5D%5D%2C%0A%20%20%20%20%20%20%20%20%20%20%20%20%20%20%20%20%7B%22maxZoom%22%3A%206%7D%0A%20%20%20%20%20%20%20%20%20%20%20%20%29%3B%0A%20%20%20%20%20%20%20%20%0A%20%20%20%20%0A%20%20%20%20%20%20%20%20%20%20%20%20var%20layer_control_c56fc04986cb4761b9e1221a022c6122%20%3D%20%7B%0A%20%20%20%20%20%20%20%20%20%20%20%20%20%20%20%20base_layers%20%3A%20%7B%0A%20%20%20%20%20%20%20%20%20%20%20%20%20%20%20%20%20%20%20%20%22openstreetmap%22%20%3A%20tile_layer_440abcc55a8b4aaf8dfdf11ece167ed3%2C%0A%20%20%20%20%20%20%20%20%20%20%20%20%20%20%20%20%7D%2C%0A%20%20%20%20%20%20%20%20%20%20%20%20%20%20%20%20overlays%20%3A%20%20%7B%0A%20%20%20%20%20%20%20%20%20%20%20%20%20%20%20%20%20%20%20%20%22Google%20Maps%22%20%3A%20tile_layer_7fff95d2afc84297993cc5b67aef0a91%2C%0A%20%20%20%20%20%20%20%20%20%20%20%20%20%20%20%20%20%20%20%20%22Google%20Satellite%22%20%3A%20tile_layer_9e7110d09cfb4846bc97725b37d9bdf6%2C%0A%20%20%20%20%20%20%20%20%20%20%20%20%20%20%20%20%20%20%20%20%22Layer%202020%20EVI%22%20%3A%20tile_layer_7952a46821c142c3b5aa262d2dd0cdc4%2C%0A%20%20%20%20%20%20%20%20%20%20%20%20%20%20%20%20%20%20%20%20%22Population%202020%22%20%3A%20tile_layer_d0f86703a2ec4fb9b5f070ea1be03865%2C%0A%20%20%20%20%20%20%20%20%20%20%20%20%20%20%20%20%20%20%20%20%22NLCD%20Land%20Cover%22%20%3A%20tile_layer_f6d207710b1548a48255455c85077969%2C%0A%20%20%20%20%20%20%20%20%20%20%20%20%20%20%20%20%20%20%20%20%22NLCD%20Impervious%20Land%20Cover%22%20%3A%20tile_layer_619d049e035748ada3b3c79d3d45a1b9%2C%0A%20%20%20%20%20%20%20%20%20%20%20%20%20%20%20%20%20%20%20%20%22ZERO%20NLCD%20Impervious%20Land%20Cover%20Masked%22%20%3A%20tile_layer_461b89827661462381667aeec88abaad%2C%0A%20%20%20%20%20%20%20%20%20%20%20%20%20%20%20%20%20%20%20%20%22ONE%20NLCD%20Impervious%20Land%20Cover%20Masked%22%20%3A%20tile_layer_5eb663badeb14dbeb88982c468450672%2C%0A%20%20%20%20%20%20%20%20%20%20%20%20%20%20%20%20%20%20%20%20%22ZERO%20EVI%22%20%3A%20tile_layer_d7e23a1b32df41c8962d8c4851c02251%2C%0A%20%20%20%20%20%20%20%20%20%20%20%20%20%20%20%20%20%20%20%20%22ONE%20EVI%22%20%3A%20tile_layer_c418bcc3b047469a960018d784a46ad2%2C%0A%20%20%20%20%20%20%20%20%20%20%20%20%20%20%20%20%20%20%20%20%22TWO%20EVI%22%20%3A%20tile_layer_4958b0b9ff734cb6b8a5b20ad1ab854a%2C%0A%20%20%20%20%20%20%20%20%20%20%20%20%20%20%20%20%20%20%20%20%22THREE%20EVI%22%20%3A%20tile_layer_37aec6447f77449087030c1e2be99a93%2C%0A%20%20%20%20%20%20%20%20%20%20%20%20%20%20%20%20%20%20%20%20%22ZERO%20Land%20Cover%22%20%3A%20tile_layer_c22be6f3c2d2497ba61dd86c57ffb39b%2C%0A%20%20%20%20%20%20%20%20%20%20%20%20%20%20%20%20%20%20%20%20%22ONE%20Land%20Cover%22%20%3A%20tile_layer_da1633c4dc684c81b70ce08d0f585752%2C%0A%20%20%20%20%20%20%20%20%20%20%20%20%20%20%20%20%20%20%20%20%22TWO%20Land%20Cover%22%20%3A%20tile_layer_88b630963cee4d7385ac8e2b71c4d5b3%2C%0A%20%20%20%20%20%20%20%20%20%20%20%20%20%20%20%20%7D%2C%0A%20%20%20%20%20%20%20%20%20%20%20%20%7D%3B%0A%20%20%20%20%20%20%20%20%20%20%20%20L.control.layers%28%0A%20%20%20%20%20%20%20%20%20%20%20%20%20%20%20%20layer_control_c56fc04986cb4761b9e1221a022c6122.base_layers%2C%0A%20%20%20%20%20%20%20%20%20%20%20%20%20%20%20%20layer_control_c56fc04986cb4761b9e1221a022c6122.overlays%2C%0A%20%20%20%20%20%20%20%20%20%20%20%20%20%20%20%20%7B%22autoZIndex%22%3A%20true%2C%20%22collapsed%22%3A%20true%2C%20%22position%22%3A%20%22topright%22%7D%0A%20%20%20%20%20%20%20%20%20%20%20%20%29.addTo%28map_403a95a851114b0981b7b8451381a3fe%29%3B%0A%20%20%20%20%20%20%20%20%20%20%20%20tile_layer_7952a46821c142c3b5aa262d2dd0cdc4.remove%28%29%3B%0A%20%20%20%20%20%20%20%20%20%20%20%20tile_layer_d0f86703a2ec4fb9b5f070ea1be03865.remove%28%29%3B%0A%20%20%20%20%20%20%20%20%20%20%20%20tile_layer_f6d207710b1548a48255455c85077969.remove%28%29%3B%0A%20%20%20%20%20%20%20%20%20%20%20%20tile_layer_619d049e035748ada3b3c79d3d45a1b9.remove%28%29%3B%0A%20%20%20%20%20%20%20%20%20%20%20%20tile_layer_461b89827661462381667aeec88abaad.remove%28%29%3B%0A%20%20%20%20%20%20%20%20%20%20%20%20tile_layer_5eb663badeb14dbeb88982c468450672.remove%28%29%3B%0A%20%20%20%20%20%20%20%20%20%20%20%20tile_layer_d7e23a1b32df41c8962d8c4851c02251.remove%28%29%3B%0A%20%20%20%20%20%20%20%20%20%20%20%20tile_layer_c418bcc3b047469a960018d784a46ad2.remove%28%29%3B%0A%20%20%20%20%20%20%20%20%20%20%20%20tile_layer_4958b0b9ff734cb6b8a5b20ad1ab854a.remove%28%29%3B%0A%20%20%20%20%20%20%20%20%20%20%20%20tile_layer_37aec6447f77449087030c1e2be99a93.remove%28%29%3B%0A%20%20%20%20%20%20%20%20%20%20%20%20tile_layer_c22be6f3c2d2497ba61dd86c57ffb39b.remove%28%29%3B%0A%20%20%20%20%20%20%20%20%20%20%20%20tile_layer_da1633c4dc684c81b70ce08d0f585752.remove%28%29%3B%0A%20%20%20%20%20%20%20%20%20%20%20%20tile_layer_88b630963cee4d7385ac8e2b71c4d5b3.remove%28%29%3B%0A%20%20%20%20%20%20%20%20%0A%3C/script%3E onload=\"this.contentDocument.open();this.contentDocument.write(    decodeURIComponent(this.getAttribute('data-html')));this.contentDocument.close();\" allowfullscreen webkitallowfullscreen mozallowfullscreen></iframe></div></div>"
            ],
            "text/plain": [
              "<geemap.foliumap.Map at 0x7fdc85fc1510>"
            ]
          },
          "metadata": {
            "tags": []
          },
          "execution_count": 86
        }
      ]
    },
    {
      "cell_type": "code",
      "metadata": {
        "id": "7Q19Grzif6Kc"
      },
      "source": [
        ""
      ],
      "execution_count": null,
      "outputs": []
    }
  ]
}