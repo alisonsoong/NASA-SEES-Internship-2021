{
  "nbformat": 4,
  "nbformat_minor": 0,
  "metadata": {
    "kernelspec": {
      "display_name": "Python 3",
      "language": "python",
      "name": "python3"
    },
    "language_info": {
      "codemirror_mode": {
        "name": "ipython",
        "version": 3
      },
      "file_extension": ".py",
      "mimetype": "text/x-python",
      "name": "python",
      "nbconvert_exporter": "python",
      "pygments_lexer": "ipython3",
      "version": "3.8.5"
    },
    "colab": {
      "name": "Adapted from Geemap ee map tutorial.ipynb",
      "provenance": [],
      "collapsed_sections": [],
      "include_colab_link": true
    }
  },
  "cells": [
    {
      "cell_type": "markdown",
      "metadata": {
        "id": "view-in-github",
        "colab_type": "text"
      },
      "source": [
        "<a href=\"https://colab.research.google.com/github/alisonsoong/NASA-SEES-Internship-2021/blob/main/Adapted_from_Geemap_ee_map_tutorial.ipynb\" target=\"_parent\"><img src=\"https://colab.research.google.com/assets/colab-badge.svg\" alt=\"Open In Colab\"/></a>"
      ]
    },
    {
      "cell_type": "markdown",
      "metadata": {
        "id": "8Sfum_9njQi-"
      },
      "source": [
        "<table class=\"ee-notebook-buttons\" align=\"left\">\n",
        "    <td><a target=\"_parent\"  href=\"https://nbviewer.jupyter.org/github/giswqs/geemap/blob/master/examples/notebooks/geemap_and_earthengine.ipynb\"><img width=26px src=\"https://upload.wikimedia.org/wikipedia/commons/thumb/3/38/Jupyter_logo.svg/883px-Jupyter_logo.svg.png\" />Notebook Viewer</a></td>\n",
        "    <td><a target=\"_parent\"  href=\"https://colab.research.google.com/github/giswqs/geemap/blob/master/examples/notebooks/geemap_and_earthengine.ipynb\"><img src=\"https://www.tensorflow.org/images/colab_logo_32px.png\" /> Run in Google Colab</a></td>\n",
        "</table>"
      ]
    },
    {
      "cell_type": "markdown",
      "metadata": {
        "id": "_LlKEmFE5lH6"
      },
      "source": [
        "## Import Earth Engine API and authenticate<a class=\"anchor\" id=\"import-api\"></a>\n",
        "\n",
        "The Earth Engine API is installed by default in Google Colaboratory. The following steps must be completed\n",
        "\n",
        "*   for each new Colab session,\n",
        "*   if you restart your Colab kernel, or \n",
        "*   if your Colab virtual machine is recycled due to inactivity.\n",
        "\n",
        "### Import the API\n",
        "\n",
        "Run the following cell to import the Google Earth Engine API into your session."
      ]
    },
    {
      "cell_type": "code",
      "metadata": {
        "id": "9C3M95OWjNX3"
      },
      "source": [
        "import ee"
      ],
      "execution_count": 1,
      "outputs": []
    },
    {
      "cell_type": "markdown",
      "metadata": {
        "id": "YXeeIfHx5lH6"
      },
      "source": [
        "### Authenticate and initialize\n",
        "\n",
        "Run the `ee.Authenticate` function to authenticate your access to Earth Engine servers and `ee.Initialize` to initialize it. Upon running the following cell you'll be asked to grant Earth Engine access to your Google account. Follow the instructions printed to the cell."
      ]
    },
    {
      "cell_type": "code",
      "metadata": {
        "id": "wJXov3EFGt5S",
        "colab": {
          "base_uri": "https://localhost:8080/"
        },
        "outputId": "1dd6896b-0d00-40e1-80ef-5ccc5c375991"
      },
      "source": [
        "## Trigger the authentication flow. You only need to do this once\n",
        "ee.Authenticate()\n",
        "\n",
        "# Initialize the library.\n",
        "ee.Initialize()"
      ],
      "execution_count": 2,
      "outputs": [
        {
          "output_type": "stream",
          "text": [
            "To authorize access needed by Earth Engine, open the following URL in a web browser and follow the instructions. If the web browser does not start automatically, please manually browse the URL below.\n",
            "\n",
            "    https://accounts.google.com/o/oauth2/auth?client_id=517222506229-vsmmajv00ul0bs7p89v5m89qs8eb9359.apps.googleusercontent.com&scope=https%3A%2F%2Fwww.googleapis.com%2Fauth%2Fearthengine+https%3A%2F%2Fwww.googleapis.com%2Fauth%2Fdevstorage.full_control&redirect_uri=urn%3Aietf%3Awg%3Aoauth%3A2.0%3Aoob&response_type=code&code_challenge=83b7Y4lV3zntavACGJLr5A1Bfg1JUGFlq2SkVgvvYQ4&code_challenge_method=S256\n",
            "\n",
            "The authorization workflow will generate a code, which you should paste in the box below. \n",
            "Enter verification code: 4/1AX4XfWi1RbJQRJFqYfeptJ7ey12xBtcx95x4pJ0Rv6MqPUJhenDKBwX3EiU\n",
            "\n",
            "Successfully saved authorization token.\n"
          ],
          "name": "stdout"
        }
      ]
    },
    {
      "cell_type": "markdown",
      "metadata": {
        "id": "nCuan1UgjNX2"
      },
      "source": [
        "## Install the geemap Python package\n",
        "\n",
        "Install the [Earth Engine Python API](https://developers.google.com/earth-engine/python_install) and [geemap](https://github.com/giswqs/geemap). The **geemap** Python package is built upon the [ipyleaflet](https://github.com/jupyter-widgets/ipyleaflet) and [folium](https://github.com/python-visualization/folium) packages and implements several methods for interacting with Earth Engine data layers, such as `Map.addLayer()`, `Map.setCenter()`, and `Map.centerObject()`.\n",
        "The following script checks if the geemap package has been installed. If not, it will install geemap, which automatically installs its [dependencies](https://github.com/giswqs/geemap#dependencies), including earthengine-api and folium for map display. One dependency not installed here is ipyleaflet, since Colab sadly does not support it.\n",
        "\n",
        "With **geemap** installed, we do not have to write our own **folium** display function."
      ]
    },
    {
      "cell_type": "code",
      "metadata": {
        "id": "r4Gxi5qjjNX2",
        "colab": {
          "base_uri": "https://localhost:8080/"
        },
        "outputId": "4c36c520-31c6-4d4f-f0cc-b9a92a3d4860"
      },
      "source": [
        "# Installs geemap package\n",
        "import subprocess\n",
        "\n",
        "try:\n",
        "    import geemap\n",
        "    print(\"geemap is imported and ready to use in Colab\")\n",
        "except ImportError:\n",
        "    print('geemap package not installed. Installing ...')\n",
        "    subprocess.check_call([\"python\", '-m', 'pip', 'install', 'geemap'])\n",
        "    import geemap\n",
        "    print(\"geemap is now installed, imported and ready to use in Colab\") \n"
      ],
      "execution_count": 3,
      "outputs": [
        {
          "output_type": "stream",
          "text": [
            "geemap package not installed. Installing ...\n",
            "geemap is now installed, imported and ready to use in Colab\n"
          ],
          "name": "stdout"
        }
      ]
    },
    {
      "cell_type": "markdown",
      "metadata": {
        "id": "B8ORhbcT4wRg"
      },
      "source": [
        "# Basics Functions in GEE Colab & geemap Activity\n",
        "\n",
        "Here the Javascript code (link on slide 32 of the ARSET Session 3) is converted into Python.\n",
        "\n",
        "[Link to Presentation Slides PDF](https://appliedsciences.nasa.gov/sites/default/files/2021-06/GEE_Land_Part3.pdf)\n",
        "\n",
        "From ARSET training **Part 3: Google Earth Engine Basics and General Applications**\n",
        "*Wednesday, June 16, 2021*\n",
        "\n",
        "\n"
      ]
    },
    {
      "cell_type": "code",
      "metadata": {
        "id": "cTDWWzif31AV"
      },
      "source": [
        "Map = geemap.Map()"
      ],
      "execution_count": 29,
      "outputs": []
    },
    {
      "cell_type": "markdown",
      "metadata": {
        "id": "zE7ZXlnK3QqL"
      },
      "source": [
        "## Define a function\n",
        "This is a special function to be used in Google Earth engine on the server side."
      ]
    },
    {
      "cell_type": "code",
      "metadata": {
        "id": "rDeR-xQE3QqM"
      },
      "source": [
        "def minus1000(num):\n",
        "    result = ee.Number(num).subtract(1000)\n",
        "    return result"
      ],
      "execution_count": 4,
      "outputs": []
    },
    {
      "cell_type": "code",
      "metadata": {
        "id": "tq1FGdqo3QqM",
        "colab": {
          "base_uri": "https://localhost:8080/"
        },
        "outputId": "f386d5fa-0d6b-4b72-d8f3-b734d6151ed4"
      },
      "source": [
        "result = minus1000(2000)\n",
        "print(result.getInfo())"
      ],
      "execution_count": 6,
      "outputs": [
        {
          "output_type": "stream",
          "text": [
            "1000\n"
          ],
          "name": "stdout"
        }
      ]
    },
    {
      "cell_type": "markdown",
      "metadata": {
        "id": "Rzi5I8mQ3QqM"
      },
      "source": [
        "## Apply the map function"
      ]
    },
    {
      "cell_type": "code",
      "metadata": {
        "id": "Ulb-Oh4G3QqM",
        "colab": {
          "base_uri": "https://localhost:8080/"
        },
        "outputId": "84fcfdac-dd9e-4849-d24d-95113624249f"
      },
      "source": [
        "years = ee.List.sequence(2000, 2010)\n",
        "print(years.getInfo())"
      ],
      "execution_count": 7,
      "outputs": [
        {
          "output_type": "stream",
          "text": [
            "[2000, 2001, 2002, 2003, 2004, 2005, 2006, 2007, 2008, 2009, 2010]\n"
          ],
          "name": "stdout"
        }
      ]
    },
    {
      "cell_type": "code",
      "metadata": {
        "id": "6Z67-Pd43QqN",
        "colab": {
          "base_uri": "https://localhost:8080/"
        },
        "outputId": "bf3ea602-8dba-4781-f0a0-6ea25b959774"
      },
      "source": [
        "results = years.map(minus1000)\n",
        "print(results.getInfo())"
      ],
      "execution_count": 8,
      "outputs": [
        {
          "output_type": "stream",
          "text": [
            "[1000, 1001, 1002, 1003, 1004, 1005, 1006, 1007, 1008, 1009, 1010]\n"
          ],
          "name": "stdout"
        }
      ]
    },
    {
      "cell_type": "markdown",
      "metadata": {
        "id": "9IzPMDaw3QqN"
      },
      "source": [
        "## Use anonymous/lambda function"
      ]
    },
    {
      "cell_type": "code",
      "metadata": {
        "id": "R4PtYGzl3QqN",
        "colab": {
          "base_uri": "https://localhost:8080/"
        },
        "outputId": "5f66eb82-58dd-4c82-9fd2-eb93724ffa5e"
      },
      "source": [
        "years = ee.List.sequence(2000, 2010)\n",
        "\n",
        "results = years.map(lambda num: ee.Number(num).subtract(1000)) # exactly the same as above\n",
        "print(results.getInfo())"
      ],
      "execution_count": 11,
      "outputs": [
        {
          "output_type": "stream",
          "text": [
            "[1000, 1001, 1002, 1003, 1004, 1005, 1006, 1007, 1008, 1009, 1010]\n"
          ],
          "name": "stdout"
        }
      ]
    },
    {
      "cell_type": "markdown",
      "metadata": {
        "id": "FGkvuEhK3QqO"
      },
      "source": [
        "## Filter an ImageCollection"
      ]
    },
    {
      "cell_type": "code",
      "metadata": {
        "id": "LEZaR4EC3QqO",
        "colab": {
          "base_uri": "https://localhost:8080/"
        },
        "outputId": "2aad5770-55e0-4a69-ee15-3e5ee0f815a7"
      },
      "source": [
        "roi = ee.Geometry.Point(-83.92, 35.96)  # Knoxville, Tennessee\n",
        "\n",
        "collection = ee.ImageCollection('LANDSAT/LC08/C01/T1_SR') \\\n",
        "    .filterBounds(roi) \\\n",
        "    .filterDate(\"2019-01-01\", \"2020-01-01\") \\\n",
        "    .sort(\"CLOUD_COVER\")\n",
        "\n",
        "collectionNight1  = ee.ImageCollection('NOAA/VIIRS/DNB/MONTHLY_V1/VCMCFG') \\\n",
        "    .filterBounds(roi) \\\n",
        "    .filterDate(\"2019-01-01\", \"2020-01-01\") \\\n",
        "\n",
        "collectionNight2  = ee.ImageCollection('NOAA/VIIRS/DNB/MONTHLY_V1/VCMCFG') \\\n",
        "    .filterBounds(roi) \\\n",
        "    .filterDate(\"2020-01-01\", \"2021-01-01\") \\\n",
        "\n",
        "print(collection.size().getInfo()) # to query how many images you are getting back (landsat8 starts in 2013)"
      ],
      "execution_count": 74,
      "outputs": [
        {
          "output_type": "stream",
          "text": [
            "17\n"
          ],
          "name": "stdout"
        }
      ]
    },
    {
      "cell_type": "code",
      "metadata": {
        "id": "iSXBbIhR3QqO"
      },
      "source": [
        "image = collection.first() # sorted by cloud cover!\n",
        "imageNight1 = collectionNight1.first() # sorted by cloud cover!\n",
        "imageNight2 = collectionNight2.first() # sorted by cloud cover!"
      ],
      "execution_count": 75,
      "outputs": []
    },
    {
      "cell_type": "code",
      "metadata": {
        "scrolled": false,
        "id": "XHkYbHLW3QqO",
        "colab": {
          "base_uri": "https://localhost:8080/"
        },
        "outputId": "e0cc38f7-4a6d-443f-af16-542de29f1a48"
      },
      "source": [
        "image.getInfo()"
      ],
      "execution_count": 16,
      "outputs": [
        {
          "output_type": "execute_result",
          "data": {
            "text/plain": [
              "{'bands': [{'crs': 'EPSG:32617',\n",
              "   'crs_transform': [30, 0, 121185, 0, -30, 4111815],\n",
              "   'data_type': {'max': 32767,\n",
              "    'min': -32768,\n",
              "    'precision': 'int',\n",
              "    'type': 'PixelType'},\n",
              "   'dimensions': [7851, 7971],\n",
              "   'id': 'B1'},\n",
              "  {'crs': 'EPSG:32617',\n",
              "   'crs_transform': [30, 0, 121185, 0, -30, 4111815],\n",
              "   'data_type': {'max': 32767,\n",
              "    'min': -32768,\n",
              "    'precision': 'int',\n",
              "    'type': 'PixelType'},\n",
              "   'dimensions': [7851, 7971],\n",
              "   'id': 'B2'},\n",
              "  {'crs': 'EPSG:32617',\n",
              "   'crs_transform': [30, 0, 121185, 0, -30, 4111815],\n",
              "   'data_type': {'max': 32767,\n",
              "    'min': -32768,\n",
              "    'precision': 'int',\n",
              "    'type': 'PixelType'},\n",
              "   'dimensions': [7851, 7971],\n",
              "   'id': 'B3'},\n",
              "  {'crs': 'EPSG:32617',\n",
              "   'crs_transform': [30, 0, 121185, 0, -30, 4111815],\n",
              "   'data_type': {'max': 32767,\n",
              "    'min': -32768,\n",
              "    'precision': 'int',\n",
              "    'type': 'PixelType'},\n",
              "   'dimensions': [7851, 7971],\n",
              "   'id': 'B4'},\n",
              "  {'crs': 'EPSG:32617',\n",
              "   'crs_transform': [30, 0, 121185, 0, -30, 4111815],\n",
              "   'data_type': {'max': 32767,\n",
              "    'min': -32768,\n",
              "    'precision': 'int',\n",
              "    'type': 'PixelType'},\n",
              "   'dimensions': [7851, 7971],\n",
              "   'id': 'B5'},\n",
              "  {'crs': 'EPSG:32617',\n",
              "   'crs_transform': [30, 0, 121185, 0, -30, 4111815],\n",
              "   'data_type': {'max': 32767,\n",
              "    'min': -32768,\n",
              "    'precision': 'int',\n",
              "    'type': 'PixelType'},\n",
              "   'dimensions': [7851, 7971],\n",
              "   'id': 'B6'},\n",
              "  {'crs': 'EPSG:32617',\n",
              "   'crs_transform': [30, 0, 121185, 0, -30, 4111815],\n",
              "   'data_type': {'max': 32767,\n",
              "    'min': -32768,\n",
              "    'precision': 'int',\n",
              "    'type': 'PixelType'},\n",
              "   'dimensions': [7851, 7971],\n",
              "   'id': 'B7'},\n",
              "  {'crs': 'EPSG:32617',\n",
              "   'crs_transform': [30, 0, 121185, 0, -30, 4111815],\n",
              "   'data_type': {'max': 32767,\n",
              "    'min': -32768,\n",
              "    'precision': 'int',\n",
              "    'type': 'PixelType'},\n",
              "   'dimensions': [7851, 7971],\n",
              "   'id': 'B10'},\n",
              "  {'crs': 'EPSG:32617',\n",
              "   'crs_transform': [30, 0, 121185, 0, -30, 4111815],\n",
              "   'data_type': {'max': 32767,\n",
              "    'min': -32768,\n",
              "    'precision': 'int',\n",
              "    'type': 'PixelType'},\n",
              "   'dimensions': [7851, 7971],\n",
              "   'id': 'B11'},\n",
              "  {'crs': 'EPSG:32617',\n",
              "   'crs_transform': [30, 0, 121185, 0, -30, 4111815],\n",
              "   'data_type': {'max': 255,\n",
              "    'min': 0,\n",
              "    'precision': 'int',\n",
              "    'type': 'PixelType'},\n",
              "   'dimensions': [7851, 7971],\n",
              "   'id': 'sr_aerosol'},\n",
              "  {'crs': 'EPSG:32617',\n",
              "   'crs_transform': [30, 0, 121185, 0, -30, 4111815],\n",
              "   'data_type': {'max': 65535,\n",
              "    'min': 0,\n",
              "    'precision': 'int',\n",
              "    'type': 'PixelType'},\n",
              "   'dimensions': [7851, 7971],\n",
              "   'id': 'pixel_qa'},\n",
              "  {'crs': 'EPSG:32617',\n",
              "   'crs_transform': [30, 0, 121185, 0, -30, 4111815],\n",
              "   'data_type': {'max': 65535,\n",
              "    'min': 0,\n",
              "    'precision': 'int',\n",
              "    'type': 'PixelType'},\n",
              "   'dimensions': [7851, 7971],\n",
              "   'id': 'radsat_qa'}],\n",
              " 'id': 'LANDSAT/LC08/C01/T1_SR/LC08_019035_20190317',\n",
              " 'properties': {'CLOUD_COVER': 0.06,\n",
              "  'CLOUD_COVER_LAND': 0.06,\n",
              "  'EARTH_SUN_DISTANCE': 0.994981,\n",
              "  'ESPA_VERSION': '2_23_0_1b',\n",
              "  'GEOMETRIC_RMSE_MODEL': 7.624,\n",
              "  'GEOMETRIC_RMSE_MODEL_X': 5.066,\n",
              "  'GEOMETRIC_RMSE_MODEL_Y': 5.698,\n",
              "  'IMAGE_QUALITY_OLI': 9,\n",
              "  'IMAGE_QUALITY_TIRS': 9,\n",
              "  'LANDSAT_ID': 'LC08_L1TP_019035_20190317_20190325_01_T1',\n",
              "  'LEVEL1_PRODUCTION_DATE': 1553541347000,\n",
              "  'PIXEL_QA_VERSION': 'generate_pixel_qa_1.6.0',\n",
              "  'SATELLITE': 'LANDSAT_8',\n",
              "  'SENSING_TIME': '2019-03-17T16:11:33.5001919Z',\n",
              "  'SOLAR_AZIMUTH_ANGLE': 144.944595,\n",
              "  'SOLAR_ZENITH_ANGLE': 43.08416,\n",
              "  'SR_APP_VERSION': 'LaSRC_1.3.0',\n",
              "  'WRS_PATH': 19,\n",
              "  'WRS_ROW': 35,\n",
              "  'system:asset_size': 641996120,\n",
              "  'system:footprint': {'coordinates': [[-84.66829864605582, 37.08971855847001],\n",
              "    [-84.67901829376945, 37.05188741394461],\n",
              "    [-84.79583718820818, 36.635361019862025],\n",
              "    [-84.91159019110563, 36.21877064729672],\n",
              "    [-85.02631294308152, 35.80212151429817],\n",
              "    [-85.14004037796721, 35.38541778076628],\n",
              "    [-85.1445523135872, 35.36813528278198],\n",
              "    [-84.66730306792297, 35.279282913620555],\n",
              "    [-83.15535117191958, 34.98378436856485],\n",
              "    [-82.87404827607857, 35.91882246970505],\n",
              "    [-82.82243116878132, 36.08863965325649],\n",
              "    [-82.74166055115113, 36.35324021848815],\n",
              "    [-82.6977455653637, 36.49639113401474],\n",
              "    [-82.64831366150403, 36.6574349280654],\n",
              "    [-82.63408436926032, 36.70466316371971],\n",
              "    [-82.7793445780753, 36.73348963039464],\n",
              "    [-83.53329272088463, 36.87988143764027],\n",
              "    [-84.46011263519843, 37.05245724726671],\n",
              "    [-84.66646651681192, 37.089775354867456],\n",
              "    [-84.66829864605582, 37.08971855847001]],\n",
              "   'type': 'LinearRing'},\n",
              "  'system:index': 'LC08_019035_20190317',\n",
              "  'system:time_end': 1552839093500,\n",
              "  'system:time_start': 1552839093500},\n",
              " 'type': 'Image',\n",
              " 'version': 1563396666124498}"
            ]
          },
          "metadata": {
            "tags": []
          },
          "execution_count": 16
        }
      ]
    },
    {
      "cell_type": "code",
      "metadata": {
        "id": "HTpZ8NRw3QqP",
        "colab": {
          "base_uri": "https://localhost:8080/"
        },
        "outputId": "99492249-8155-4cf2-9f07-2b8834b074c2"
      },
      "source": [
        "test_dict = geemap.image_props(image).getInfo() # a dictionary\n",
        "test_time = geemap.image_props(image).getInfo()['SENSING_TIME']\n",
        "print(test_time) # or\n",
        "print(test_dict['SENSING_TIME'])\n",
        "print(test_dict['IMAGE_DATE'])"
      ],
      "execution_count": 27,
      "outputs": [
        {
          "output_type": "stream",
          "text": [
            "2019-03-17T16:11:33.5001919Z\n",
            "2019-03-17T16:11:33.5001919Z\n",
            "2019-03-17\n"
          ],
          "name": "stdout"
        }
      ]
    },
    {
      "cell_type": "code",
      "metadata": {
        "id": "cYy9WaAA3QqP",
        "colab": {
          "base_uri": "https://localhost:8080/"
        },
        "outputId": "92f90e9f-e6fa-4645-8c87-b0a151b64869"
      },
      "source": [
        "collection.aggregate_array(\"CLOUD_COVER\").getInfo() # the cloud cover of the images in the collection"
      ],
      "execution_count": 18,
      "outputs": [
        {
          "output_type": "execute_result",
          "data": {
            "text/plain": [
              "[0.06,\n",
              " 0.42,\n",
              " 0.57,\n",
              " 0.76,\n",
              " 1.26,\n",
              " 6.67,\n",
              " 9.69,\n",
              " 13.14,\n",
              " 22.55,\n",
              " 26.67,\n",
              " 29.89,\n",
              " 33.11,\n",
              " 51.76,\n",
              " 74.72,\n",
              " 78.86,\n",
              " 85.73,\n",
              " 95.02]"
            ]
          },
          "metadata": {
            "tags": []
          },
          "execution_count": 18
        }
      ]
    },
    {
      "cell_type": "code",
      "metadata": {
        "id": "HxNOw5jL3QqP",
        "colab": {
          "base_uri": "https://localhost:8080/",
          "height": 808
        },
        "outputId": "b6da77fe-b39e-4e20-d267-3ac7debc75cc"
      },
      "source": [
        "vis_params = {\n",
        "    'bands': ['B5', 'B4', 'B3'], # B5 = NIR (highly reflective of green vegetation), B4 = red, B3 = green\n",
        "    # 'bands': ['B6', 'B5', 'B3'], # a nice false color combination (water is a dark blue)\n",
        "    'min': 0, \n",
        "    'max': 3000,\n",
        "    'gamma': 1.0\n",
        "}\n",
        "\n",
        "night_light_params = {\n",
        "    'bands': ['avg_rad'],\n",
        "    'min': 0, \n",
        "    'max': 30,\n",
        "    'gamma': 1.0\n",
        "}\n",
        "\n",
        "Map = geemap.Map()\n",
        "Map.addLayer(image, vis_params, \"First image\")\n",
        "Map.addLayer(imageNight1, night_light_params, \"Night image: 2019\")\n",
        "Map.addLayer(imageNight2, night_light_params, \"Night image: 2020\")\n",
        "Map.centerObject(image)\n",
        "Map\n"
      ],
      "execution_count": 76,
      "outputs": [
        {
          "output_type": "execute_result",
          "data": {
            "text/html": [
              "<div style=\"width:100%;\"><div style=\"position:relative;width:100%;height:0;padding-bottom:60%;\"><span style=\"color:#565656\">Make this Notebook Trusted to load map: File -> Trust Notebook</span><iframe src=\"about:blank\" style=\"position:absolute;width:100%;height:100%;left:0;top:0;border:none !important;\" data-html=%3C%21DOCTYPE%20html%3E%0A%3Chead%3E%20%20%20%20%0A%20%20%20%20%3Cmeta%20http-equiv%3D%22content-type%22%20content%3D%22text/html%3B%20charset%3DUTF-8%22%20/%3E%0A%20%20%20%20%0A%20%20%20%20%20%20%20%20%3Cscript%3E%0A%20%20%20%20%20%20%20%20%20%20%20%20L_NO_TOUCH%20%3D%20false%3B%0A%20%20%20%20%20%20%20%20%20%20%20%20L_DISABLE_3D%20%3D%20false%3B%0A%20%20%20%20%20%20%20%20%3C/script%3E%0A%20%20%20%20%0A%20%20%20%20%3Cstyle%3Ehtml%2C%20body%20%7Bwidth%3A%20100%25%3Bheight%3A%20100%25%3Bmargin%3A%200%3Bpadding%3A%200%3B%7D%3C/style%3E%0A%20%20%20%20%3Cstyle%3E%23map%20%7Bposition%3Aabsolute%3Btop%3A0%3Bbottom%3A0%3Bright%3A0%3Bleft%3A0%3B%7D%3C/style%3E%0A%20%20%20%20%3Cscript%20src%3D%22https%3A//cdn.jsdelivr.net/npm/leaflet%401.6.0/dist/leaflet.js%22%3E%3C/script%3E%0A%20%20%20%20%3Cscript%20src%3D%22https%3A//code.jquery.com/jquery-1.12.4.min.js%22%3E%3C/script%3E%0A%20%20%20%20%3Cscript%20src%3D%22https%3A//maxcdn.bootstrapcdn.com/bootstrap/3.2.0/js/bootstrap.min.js%22%3E%3C/script%3E%0A%20%20%20%20%3Cscript%20src%3D%22https%3A//cdnjs.cloudflare.com/ajax/libs/Leaflet.awesome-markers/2.0.2/leaflet.awesome-markers.js%22%3E%3C/script%3E%0A%20%20%20%20%3Clink%20rel%3D%22stylesheet%22%20href%3D%22https%3A//cdn.jsdelivr.net/npm/leaflet%401.6.0/dist/leaflet.css%22/%3E%0A%20%20%20%20%3Clink%20rel%3D%22stylesheet%22%20href%3D%22https%3A//maxcdn.bootstrapcdn.com/bootstrap/3.2.0/css/bootstrap.min.css%22/%3E%0A%20%20%20%20%3Clink%20rel%3D%22stylesheet%22%20href%3D%22https%3A//maxcdn.bootstrapcdn.com/bootstrap/3.2.0/css/bootstrap-theme.min.css%22/%3E%0A%20%20%20%20%3Clink%20rel%3D%22stylesheet%22%20href%3D%22https%3A//maxcdn.bootstrapcdn.com/font-awesome/4.6.3/css/font-awesome.min.css%22/%3E%0A%20%20%20%20%3Clink%20rel%3D%22stylesheet%22%20href%3D%22https%3A//cdnjs.cloudflare.com/ajax/libs/Leaflet.awesome-markers/2.0.2/leaflet.awesome-markers.css%22/%3E%0A%20%20%20%20%3Clink%20rel%3D%22stylesheet%22%20href%3D%22https%3A//cdn.jsdelivr.net/gh/python-visualization/folium/folium/templates/leaflet.awesome.rotate.min.css%22/%3E%0A%20%20%20%20%0A%20%20%20%20%20%20%20%20%20%20%20%20%3Cmeta%20name%3D%22viewport%22%20content%3D%22width%3Ddevice-width%2C%0A%20%20%20%20%20%20%20%20%20%20%20%20%20%20%20%20initial-scale%3D1.0%2C%20maximum-scale%3D1.0%2C%20user-scalable%3Dno%22%20/%3E%0A%20%20%20%20%20%20%20%20%20%20%20%20%3Cstyle%3E%0A%20%20%20%20%20%20%20%20%20%20%20%20%20%20%20%20%23map_63195648828044e1b75b3982e16ebf6d%20%7B%0A%20%20%20%20%20%20%20%20%20%20%20%20%20%20%20%20%20%20%20%20position%3A%20relative%3B%0A%20%20%20%20%20%20%20%20%20%20%20%20%20%20%20%20%20%20%20%20width%3A%20100.0%25%3B%0A%20%20%20%20%20%20%20%20%20%20%20%20%20%20%20%20%20%20%20%20height%3A%20100.0%25%3B%0A%20%20%20%20%20%20%20%20%20%20%20%20%20%20%20%20%20%20%20%20left%3A%200.0%25%3B%0A%20%20%20%20%20%20%20%20%20%20%20%20%20%20%20%20%20%20%20%20top%3A%200.0%25%3B%0A%20%20%20%20%20%20%20%20%20%20%20%20%20%20%20%20%7D%0A%20%20%20%20%20%20%20%20%20%20%20%20%3C/style%3E%0A%20%20%20%20%20%20%20%20%0A%20%20%20%20%3Cscript%20src%3D%22https%3A//cdnjs.cloudflare.com/ajax/libs/leaflet.fullscreen/1.4.2/Control.FullScreen.min.js%22%3E%3C/script%3E%0A%20%20%20%20%3Clink%20rel%3D%22stylesheet%22%20href%3D%22https%3A//cdnjs.cloudflare.com/ajax/libs/leaflet.fullscreen/1.4.2/Control.FullScreen.min.css%22/%3E%0A%3C/head%3E%0A%3Cbody%3E%20%20%20%20%0A%20%20%20%20%0A%20%20%20%20%20%20%20%20%20%20%20%20%3Cdiv%20class%3D%22folium-map%22%20id%3D%22map_63195648828044e1b75b3982e16ebf6d%22%20%3E%3C/div%3E%0A%20%20%20%20%20%20%20%20%0A%3C/body%3E%0A%3Cscript%3E%20%20%20%20%0A%20%20%20%20%0A%20%20%20%20%20%20%20%20%20%20%20%20var%20map_63195648828044e1b75b3982e16ebf6d%20%3D%20L.map%28%0A%20%20%20%20%20%20%20%20%20%20%20%20%20%20%20%20%22map_63195648828044e1b75b3982e16ebf6d%22%2C%0A%20%20%20%20%20%20%20%20%20%20%20%20%20%20%20%20%7B%0A%20%20%20%20%20%20%20%20%20%20%20%20%20%20%20%20%20%20%20%20center%3A%20%5B40.0%2C%20-100.0%5D%2C%0A%20%20%20%20%20%20%20%20%20%20%20%20%20%20%20%20%20%20%20%20crs%3A%20L.CRS.EPSG3857%2C%0A%20%20%20%20%20%20%20%20%20%20%20%20%20%20%20%20%20%20%20%20zoom%3A%204%2C%0A%20%20%20%20%20%20%20%20%20%20%20%20%20%20%20%20%20%20%20%20zoomControl%3A%20true%2C%0A%20%20%20%20%20%20%20%20%20%20%20%20%20%20%20%20%20%20%20%20preferCanvas%3A%20false%2C%0A%20%20%20%20%20%20%20%20%20%20%20%20%20%20%20%20%20%20%20%20eeInitialize%3A%20true%2C%0A%20%20%20%20%20%20%20%20%20%20%20%20%20%20%20%20%20%20%20%20addGoogleMap%3A%20true%2C%0A%20%20%20%20%20%20%20%20%20%20%20%20%20%20%20%20%20%20%20%20pluginLatlngpopup%3A%20true%2C%0A%20%20%20%20%20%20%20%20%20%20%20%20%20%20%20%20%20%20%20%20pluginFullscreen%3A%20true%2C%0A%20%20%20%20%20%20%20%20%20%20%20%20%20%20%20%20%20%20%20%20pluginDraw%3A%20false%2C%0A%20%20%20%20%20%20%20%20%20%20%20%20%20%20%20%20%20%20%20%20DrawExport%3A%20true%2C%0A%20%20%20%20%20%20%20%20%20%20%20%20%20%20%20%20%20%20%20%20pluginMinimap%3A%20false%2C%0A%20%20%20%20%20%20%20%20%20%20%20%20%20%20%20%20%20%20%20%20pluginLayercontrol%3A%20false%2C%0A%20%20%20%20%20%20%20%20%20%20%20%20%20%20%20%20%7D%0A%20%20%20%20%20%20%20%20%20%20%20%20%29%3B%0A%0A%20%20%20%20%20%20%20%20%20%20%20%20%0A%0A%20%20%20%20%20%20%20%20%0A%20%20%20%20%0A%20%20%20%20%20%20%20%20%20%20%20%20var%20tile_layer_a81444c0adba422cbb3df3ccc98b9d48%20%3D%20L.tileLayer%28%0A%20%20%20%20%20%20%20%20%20%20%20%20%20%20%20%20%22https%3A//%7Bs%7D.tile.openstreetmap.org/%7Bz%7D/%7Bx%7D/%7By%7D.png%22%2C%0A%20%20%20%20%20%20%20%20%20%20%20%20%20%20%20%20%7B%22attribution%22%3A%20%22Data%20by%20%5Cu0026copy%3B%20%5Cu003ca%20href%3D%5C%22http%3A//openstreetmap.org%5C%22%5Cu003eOpenStreetMap%5Cu003c/a%5Cu003e%2C%20under%20%5Cu003ca%20href%3D%5C%22http%3A//www.openstreetmap.org/copyright%5C%22%5Cu003eODbL%5Cu003c/a%5Cu003e.%22%2C%20%22detectRetina%22%3A%20false%2C%20%22maxNativeZoom%22%3A%2018%2C%20%22maxZoom%22%3A%2018%2C%20%22minZoom%22%3A%200%2C%20%22noWrap%22%3A%20false%2C%20%22opacity%22%3A%201%2C%20%22subdomains%22%3A%20%22abc%22%2C%20%22tms%22%3A%20false%7D%0A%20%20%20%20%20%20%20%20%20%20%20%20%29.addTo%28map_63195648828044e1b75b3982e16ebf6d%29%3B%0A%20%20%20%20%20%20%20%20%0A%20%20%20%20%0A%20%20%20%20%20%20%20%20%20%20%20%20var%20tile_layer_dfee9fa06964451e83f7784287573272%20%3D%20L.tileLayer%28%0A%20%20%20%20%20%20%20%20%20%20%20%20%20%20%20%20%22https%3A//mt1.google.com/vt/lyrs%3Dm%5Cu0026x%3D%7Bx%7D%5Cu0026y%3D%7By%7D%5Cu0026z%3D%7Bz%7D%22%2C%0A%20%20%20%20%20%20%20%20%20%20%20%20%20%20%20%20%7B%22attribution%22%3A%20%22Google%22%2C%20%22detectRetina%22%3A%20false%2C%20%22maxNativeZoom%22%3A%2018%2C%20%22maxZoom%22%3A%2018%2C%20%22minZoom%22%3A%200%2C%20%22noWrap%22%3A%20false%2C%20%22opacity%22%3A%201%2C%20%22subdomains%22%3A%20%22abc%22%2C%20%22tms%22%3A%20false%7D%0A%20%20%20%20%20%20%20%20%20%20%20%20%29.addTo%28map_63195648828044e1b75b3982e16ebf6d%29%3B%0A%20%20%20%20%20%20%20%20%0A%20%20%20%20%0A%20%20%20%20%20%20%20%20%20%20%20%20%20%20%20%20var%20lat_lng_popup_451ffba06f8d4450aa2758a4e47a2286%20%3D%20L.popup%28%29%3B%0A%20%20%20%20%20%20%20%20%20%20%20%20%20%20%20%20function%20latLngPop%28e%29%20%7B%0A%20%20%20%20%20%20%20%20%20%20%20%20%20%20%20%20%20%20%20%20lat_lng_popup_451ffba06f8d4450aa2758a4e47a2286%0A%20%20%20%20%20%20%20%20%20%20%20%20%20%20%20%20%20%20%20%20%20%20%20%20.setLatLng%28e.latlng%29%0A%20%20%20%20%20%20%20%20%20%20%20%20%20%20%20%20%20%20%20%20%20%20%20%20.setContent%28%22Latitude%3A%20%22%20%2B%20e.latlng.lat.toFixed%284%29%20%2B%0A%20%20%20%20%20%20%20%20%20%20%20%20%20%20%20%20%20%20%20%20%20%20%20%20%20%20%20%20%20%20%20%20%20%20%20%20%22%3Cbr%3ELongitude%3A%20%22%20%2B%20e.latlng.lng.toFixed%284%29%29%0A%20%20%20%20%20%20%20%20%20%20%20%20%20%20%20%20%20%20%20%20%20%20%20%20.openOn%28map_63195648828044e1b75b3982e16ebf6d%29%3B%0A%20%20%20%20%20%20%20%20%20%20%20%20%20%20%20%20%20%20%20%20%7D%0A%20%20%20%20%20%20%20%20%20%20%20%20%20%20%20%20map_63195648828044e1b75b3982e16ebf6d.on%28%27click%27%2C%20latLngPop%29%3B%0A%20%20%20%20%20%20%20%20%20%20%20%20%0A%20%20%20%20%0A%20%20%20%20%20%20%20%20%20%20%20%20L.control.fullscreen%28%0A%20%20%20%20%20%20%20%20%20%20%20%20%20%20%20%20%7B%22forceSeparateButton%22%3A%20false%2C%20%22position%22%3A%20%22topleft%22%2C%20%22title%22%3A%20%22Full%20Screen%22%2C%20%22titleCancel%22%3A%20%22Exit%20Full%20Screen%22%7D%0A%20%20%20%20%20%20%20%20%20%20%20%20%29.addTo%28map_63195648828044e1b75b3982e16ebf6d%29%3B%0A%20%20%20%20%20%20%20%20%0A%20%20%20%20%0A%20%20%20%20%20%20%20%20%20%20%20%20map_63195648828044e1b75b3982e16ebf6d.fitBounds%28%0A%20%20%20%20%20%20%20%20%20%20%20%20%20%20%20%20%5B%5B40%2C%20-100%5D%2C%20%5B40%2C%20-100%5D%5D%2C%0A%20%20%20%20%20%20%20%20%20%20%20%20%20%20%20%20%7B%22maxZoom%22%3A%204%7D%0A%20%20%20%20%20%20%20%20%20%20%20%20%29%3B%0A%20%20%20%20%20%20%20%20%0A%20%20%20%20%0A%20%20%20%20%20%20%20%20%20%20%20%20var%20tile_layer_c9cf0db0994e4de294fe664ede77e575%20%3D%20L.tileLayer%28%0A%20%20%20%20%20%20%20%20%20%20%20%20%20%20%20%20%22https%3A//earthengine.googleapis.com/v1alpha/projects/earthengine-legacy/maps/c6bd9716bf549b4cc63fee5cae0cc739-f9d3ed9af9095f0d02414815c56b50c1/tiles/%7Bz%7D/%7Bx%7D/%7By%7D%22%2C%0A%20%20%20%20%20%20%20%20%20%20%20%20%20%20%20%20%7B%22attribution%22%3A%20%22Google%20Earth%20Engine%22%2C%20%22detectRetina%22%3A%20false%2C%20%22maxNativeZoom%22%3A%2018%2C%20%22maxZoom%22%3A%2018%2C%20%22minZoom%22%3A%200%2C%20%22noWrap%22%3A%20false%2C%20%22opacity%22%3A%201.0%2C%20%22subdomains%22%3A%20%22abc%22%2C%20%22tms%22%3A%20false%7D%0A%20%20%20%20%20%20%20%20%20%20%20%20%29.addTo%28map_63195648828044e1b75b3982e16ebf6d%29%3B%0A%20%20%20%20%20%20%20%20%0A%20%20%20%20%0A%20%20%20%20%20%20%20%20%20%20%20%20var%20tile_layer_a592dc5f9d8f463dae065dfbe612fb47%20%3D%20L.tileLayer%28%0A%20%20%20%20%20%20%20%20%20%20%20%20%20%20%20%20%22https%3A//earthengine.googleapis.com/v1alpha/projects/earthengine-legacy/maps/83e5bdeb7ac1e28f47987aa6b5e0f609-a728e178180549469eead84416843b75/tiles/%7Bz%7D/%7Bx%7D/%7By%7D%22%2C%0A%20%20%20%20%20%20%20%20%20%20%20%20%20%20%20%20%7B%22attribution%22%3A%20%22Google%20Earth%20Engine%22%2C%20%22detectRetina%22%3A%20false%2C%20%22maxNativeZoom%22%3A%2018%2C%20%22maxZoom%22%3A%2018%2C%20%22minZoom%22%3A%200%2C%20%22noWrap%22%3A%20false%2C%20%22opacity%22%3A%201.0%2C%20%22subdomains%22%3A%20%22abc%22%2C%20%22tms%22%3A%20false%7D%0A%20%20%20%20%20%20%20%20%20%20%20%20%29.addTo%28map_63195648828044e1b75b3982e16ebf6d%29%3B%0A%20%20%20%20%20%20%20%20%0A%20%20%20%20%0A%20%20%20%20%20%20%20%20%20%20%20%20var%20tile_layer_98626335e0694647a18949d0dc77b775%20%3D%20L.tileLayer%28%0A%20%20%20%20%20%20%20%20%20%20%20%20%20%20%20%20%22https%3A//earthengine.googleapis.com/v1alpha/projects/earthengine-legacy/maps/95067601afeec58643172813d8f3693a-6ade0f77dd7417e2efbf4d9070bab4fe/tiles/%7Bz%7D/%7Bx%7D/%7By%7D%22%2C%0A%20%20%20%20%20%20%20%20%20%20%20%20%20%20%20%20%7B%22attribution%22%3A%20%22Google%20Earth%20Engine%22%2C%20%22detectRetina%22%3A%20false%2C%20%22maxNativeZoom%22%3A%2018%2C%20%22maxZoom%22%3A%2018%2C%20%22minZoom%22%3A%200%2C%20%22noWrap%22%3A%20false%2C%20%22opacity%22%3A%201.0%2C%20%22subdomains%22%3A%20%22abc%22%2C%20%22tms%22%3A%20false%7D%0A%20%20%20%20%20%20%20%20%20%20%20%20%29.addTo%28map_63195648828044e1b75b3982e16ebf6d%29%3B%0A%20%20%20%20%20%20%20%20%0A%20%20%20%20%0A%20%20%20%20%20%20%20%20%20%20%20%20map_63195648828044e1b75b3982e16ebf6d.fitBounds%28%0A%20%20%20%20%20%20%20%20%20%20%20%20%20%20%20%20%5B%5B37.08971855847001%2C%20-84.66829864605582%5D%2C%20%5B36.635361019862025%2C%20-84.79583718820818%5D%5D%2C%0A%20%20%20%20%20%20%20%20%20%20%20%20%20%20%20%20%7B%22maxZoom%22%3A%2010%7D%0A%20%20%20%20%20%20%20%20%20%20%20%20%29%3B%0A%20%20%20%20%20%20%20%20%0A%20%20%20%20%0A%20%20%20%20%20%20%20%20%20%20%20%20var%20layer_control_280b1fc065ee4997bf3ec55aab90891e%20%3D%20%7B%0A%20%20%20%20%20%20%20%20%20%20%20%20%20%20%20%20base_layers%20%3A%20%7B%0A%20%20%20%20%20%20%20%20%20%20%20%20%20%20%20%20%20%20%20%20%22openstreetmap%22%20%3A%20tile_layer_a81444c0adba422cbb3df3ccc98b9d48%2C%0A%20%20%20%20%20%20%20%20%20%20%20%20%20%20%20%20%7D%2C%0A%20%20%20%20%20%20%20%20%20%20%20%20%20%20%20%20overlays%20%3A%20%20%7B%0A%20%20%20%20%20%20%20%20%20%20%20%20%20%20%20%20%20%20%20%20%22Google%20Maps%22%20%3A%20tile_layer_dfee9fa06964451e83f7784287573272%2C%0A%20%20%20%20%20%20%20%20%20%20%20%20%20%20%20%20%20%20%20%20%22First%20image%22%20%3A%20tile_layer_c9cf0db0994e4de294fe664ede77e575%2C%0A%20%20%20%20%20%20%20%20%20%20%20%20%20%20%20%20%20%20%20%20%22Night%20image%3A%202019%22%20%3A%20tile_layer_a592dc5f9d8f463dae065dfbe612fb47%2C%0A%20%20%20%20%20%20%20%20%20%20%20%20%20%20%20%20%20%20%20%20%22Night%20image%3A%202020%22%20%3A%20tile_layer_98626335e0694647a18949d0dc77b775%2C%0A%20%20%20%20%20%20%20%20%20%20%20%20%20%20%20%20%7D%2C%0A%20%20%20%20%20%20%20%20%20%20%20%20%7D%3B%0A%20%20%20%20%20%20%20%20%20%20%20%20L.control.layers%28%0A%20%20%20%20%20%20%20%20%20%20%20%20%20%20%20%20layer_control_280b1fc065ee4997bf3ec55aab90891e.base_layers%2C%0A%20%20%20%20%20%20%20%20%20%20%20%20%20%20%20%20layer_control_280b1fc065ee4997bf3ec55aab90891e.overlays%2C%0A%20%20%20%20%20%20%20%20%20%20%20%20%20%20%20%20%7B%22autoZIndex%22%3A%20true%2C%20%22collapsed%22%3A%20true%2C%20%22position%22%3A%20%22topright%22%7D%0A%20%20%20%20%20%20%20%20%20%20%20%20%29.addTo%28map_63195648828044e1b75b3982e16ebf6d%29%3B%0A%20%20%20%20%20%20%20%20%0A%3C/script%3E onload=\"this.contentDocument.open();this.contentDocument.write(    decodeURIComponent(this.getAttribute('data-html')));this.contentDocument.close();\" allowfullscreen webkitallowfullscreen mozallowfullscreen></iframe></div></div>"
            ],
            "text/plain": [
              "<geemap.foliumap.Map at 0x7fa0f7f2f410>"
            ]
          },
          "metadata": {
            "tags": []
          },
          "execution_count": 76
        }
      ]
    },
    {
      "cell_type": "markdown",
      "metadata": {
        "id": "qz1aT4UO3QqP"
      },
      "source": [
        "## Select the best image each year"
      ]
    },
    {
      "cell_type": "code",
      "metadata": {
        "id": "RbgkMCfu3QqQ"
      },
      "source": [
        "roi = ee.Geometry.Point(-83.92, 35.96)  # Knoxville, Tennessee\n",
        "\n",
        "\n",
        "def best_image(year):\n",
        "    start_date = ee.Date.fromYMD(year, 1, 1)\n",
        "    end_date = start_date.advance(1, 'year')\n",
        "    \n",
        "    image = ee.ImageCollection('LANDSAT/LC08/C01/T1_SR') \\\n",
        "        .filterBounds(roi) \\\n",
        "        .filterDate(start_date, end_date) \\\n",
        "        .sort(\"CLOUD_COVER\") \\\n",
        "        .first() # first image, which is the best image with the least cloud cover\n",
        "    \n",
        "    return image"
      ],
      "execution_count": 34,
      "outputs": []
    },
    {
      "cell_type": "code",
      "metadata": {
        "id": "VaB5wW1u3QqQ",
        "colab": {
          "base_uri": "https://localhost:8080/"
        },
        "outputId": "a362e739-ce77-4c9c-c3d7-3ea5b9806015"
      },
      "source": [
        "start_year = 2013\n",
        "end_year = 2020\n",
        "years = ee.List.sequence(start_year, end_year)\n",
        "year_list = years.getInfo()\n",
        "print(year_list)"
      ],
      "execution_count": 35,
      "outputs": [
        {
          "output_type": "stream",
          "text": [
            "[2013, 2014, 2015, 2016, 2017, 2018, 2019, 2020]\n"
          ],
          "name": "stdout"
        }
      ]
    },
    {
      "cell_type": "code",
      "metadata": {
        "id": "t1XSSvUr3QqQ"
      },
      "source": [
        "images = years.map(best_image)"
      ],
      "execution_count": 36,
      "outputs": []
    },
    {
      "cell_type": "code",
      "metadata": {
        "id": "McbLcIF53QqQ",
        "colab": {
          "base_uri": "https://localhost:8080/"
        },
        "outputId": "63e164b8-d32e-42b1-ac97-3a0ce4433698"
      },
      "source": [
        "count = images.size().getInfo()\n",
        "print(count)"
      ],
      "execution_count": 37,
      "outputs": [
        {
          "output_type": "stream",
          "text": [
            "8\n"
          ],
          "name": "stdout"
        }
      ]
    },
    {
      "cell_type": "code",
      "metadata": {
        "id": "brSR4LHS3QqQ",
        "colab": {
          "base_uri": "https://localhost:8080/"
        },
        "outputId": "9cb9797f-13ad-4c10-f055-5a7eb0261d4e"
      },
      "source": [
        "ee.ImageCollection(images).aggregate_array(\"CLOUD_COVER\").getInfo()"
      ],
      "execution_count": 38,
      "outputs": [
        {
          "output_type": "execute_result",
          "data": {
            "text/plain": [
              "[0.09, 0.13, 0.03, 0.01, 0.03, 0.01, 0.06, 4.61]"
            ]
          },
          "metadata": {
            "tags": []
          },
          "execution_count": 38
        }
      ]
    },
    {
      "cell_type": "code",
      "metadata": {
        "id": "0dyqzf7U3QqR"
      },
      "source": [
        "Map = geemap.Map()\n",
        "for index in range(0, count):\n",
        "    image = ee.Image(images.get(index))\n",
        "    layer_name = \"Image \" + str(year_list[index])\n",
        "    Map.addLayer(image, vis_params, layer_name, False)"
      ],
      "execution_count": 46,
      "outputs": []
    },
    {
      "cell_type": "code",
      "metadata": {
        "id": "Xwa02tux3QqR",
        "colab": {
          "base_uri": "https://localhost:8080/",
          "height": 808
        },
        "outputId": "b6e7b308-3a60-4996-bad3-d03ff9c4ba7d"
      },
      "source": [
        "Map.centerObject(roi)\n",
        "Map"
      ],
      "execution_count": 47,
      "outputs": [
        {
          "output_type": "execute_result",
          "data": {
            "text/html": [
              "<div style=\"width:100%;\"><div style=\"position:relative;width:100%;height:0;padding-bottom:60%;\"><span style=\"color:#565656\">Make this Notebook Trusted to load map: File -> Trust Notebook</span><iframe src=\"about:blank\" style=\"position:absolute;width:100%;height:100%;left:0;top:0;border:none !important;\" data-html=%3C%21DOCTYPE%20html%3E%0A%3Chead%3E%20%20%20%20%0A%20%20%20%20%3Cmeta%20http-equiv%3D%22content-type%22%20content%3D%22text/html%3B%20charset%3DUTF-8%22%20/%3E%0A%20%20%20%20%0A%20%20%20%20%20%20%20%20%3Cscript%3E%0A%20%20%20%20%20%20%20%20%20%20%20%20L_NO_TOUCH%20%3D%20false%3B%0A%20%20%20%20%20%20%20%20%20%20%20%20L_DISABLE_3D%20%3D%20false%3B%0A%20%20%20%20%20%20%20%20%3C/script%3E%0A%20%20%20%20%0A%20%20%20%20%3Cstyle%3Ehtml%2C%20body%20%7Bwidth%3A%20100%25%3Bheight%3A%20100%25%3Bmargin%3A%200%3Bpadding%3A%200%3B%7D%3C/style%3E%0A%20%20%20%20%3Cstyle%3E%23map%20%7Bposition%3Aabsolute%3Btop%3A0%3Bbottom%3A0%3Bright%3A0%3Bleft%3A0%3B%7D%3C/style%3E%0A%20%20%20%20%3Cscript%20src%3D%22https%3A//cdn.jsdelivr.net/npm/leaflet%401.6.0/dist/leaflet.js%22%3E%3C/script%3E%0A%20%20%20%20%3Cscript%20src%3D%22https%3A//code.jquery.com/jquery-1.12.4.min.js%22%3E%3C/script%3E%0A%20%20%20%20%3Cscript%20src%3D%22https%3A//maxcdn.bootstrapcdn.com/bootstrap/3.2.0/js/bootstrap.min.js%22%3E%3C/script%3E%0A%20%20%20%20%3Cscript%20src%3D%22https%3A//cdnjs.cloudflare.com/ajax/libs/Leaflet.awesome-markers/2.0.2/leaflet.awesome-markers.js%22%3E%3C/script%3E%0A%20%20%20%20%3Clink%20rel%3D%22stylesheet%22%20href%3D%22https%3A//cdn.jsdelivr.net/npm/leaflet%401.6.0/dist/leaflet.css%22/%3E%0A%20%20%20%20%3Clink%20rel%3D%22stylesheet%22%20href%3D%22https%3A//maxcdn.bootstrapcdn.com/bootstrap/3.2.0/css/bootstrap.min.css%22/%3E%0A%20%20%20%20%3Clink%20rel%3D%22stylesheet%22%20href%3D%22https%3A//maxcdn.bootstrapcdn.com/bootstrap/3.2.0/css/bootstrap-theme.min.css%22/%3E%0A%20%20%20%20%3Clink%20rel%3D%22stylesheet%22%20href%3D%22https%3A//maxcdn.bootstrapcdn.com/font-awesome/4.6.3/css/font-awesome.min.css%22/%3E%0A%20%20%20%20%3Clink%20rel%3D%22stylesheet%22%20href%3D%22https%3A//cdnjs.cloudflare.com/ajax/libs/Leaflet.awesome-markers/2.0.2/leaflet.awesome-markers.css%22/%3E%0A%20%20%20%20%3Clink%20rel%3D%22stylesheet%22%20href%3D%22https%3A//cdn.jsdelivr.net/gh/python-visualization/folium/folium/templates/leaflet.awesome.rotate.min.css%22/%3E%0A%20%20%20%20%0A%20%20%20%20%20%20%20%20%20%20%20%20%3Cmeta%20name%3D%22viewport%22%20content%3D%22width%3Ddevice-width%2C%0A%20%20%20%20%20%20%20%20%20%20%20%20%20%20%20%20initial-scale%3D1.0%2C%20maximum-scale%3D1.0%2C%20user-scalable%3Dno%22%20/%3E%0A%20%20%20%20%20%20%20%20%20%20%20%20%3Cstyle%3E%0A%20%20%20%20%20%20%20%20%20%20%20%20%20%20%20%20%23map_5b87dbc0c78f4775bb301f030e7ca5ed%20%7B%0A%20%20%20%20%20%20%20%20%20%20%20%20%20%20%20%20%20%20%20%20position%3A%20relative%3B%0A%20%20%20%20%20%20%20%20%20%20%20%20%20%20%20%20%20%20%20%20width%3A%20100.0%25%3B%0A%20%20%20%20%20%20%20%20%20%20%20%20%20%20%20%20%20%20%20%20height%3A%20100.0%25%3B%0A%20%20%20%20%20%20%20%20%20%20%20%20%20%20%20%20%20%20%20%20left%3A%200.0%25%3B%0A%20%20%20%20%20%20%20%20%20%20%20%20%20%20%20%20%20%20%20%20top%3A%200.0%25%3B%0A%20%20%20%20%20%20%20%20%20%20%20%20%20%20%20%20%7D%0A%20%20%20%20%20%20%20%20%20%20%20%20%3C/style%3E%0A%20%20%20%20%20%20%20%20%0A%20%20%20%20%3Cscript%20src%3D%22https%3A//cdnjs.cloudflare.com/ajax/libs/leaflet.fullscreen/1.4.2/Control.FullScreen.min.js%22%3E%3C/script%3E%0A%20%20%20%20%3Clink%20rel%3D%22stylesheet%22%20href%3D%22https%3A//cdnjs.cloudflare.com/ajax/libs/leaflet.fullscreen/1.4.2/Control.FullScreen.min.css%22/%3E%0A%3C/head%3E%0A%3Cbody%3E%20%20%20%20%0A%20%20%20%20%0A%20%20%20%20%20%20%20%20%20%20%20%20%3Cdiv%20class%3D%22folium-map%22%20id%3D%22map_5b87dbc0c78f4775bb301f030e7ca5ed%22%20%3E%3C/div%3E%0A%20%20%20%20%20%20%20%20%0A%3C/body%3E%0A%3Cscript%3E%20%20%20%20%0A%20%20%20%20%0A%20%20%20%20%20%20%20%20%20%20%20%20var%20map_5b87dbc0c78f4775bb301f030e7ca5ed%20%3D%20L.map%28%0A%20%20%20%20%20%20%20%20%20%20%20%20%20%20%20%20%22map_5b87dbc0c78f4775bb301f030e7ca5ed%22%2C%0A%20%20%20%20%20%20%20%20%20%20%20%20%20%20%20%20%7B%0A%20%20%20%20%20%20%20%20%20%20%20%20%20%20%20%20%20%20%20%20center%3A%20%5B40.0%2C%20-100.0%5D%2C%0A%20%20%20%20%20%20%20%20%20%20%20%20%20%20%20%20%20%20%20%20crs%3A%20L.CRS.EPSG3857%2C%0A%20%20%20%20%20%20%20%20%20%20%20%20%20%20%20%20%20%20%20%20zoom%3A%204%2C%0A%20%20%20%20%20%20%20%20%20%20%20%20%20%20%20%20%20%20%20%20zoomControl%3A%20true%2C%0A%20%20%20%20%20%20%20%20%20%20%20%20%20%20%20%20%20%20%20%20preferCanvas%3A%20false%2C%0A%20%20%20%20%20%20%20%20%20%20%20%20%20%20%20%20%20%20%20%20eeInitialize%3A%20true%2C%0A%20%20%20%20%20%20%20%20%20%20%20%20%20%20%20%20%20%20%20%20addGoogleMap%3A%20true%2C%0A%20%20%20%20%20%20%20%20%20%20%20%20%20%20%20%20%20%20%20%20pluginLatlngpopup%3A%20true%2C%0A%20%20%20%20%20%20%20%20%20%20%20%20%20%20%20%20%20%20%20%20pluginFullscreen%3A%20true%2C%0A%20%20%20%20%20%20%20%20%20%20%20%20%20%20%20%20%20%20%20%20pluginDraw%3A%20false%2C%0A%20%20%20%20%20%20%20%20%20%20%20%20%20%20%20%20%20%20%20%20DrawExport%3A%20true%2C%0A%20%20%20%20%20%20%20%20%20%20%20%20%20%20%20%20%20%20%20%20pluginMinimap%3A%20false%2C%0A%20%20%20%20%20%20%20%20%20%20%20%20%20%20%20%20%20%20%20%20pluginLayercontrol%3A%20false%2C%0A%20%20%20%20%20%20%20%20%20%20%20%20%20%20%20%20%7D%0A%20%20%20%20%20%20%20%20%20%20%20%20%29%3B%0A%0A%20%20%20%20%20%20%20%20%20%20%20%20%0A%0A%20%20%20%20%20%20%20%20%0A%20%20%20%20%0A%20%20%20%20%20%20%20%20%20%20%20%20var%20tile_layer_0c68f1d3fcf44e2e8d4c49f689ced2fa%20%3D%20L.tileLayer%28%0A%20%20%20%20%20%20%20%20%20%20%20%20%20%20%20%20%22https%3A//%7Bs%7D.tile.openstreetmap.org/%7Bz%7D/%7Bx%7D/%7By%7D.png%22%2C%0A%20%20%20%20%20%20%20%20%20%20%20%20%20%20%20%20%7B%22attribution%22%3A%20%22Data%20by%20%5Cu0026copy%3B%20%5Cu003ca%20href%3D%5C%22http%3A//openstreetmap.org%5C%22%5Cu003eOpenStreetMap%5Cu003c/a%5Cu003e%2C%20under%20%5Cu003ca%20href%3D%5C%22http%3A//www.openstreetmap.org/copyright%5C%22%5Cu003eODbL%5Cu003c/a%5Cu003e.%22%2C%20%22detectRetina%22%3A%20false%2C%20%22maxNativeZoom%22%3A%2018%2C%20%22maxZoom%22%3A%2018%2C%20%22minZoom%22%3A%200%2C%20%22noWrap%22%3A%20false%2C%20%22opacity%22%3A%201%2C%20%22subdomains%22%3A%20%22abc%22%2C%20%22tms%22%3A%20false%7D%0A%20%20%20%20%20%20%20%20%20%20%20%20%29.addTo%28map_5b87dbc0c78f4775bb301f030e7ca5ed%29%3B%0A%20%20%20%20%20%20%20%20%0A%20%20%20%20%0A%20%20%20%20%20%20%20%20%20%20%20%20var%20tile_layer_dfee9fa06964451e83f7784287573272%20%3D%20L.tileLayer%28%0A%20%20%20%20%20%20%20%20%20%20%20%20%20%20%20%20%22https%3A//mt1.google.com/vt/lyrs%3Dm%5Cu0026x%3D%7Bx%7D%5Cu0026y%3D%7By%7D%5Cu0026z%3D%7Bz%7D%22%2C%0A%20%20%20%20%20%20%20%20%20%20%20%20%20%20%20%20%7B%22attribution%22%3A%20%22Google%22%2C%20%22detectRetina%22%3A%20false%2C%20%22maxNativeZoom%22%3A%2018%2C%20%22maxZoom%22%3A%2018%2C%20%22minZoom%22%3A%200%2C%20%22noWrap%22%3A%20false%2C%20%22opacity%22%3A%201%2C%20%22subdomains%22%3A%20%22abc%22%2C%20%22tms%22%3A%20false%7D%0A%20%20%20%20%20%20%20%20%20%20%20%20%29.addTo%28map_5b87dbc0c78f4775bb301f030e7ca5ed%29%3B%0A%20%20%20%20%20%20%20%20%0A%20%20%20%20%0A%20%20%20%20%20%20%20%20%20%20%20%20%20%20%20%20var%20lat_lng_popup_b9eb3442bccf424e9e987c143060ed97%20%3D%20L.popup%28%29%3B%0A%20%20%20%20%20%20%20%20%20%20%20%20%20%20%20%20function%20latLngPop%28e%29%20%7B%0A%20%20%20%20%20%20%20%20%20%20%20%20%20%20%20%20%20%20%20%20lat_lng_popup_b9eb3442bccf424e9e987c143060ed97%0A%20%20%20%20%20%20%20%20%20%20%20%20%20%20%20%20%20%20%20%20%20%20%20%20.setLatLng%28e.latlng%29%0A%20%20%20%20%20%20%20%20%20%20%20%20%20%20%20%20%20%20%20%20%20%20%20%20.setContent%28%22Latitude%3A%20%22%20%2B%20e.latlng.lat.toFixed%284%29%20%2B%0A%20%20%20%20%20%20%20%20%20%20%20%20%20%20%20%20%20%20%20%20%20%20%20%20%20%20%20%20%20%20%20%20%20%20%20%20%22%3Cbr%3ELongitude%3A%20%22%20%2B%20e.latlng.lng.toFixed%284%29%29%0A%20%20%20%20%20%20%20%20%20%20%20%20%20%20%20%20%20%20%20%20%20%20%20%20.openOn%28map_5b87dbc0c78f4775bb301f030e7ca5ed%29%3B%0A%20%20%20%20%20%20%20%20%20%20%20%20%20%20%20%20%20%20%20%20%7D%0A%20%20%20%20%20%20%20%20%20%20%20%20%20%20%20%20map_5b87dbc0c78f4775bb301f030e7ca5ed.on%28%27click%27%2C%20latLngPop%29%3B%0A%20%20%20%20%20%20%20%20%20%20%20%20%0A%20%20%20%20%0A%20%20%20%20%20%20%20%20%20%20%20%20L.control.fullscreen%28%0A%20%20%20%20%20%20%20%20%20%20%20%20%20%20%20%20%7B%22forceSeparateButton%22%3A%20false%2C%20%22position%22%3A%20%22topleft%22%2C%20%22title%22%3A%20%22Full%20Screen%22%2C%20%22titleCancel%22%3A%20%22Exit%20Full%20Screen%22%7D%0A%20%20%20%20%20%20%20%20%20%20%20%20%29.addTo%28map_5b87dbc0c78f4775bb301f030e7ca5ed%29%3B%0A%20%20%20%20%20%20%20%20%0A%20%20%20%20%0A%20%20%20%20%20%20%20%20%20%20%20%20map_5b87dbc0c78f4775bb301f030e7ca5ed.fitBounds%28%0A%20%20%20%20%20%20%20%20%20%20%20%20%20%20%20%20%5B%5B40%2C%20-100%5D%2C%20%5B40%2C%20-100%5D%5D%2C%0A%20%20%20%20%20%20%20%20%20%20%20%20%20%20%20%20%7B%22maxZoom%22%3A%204%7D%0A%20%20%20%20%20%20%20%20%20%20%20%20%29%3B%0A%20%20%20%20%20%20%20%20%0A%20%20%20%20%0A%20%20%20%20%20%20%20%20%20%20%20%20var%20tile_layer_07a2f150c2704794bfce9bb89641b406%20%3D%20L.tileLayer%28%0A%20%20%20%20%20%20%20%20%20%20%20%20%20%20%20%20%22https%3A//earthengine.googleapis.com/v1alpha/projects/earthengine-legacy/maps/adac18ae14d27d1c84f529ef7d4dcea5-91ed87739e5ee11d683d80c65d583a40/tiles/%7Bz%7D/%7Bx%7D/%7By%7D%22%2C%0A%20%20%20%20%20%20%20%20%20%20%20%20%20%20%20%20%7B%22attribution%22%3A%20%22Google%20Earth%20Engine%22%2C%20%22detectRetina%22%3A%20false%2C%20%22maxNativeZoom%22%3A%2018%2C%20%22maxZoom%22%3A%2018%2C%20%22minZoom%22%3A%200%2C%20%22noWrap%22%3A%20false%2C%20%22opacity%22%3A%201.0%2C%20%22subdomains%22%3A%20%22abc%22%2C%20%22tms%22%3A%20false%7D%0A%20%20%20%20%20%20%20%20%20%20%20%20%29.addTo%28map_5b87dbc0c78f4775bb301f030e7ca5ed%29%3B%0A%20%20%20%20%20%20%20%20%0A%20%20%20%20%0A%20%20%20%20%20%20%20%20%20%20%20%20var%20tile_layer_c388ed07f26d486da53f1e8c8e289d4c%20%3D%20L.tileLayer%28%0A%20%20%20%20%20%20%20%20%20%20%20%20%20%20%20%20%22https%3A//earthengine.googleapis.com/v1alpha/projects/earthengine-legacy/maps/82df73b213b0ecb13551fa2a13c7138d-eb57c75d607ead90bf349d13d199c938/tiles/%7Bz%7D/%7Bx%7D/%7By%7D%22%2C%0A%20%20%20%20%20%20%20%20%20%20%20%20%20%20%20%20%7B%22attribution%22%3A%20%22Google%20Earth%20Engine%22%2C%20%22detectRetina%22%3A%20false%2C%20%22maxNativeZoom%22%3A%2018%2C%20%22maxZoom%22%3A%2018%2C%20%22minZoom%22%3A%200%2C%20%22noWrap%22%3A%20false%2C%20%22opacity%22%3A%201.0%2C%20%22subdomains%22%3A%20%22abc%22%2C%20%22tms%22%3A%20false%7D%0A%20%20%20%20%20%20%20%20%20%20%20%20%29.addTo%28map_5b87dbc0c78f4775bb301f030e7ca5ed%29%3B%0A%20%20%20%20%20%20%20%20%0A%20%20%20%20%0A%20%20%20%20%20%20%20%20%20%20%20%20var%20tile_layer_5c5e261320ef4cfe94dd4ec141f3c6c7%20%3D%20L.tileLayer%28%0A%20%20%20%20%20%20%20%20%20%20%20%20%20%20%20%20%22https%3A//earthengine.googleapis.com/v1alpha/projects/earthengine-legacy/maps/26afccd15b5ff8ee943773b572fa6cbb-378c51faf12022cc5b8c2ba63c4b4691/tiles/%7Bz%7D/%7Bx%7D/%7By%7D%22%2C%0A%20%20%20%20%20%20%20%20%20%20%20%20%20%20%20%20%7B%22attribution%22%3A%20%22Google%20Earth%20Engine%22%2C%20%22detectRetina%22%3A%20false%2C%20%22maxNativeZoom%22%3A%2018%2C%20%22maxZoom%22%3A%2018%2C%20%22minZoom%22%3A%200%2C%20%22noWrap%22%3A%20false%2C%20%22opacity%22%3A%201.0%2C%20%22subdomains%22%3A%20%22abc%22%2C%20%22tms%22%3A%20false%7D%0A%20%20%20%20%20%20%20%20%20%20%20%20%29.addTo%28map_5b87dbc0c78f4775bb301f030e7ca5ed%29%3B%0A%20%20%20%20%20%20%20%20%0A%20%20%20%20%0A%20%20%20%20%20%20%20%20%20%20%20%20var%20tile_layer_a0f19c457e66489289012a36ef23c29c%20%3D%20L.tileLayer%28%0A%20%20%20%20%20%20%20%20%20%20%20%20%20%20%20%20%22https%3A//earthengine.googleapis.com/v1alpha/projects/earthengine-legacy/maps/71a7215c04278f3fd97e5524bdea3c5b-bb2de9169c4ac5ec415a4d05bdb39928/tiles/%7Bz%7D/%7Bx%7D/%7By%7D%22%2C%0A%20%20%20%20%20%20%20%20%20%20%20%20%20%20%20%20%7B%22attribution%22%3A%20%22Google%20Earth%20Engine%22%2C%20%22detectRetina%22%3A%20false%2C%20%22maxNativeZoom%22%3A%2018%2C%20%22maxZoom%22%3A%2018%2C%20%22minZoom%22%3A%200%2C%20%22noWrap%22%3A%20false%2C%20%22opacity%22%3A%201.0%2C%20%22subdomains%22%3A%20%22abc%22%2C%20%22tms%22%3A%20false%7D%0A%20%20%20%20%20%20%20%20%20%20%20%20%29.addTo%28map_5b87dbc0c78f4775bb301f030e7ca5ed%29%3B%0A%20%20%20%20%20%20%20%20%0A%20%20%20%20%0A%20%20%20%20%20%20%20%20%20%20%20%20var%20tile_layer_556a8af04bb848048229716feec7483d%20%3D%20L.tileLayer%28%0A%20%20%20%20%20%20%20%20%20%20%20%20%20%20%20%20%22https%3A//earthengine.googleapis.com/v1alpha/projects/earthengine-legacy/maps/e6725f6a87fcc138ac57f0546931c91b-52fe75d3de1df7007639d72a4908965e/tiles/%7Bz%7D/%7Bx%7D/%7By%7D%22%2C%0A%20%20%20%20%20%20%20%20%20%20%20%20%20%20%20%20%7B%22attribution%22%3A%20%22Google%20Earth%20Engine%22%2C%20%22detectRetina%22%3A%20false%2C%20%22maxNativeZoom%22%3A%2018%2C%20%22maxZoom%22%3A%2018%2C%20%22minZoom%22%3A%200%2C%20%22noWrap%22%3A%20false%2C%20%22opacity%22%3A%201.0%2C%20%22subdomains%22%3A%20%22abc%22%2C%20%22tms%22%3A%20false%7D%0A%20%20%20%20%20%20%20%20%20%20%20%20%29.addTo%28map_5b87dbc0c78f4775bb301f030e7ca5ed%29%3B%0A%20%20%20%20%20%20%20%20%0A%20%20%20%20%0A%20%20%20%20%20%20%20%20%20%20%20%20var%20tile_layer_a13447ea0546461d8684201201f663e7%20%3D%20L.tileLayer%28%0A%20%20%20%20%20%20%20%20%20%20%20%20%20%20%20%20%22https%3A//earthengine.googleapis.com/v1alpha/projects/earthengine-legacy/maps/c32a9f0c3f1f654d261f7eed79354f5f-68ebb3748d7da03732ffc46c7993ad0b/tiles/%7Bz%7D/%7Bx%7D/%7By%7D%22%2C%0A%20%20%20%20%20%20%20%20%20%20%20%20%20%20%20%20%7B%22attribution%22%3A%20%22Google%20Earth%20Engine%22%2C%20%22detectRetina%22%3A%20false%2C%20%22maxNativeZoom%22%3A%2018%2C%20%22maxZoom%22%3A%2018%2C%20%22minZoom%22%3A%200%2C%20%22noWrap%22%3A%20false%2C%20%22opacity%22%3A%201.0%2C%20%22subdomains%22%3A%20%22abc%22%2C%20%22tms%22%3A%20false%7D%0A%20%20%20%20%20%20%20%20%20%20%20%20%29.addTo%28map_5b87dbc0c78f4775bb301f030e7ca5ed%29%3B%0A%20%20%20%20%20%20%20%20%0A%20%20%20%20%0A%20%20%20%20%20%20%20%20%20%20%20%20var%20tile_layer_29853be3ac584448bd40d26e48a77284%20%3D%20L.tileLayer%28%0A%20%20%20%20%20%20%20%20%20%20%20%20%20%20%20%20%22https%3A//earthengine.googleapis.com/v1alpha/projects/earthengine-legacy/maps/c6bd9716bf549b4cc63fee5cae0cc739-78de9a479349ff457434a6508b4e1573/tiles/%7Bz%7D/%7Bx%7D/%7By%7D%22%2C%0A%20%20%20%20%20%20%20%20%20%20%20%20%20%20%20%20%7B%22attribution%22%3A%20%22Google%20Earth%20Engine%22%2C%20%22detectRetina%22%3A%20false%2C%20%22maxNativeZoom%22%3A%2018%2C%20%22maxZoom%22%3A%2018%2C%20%22minZoom%22%3A%200%2C%20%22noWrap%22%3A%20false%2C%20%22opacity%22%3A%201.0%2C%20%22subdomains%22%3A%20%22abc%22%2C%20%22tms%22%3A%20false%7D%0A%20%20%20%20%20%20%20%20%20%20%20%20%29.addTo%28map_5b87dbc0c78f4775bb301f030e7ca5ed%29%3B%0A%20%20%20%20%20%20%20%20%0A%20%20%20%20%0A%20%20%20%20%20%20%20%20%20%20%20%20var%20tile_layer_fbe370011d5c4d7b97e55a8e6ce5bd91%20%3D%20L.tileLayer%28%0A%20%20%20%20%20%20%20%20%20%20%20%20%20%20%20%20%22https%3A//earthengine.googleapis.com/v1alpha/projects/earthengine-legacy/maps/856329ddd659c5366f4c54b664dce51d-47a09be46506860b3c7bfa6d466b49c5/tiles/%7Bz%7D/%7Bx%7D/%7By%7D%22%2C%0A%20%20%20%20%20%20%20%20%20%20%20%20%20%20%20%20%7B%22attribution%22%3A%20%22Google%20Earth%20Engine%22%2C%20%22detectRetina%22%3A%20false%2C%20%22maxNativeZoom%22%3A%2018%2C%20%22maxZoom%22%3A%2018%2C%20%22minZoom%22%3A%200%2C%20%22noWrap%22%3A%20false%2C%20%22opacity%22%3A%201.0%2C%20%22subdomains%22%3A%20%22abc%22%2C%20%22tms%22%3A%20false%7D%0A%20%20%20%20%20%20%20%20%20%20%20%20%29.addTo%28map_5b87dbc0c78f4775bb301f030e7ca5ed%29%3B%0A%20%20%20%20%20%20%20%20%0A%20%20%20%20%0A%20%20%20%20%20%20%20%20%20%20%20%20map_5b87dbc0c78f4775bb301f030e7ca5ed.fitBounds%28%0A%20%20%20%20%20%20%20%20%20%20%20%20%20%20%20%20%5B%5B35.96%2C%20-83.92000000000002%5D%2C%20%5B35.96%2C%20-83.92000000000002%5D%5D%2C%0A%20%20%20%20%20%20%20%20%20%20%20%20%20%20%20%20%7B%22maxZoom%22%3A%2010%7D%0A%20%20%20%20%20%20%20%20%20%20%20%20%29%3B%0A%20%20%20%20%20%20%20%20%0A%20%20%20%20%0A%20%20%20%20%20%20%20%20%20%20%20%20var%20layer_control_7a80899eeec74304bbfe947f235c288c%20%3D%20%7B%0A%20%20%20%20%20%20%20%20%20%20%20%20%20%20%20%20base_layers%20%3A%20%7B%0A%20%20%20%20%20%20%20%20%20%20%20%20%20%20%20%20%20%20%20%20%22openstreetmap%22%20%3A%20tile_layer_0c68f1d3fcf44e2e8d4c49f689ced2fa%2C%0A%20%20%20%20%20%20%20%20%20%20%20%20%20%20%20%20%7D%2C%0A%20%20%20%20%20%20%20%20%20%20%20%20%20%20%20%20overlays%20%3A%20%20%7B%0A%20%20%20%20%20%20%20%20%20%20%20%20%20%20%20%20%20%20%20%20%22Google%20Maps%22%20%3A%20tile_layer_dfee9fa06964451e83f7784287573272%2C%0A%20%20%20%20%20%20%20%20%20%20%20%20%20%20%20%20%20%20%20%20%22Image%202013%22%20%3A%20tile_layer_07a2f150c2704794bfce9bb89641b406%2C%0A%20%20%20%20%20%20%20%20%20%20%20%20%20%20%20%20%20%20%20%20%22Image%202014%22%20%3A%20tile_layer_c388ed07f26d486da53f1e8c8e289d4c%2C%0A%20%20%20%20%20%20%20%20%20%20%20%20%20%20%20%20%20%20%20%20%22Image%202015%22%20%3A%20tile_layer_5c5e261320ef4cfe94dd4ec141f3c6c7%2C%0A%20%20%20%20%20%20%20%20%20%20%20%20%20%20%20%20%20%20%20%20%22Image%202016%22%20%3A%20tile_layer_a0f19c457e66489289012a36ef23c29c%2C%0A%20%20%20%20%20%20%20%20%20%20%20%20%20%20%20%20%20%20%20%20%22Image%202017%22%20%3A%20tile_layer_556a8af04bb848048229716feec7483d%2C%0A%20%20%20%20%20%20%20%20%20%20%20%20%20%20%20%20%20%20%20%20%22Image%202018%22%20%3A%20tile_layer_a13447ea0546461d8684201201f663e7%2C%0A%20%20%20%20%20%20%20%20%20%20%20%20%20%20%20%20%20%20%20%20%22Image%202019%22%20%3A%20tile_layer_29853be3ac584448bd40d26e48a77284%2C%0A%20%20%20%20%20%20%20%20%20%20%20%20%20%20%20%20%20%20%20%20%22Image%202020%22%20%3A%20tile_layer_fbe370011d5c4d7b97e55a8e6ce5bd91%2C%0A%20%20%20%20%20%20%20%20%20%20%20%20%20%20%20%20%7D%2C%0A%20%20%20%20%20%20%20%20%20%20%20%20%7D%3B%0A%20%20%20%20%20%20%20%20%20%20%20%20L.control.layers%28%0A%20%20%20%20%20%20%20%20%20%20%20%20%20%20%20%20layer_control_7a80899eeec74304bbfe947f235c288c.base_layers%2C%0A%20%20%20%20%20%20%20%20%20%20%20%20%20%20%20%20layer_control_7a80899eeec74304bbfe947f235c288c.overlays%2C%0A%20%20%20%20%20%20%20%20%20%20%20%20%20%20%20%20%7B%22autoZIndex%22%3A%20true%2C%20%22collapsed%22%3A%20true%2C%20%22position%22%3A%20%22topright%22%7D%0A%20%20%20%20%20%20%20%20%20%20%20%20%29.addTo%28map_5b87dbc0c78f4775bb301f030e7ca5ed%29%3B%0A%20%20%20%20%20%20%20%20%20%20%20%20tile_layer_07a2f150c2704794bfce9bb89641b406.remove%28%29%3B%0A%20%20%20%20%20%20%20%20%20%20%20%20tile_layer_c388ed07f26d486da53f1e8c8e289d4c.remove%28%29%3B%0A%20%20%20%20%20%20%20%20%20%20%20%20tile_layer_5c5e261320ef4cfe94dd4ec141f3c6c7.remove%28%29%3B%0A%20%20%20%20%20%20%20%20%20%20%20%20tile_layer_a0f19c457e66489289012a36ef23c29c.remove%28%29%3B%0A%20%20%20%20%20%20%20%20%20%20%20%20tile_layer_556a8af04bb848048229716feec7483d.remove%28%29%3B%0A%20%20%20%20%20%20%20%20%20%20%20%20tile_layer_a13447ea0546461d8684201201f663e7.remove%28%29%3B%0A%20%20%20%20%20%20%20%20%20%20%20%20tile_layer_29853be3ac584448bd40d26e48a77284.remove%28%29%3B%0A%20%20%20%20%20%20%20%20%20%20%20%20tile_layer_fbe370011d5c4d7b97e55a8e6ce5bd91.remove%28%29%3B%0A%20%20%20%20%20%20%20%20%0A%3C/script%3E onload=\"this.contentDocument.open();this.contentDocument.write(    decodeURIComponent(this.getAttribute('data-html')));this.contentDocument.close();\" allowfullscreen webkitallowfullscreen mozallowfullscreen></iframe></div></div>"
            ],
            "text/plain": [
              "<geemap.foliumap.Map at 0x7fa0f8153210>"
            ]
          },
          "metadata": {
            "tags": []
          },
          "execution_count": 47
        }
      ]
    },
    {
      "cell_type": "markdown",
      "metadata": {
        "id": "qQbwpQVq3QqR"
      },
      "source": [
        "## Set image properties"
      ]
    },
    {
      "cell_type": "code",
      "metadata": {
        "id": "TWz4FfCs3QqR"
      },
      "source": [
        "collection = ee.ImageCollection(images)"
      ],
      "execution_count": 48,
      "outputs": []
    },
    {
      "cell_type": "code",
      "metadata": {
        "id": "_IhFYvoh3QqR",
        "colab": {
          "base_uri": "https://localhost:8080/"
        },
        "outputId": "f1e19490-a864-4c0f-8b80-b45985762d7c"
      },
      "source": [
        "collection.aggregate_array(\"system:time_start\").getInfo()"
      ],
      "execution_count": 49,
      "outputs": [
        {
          "output_type": "execute_result",
          "data": {
            "text/plain": [
              "[1382804022390,\n",
              " 1399392695740,\n",
              " 1442247113710,\n",
              " 1454688719630,\n",
              " 1494778283540,\n",
              " 1525191067880,\n",
              " 1552839093500,\n",
              " 1591546292340]"
            ]
          },
          "metadata": {
            "tags": []
          },
          "execution_count": 49
        }
      ]
    },
    {
      "cell_type": "code",
      "metadata": {
        "id": "hSnqEsME3QqR"
      },
      "source": [
        "collection = collection.map(lambda img: img.set({\"DATE\": ee.Date(img.get(\"system:time_start\")).format(\"YYYY-MM-dd\")}))"
      ],
      "execution_count": 50,
      "outputs": []
    },
    {
      "cell_type": "code",
      "metadata": {
        "id": "0dPZo7Gu3QqS",
        "colab": {
          "base_uri": "https://localhost:8080/"
        },
        "outputId": "80f2bd50-5326-4257-f7bf-d5fff0725cae"
      },
      "source": [
        "collection.aggregate_array(\"DATE\").getInfo()"
      ],
      "execution_count": 51,
      "outputs": [
        {
          "output_type": "execute_result",
          "data": {
            "text/plain": [
              "['2013-10-26',\n",
              " '2014-05-06',\n",
              " '2015-09-14',\n",
              " '2016-02-05',\n",
              " '2017-05-14',\n",
              " '2018-05-01',\n",
              " '2019-03-17',\n",
              " '2020-06-07']"
            ]
          },
          "metadata": {
            "tags": []
          },
          "execution_count": 51
        }
      ]
    }
  ]
}